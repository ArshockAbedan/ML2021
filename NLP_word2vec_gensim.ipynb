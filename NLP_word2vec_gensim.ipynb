{
  "nbformat": 4,
  "nbformat_minor": 0,
  "metadata": {
    "colab": {
      "name": "NLP_word2vec_gensim.ipynb",
      "provenance": [],
      "authorship_tag": "ABX9TyO2IMtBNBQIVMbRk3EN9f2V",
      "include_colab_link": true
    },
    "kernelspec": {
      "name": "python3",
      "display_name": "Python 3"
    },
    "language_info": {
      "name": "python"
    },
    "accelerator": "GPU"
  },
  "cells": [
    {
      "cell_type": "markdown",
      "metadata": {
        "id": "view-in-github",
        "colab_type": "text"
      },
      "source": [
        "<a href=\"https://colab.research.google.com/github/ArshockAbedan/ML2021/blob/main/NLP_word2vec_gensim.ipynb\" target=\"_parent\"><img src=\"https://colab.research.google.com/assets/colab-badge.svg\" alt=\"Open In Colab\"/></a>"
      ]
    },
    {
      "cell_type": "code",
      "execution_count": null,
      "metadata": {
        "id": "CVoXLlqzVWGc"
      },
      "outputs": [],
      "source": [
        "#pip install gensim"
      ]
    },
    {
      "cell_type": "code",
      "source": [
        "#pip install python-Levenshtein"
      ],
      "metadata": {
        "id": "7RcYChDOVhmv"
      },
      "execution_count": null,
      "outputs": []
    },
    {
      "cell_type": "code",
      "source": [
        "import gensim\n",
        "import pandas as pd"
      ],
      "metadata": {
        "id": "qvRQv65oVubF"
      },
      "execution_count": null,
      "outputs": []
    },
    {
      "cell_type": "markdown",
      "source": [
        "Reading and Exploring the Dataset\n",
        "The dataset we are using here is a subset of Amazon reviews from the Cell Phones & Accessories category. The data is stored as a JSON file and can be read using pandas.\n",
        "\n",
        "Link to the Dataset: http://snap.stanford.edu/data/amazon/productGraph/categoryFiles/reviews_Cell_Phones_and_Accessories_5.json.gz"
      ],
      "metadata": {
        "id": "_uRRZVCkV3KO"
      }
    },
    {
      "cell_type": "code",
      "source": [
        "df = pd.read_json(\"/content/Data/reviews_Cell_Phones_and_Accessories_5.json.gz\", lines=True)\n",
        "df"
      ],
      "metadata": {
        "colab": {
          "base_uri": "https://localhost:8080/",
          "height": 5090
        },
        "id": "RYqToyovV0HQ",
        "outputId": "fe3b7998-40ac-4e9a-f31f-2e06480d0c28"
      },
      "execution_count": 10,
      "outputs": [
        {
          "output_type": "execute_result",
          "data": {
            "text/plain": [
              "            reviewerID        asin       reviewerName helpful  \\\n",
              "0       A30TL5EWN6DFXT  120401325X          christina  [0, 0]   \n",
              "1        ASY55RVNIL0UD  120401325X           emily l.  [0, 0]   \n",
              "2       A2TMXE2AFO7ONB  120401325X              Erica  [0, 0]   \n",
              "3        AWJ0WZQYMYFQ4  120401325X                 JM  [4, 4]   \n",
              "4        ATX7CZYFXI1KW  120401325X   patrice m rogoza  [2, 3]   \n",
              "...                ...         ...                ...     ...   \n",
              "194434  A1YMNTFLNDYQ1F  B00LORXVUE    eyeused2loveher  [0, 0]   \n",
              "194435  A15TX8B2L8B20S  B00LORXVUE       Jon Davidson  [0, 0]   \n",
              "194436  A3JI7QRZO1QG8X  B00LORXVUE  Joyce M. Davidson  [0, 0]   \n",
              "194437  A1NHB2VC68YQNM  B00LORXVUE     Nurse Farrugia  [0, 0]   \n",
              "194438  A1AG6U022WHXBF  B00LORXVUE     Trisha Crocker  [0, 0]   \n",
              "\n",
              "                                               reviewText  overall  \\\n",
              "0       They look good and stick good! I just don't li...        4   \n",
              "1       These stickers work like the review says they ...        5   \n",
              "2       These are awesome and make my phone look so st...        5   \n",
              "3       Item arrived in great time and was in perfect ...        4   \n",
              "4       awesome! stays on, and looks great. can be use...        5   \n",
              "...                                                   ...      ...   \n",
              "194434  Works great just like my original one. I reall...        5   \n",
              "194435  Great product. Great packaging. High quality a...        5   \n",
              "194436  This is a great cable, just as good as the mor...        5   \n",
              "194437  I really like it becasue it works well with my...        5   \n",
              "194438  product as described, I have wasted a lot of m...        5   \n",
              "\n",
              "                                                  summary  unixReviewTime  \\\n",
              "0                                              Looks Good      1400630400   \n",
              "1                                   Really great product.      1389657600   \n",
              "2                                          LOVE LOVE LOVE      1403740800   \n",
              "3                                                   Cute!      1382313600   \n",
              "4               leopard home button sticker for iphone 4s      1359849600   \n",
              "...                                                   ...             ...   \n",
              "194434                           This works just perfect!      1405900800   \n",
              "194435           Great replacement cable. Apple certified      1405900800   \n",
              "194436                                       Real quality      1405900800   \n",
              "194437  I really like it becasue it works well with my...      1405814400   \n",
              "194438              I have wasted a lot of money on cords      1405900800   \n",
              "\n",
              "         reviewTime  \n",
              "0       05 21, 2014  \n",
              "1       01 14, 2014  \n",
              "2       06 26, 2014  \n",
              "3       10 21, 2013  \n",
              "4        02 3, 2013  \n",
              "...             ...  \n",
              "194434  07 21, 2014  \n",
              "194435  07 21, 2014  \n",
              "194436  07 21, 2014  \n",
              "194437  07 20, 2014  \n",
              "194438  07 21, 2014  \n",
              "\n",
              "[194439 rows x 9 columns]"
            ],
            "text/html": [
              "\n",
              "  <div id=\"df-9289fc79-3912-4d09-bb76-1f8ec2685d75\">\n",
              "    <div class=\"colab-df-container\">\n",
              "      <div>\n",
              "<style scoped>\n",
              "    .dataframe tbody tr th:only-of-type {\n",
              "        vertical-align: middle;\n",
              "    }\n",
              "\n",
              "    .dataframe tbody tr th {\n",
              "        vertical-align: top;\n",
              "    }\n",
              "\n",
              "    .dataframe thead th {\n",
              "        text-align: right;\n",
              "    }\n",
              "</style>\n",
              "<table border=\"1\" class=\"dataframe\">\n",
              "  <thead>\n",
              "    <tr style=\"text-align: right;\">\n",
              "      <th></th>\n",
              "      <th>reviewerID</th>\n",
              "      <th>asin</th>\n",
              "      <th>reviewerName</th>\n",
              "      <th>helpful</th>\n",
              "      <th>reviewText</th>\n",
              "      <th>overall</th>\n",
              "      <th>summary</th>\n",
              "      <th>unixReviewTime</th>\n",
              "      <th>reviewTime</th>\n",
              "    </tr>\n",
              "  </thead>\n",
              "  <tbody>\n",
              "    <tr>\n",
              "      <th>0</th>\n",
              "      <td>A30TL5EWN6DFXT</td>\n",
              "      <td>120401325X</td>\n",
              "      <td>christina</td>\n",
              "      <td>[0, 0]</td>\n",
              "      <td>They look good and stick good! I just don't li...</td>\n",
              "      <td>4</td>\n",
              "      <td>Looks Good</td>\n",
              "      <td>1400630400</td>\n",
              "      <td>05 21, 2014</td>\n",
              "    </tr>\n",
              "    <tr>\n",
              "      <th>1</th>\n",
              "      <td>ASY55RVNIL0UD</td>\n",
              "      <td>120401325X</td>\n",
              "      <td>emily l.</td>\n",
              "      <td>[0, 0]</td>\n",
              "      <td>These stickers work like the review says they ...</td>\n",
              "      <td>5</td>\n",
              "      <td>Really great product.</td>\n",
              "      <td>1389657600</td>\n",
              "      <td>01 14, 2014</td>\n",
              "    </tr>\n",
              "    <tr>\n",
              "      <th>2</th>\n",
              "      <td>A2TMXE2AFO7ONB</td>\n",
              "      <td>120401325X</td>\n",
              "      <td>Erica</td>\n",
              "      <td>[0, 0]</td>\n",
              "      <td>These are awesome and make my phone look so st...</td>\n",
              "      <td>5</td>\n",
              "      <td>LOVE LOVE LOVE</td>\n",
              "      <td>1403740800</td>\n",
              "      <td>06 26, 2014</td>\n",
              "    </tr>\n",
              "    <tr>\n",
              "      <th>3</th>\n",
              "      <td>AWJ0WZQYMYFQ4</td>\n",
              "      <td>120401325X</td>\n",
              "      <td>JM</td>\n",
              "      <td>[4, 4]</td>\n",
              "      <td>Item arrived in great time and was in perfect ...</td>\n",
              "      <td>4</td>\n",
              "      <td>Cute!</td>\n",
              "      <td>1382313600</td>\n",
              "      <td>10 21, 2013</td>\n",
              "    </tr>\n",
              "    <tr>\n",
              "      <th>4</th>\n",
              "      <td>ATX7CZYFXI1KW</td>\n",
              "      <td>120401325X</td>\n",
              "      <td>patrice m rogoza</td>\n",
              "      <td>[2, 3]</td>\n",
              "      <td>awesome! stays on, and looks great. can be use...</td>\n",
              "      <td>5</td>\n",
              "      <td>leopard home button sticker for iphone 4s</td>\n",
              "      <td>1359849600</td>\n",
              "      <td>02 3, 2013</td>\n",
              "    </tr>\n",
              "    <tr>\n",
              "      <th>...</th>\n",
              "      <td>...</td>\n",
              "      <td>...</td>\n",
              "      <td>...</td>\n",
              "      <td>...</td>\n",
              "      <td>...</td>\n",
              "      <td>...</td>\n",
              "      <td>...</td>\n",
              "      <td>...</td>\n",
              "      <td>...</td>\n",
              "    </tr>\n",
              "    <tr>\n",
              "      <th>194434</th>\n",
              "      <td>A1YMNTFLNDYQ1F</td>\n",
              "      <td>B00LORXVUE</td>\n",
              "      <td>eyeused2loveher</td>\n",
              "      <td>[0, 0]</td>\n",
              "      <td>Works great just like my original one. I reall...</td>\n",
              "      <td>5</td>\n",
              "      <td>This works just perfect!</td>\n",
              "      <td>1405900800</td>\n",
              "      <td>07 21, 2014</td>\n",
              "    </tr>\n",
              "    <tr>\n",
              "      <th>194435</th>\n",
              "      <td>A15TX8B2L8B20S</td>\n",
              "      <td>B00LORXVUE</td>\n",
              "      <td>Jon Davidson</td>\n",
              "      <td>[0, 0]</td>\n",
              "      <td>Great product. Great packaging. High quality a...</td>\n",
              "      <td>5</td>\n",
              "      <td>Great replacement cable. Apple certified</td>\n",
              "      <td>1405900800</td>\n",
              "      <td>07 21, 2014</td>\n",
              "    </tr>\n",
              "    <tr>\n",
              "      <th>194436</th>\n",
              "      <td>A3JI7QRZO1QG8X</td>\n",
              "      <td>B00LORXVUE</td>\n",
              "      <td>Joyce M. Davidson</td>\n",
              "      <td>[0, 0]</td>\n",
              "      <td>This is a great cable, just as good as the mor...</td>\n",
              "      <td>5</td>\n",
              "      <td>Real quality</td>\n",
              "      <td>1405900800</td>\n",
              "      <td>07 21, 2014</td>\n",
              "    </tr>\n",
              "    <tr>\n",
              "      <th>194437</th>\n",
              "      <td>A1NHB2VC68YQNM</td>\n",
              "      <td>B00LORXVUE</td>\n",
              "      <td>Nurse Farrugia</td>\n",
              "      <td>[0, 0]</td>\n",
              "      <td>I really like it becasue it works well with my...</td>\n",
              "      <td>5</td>\n",
              "      <td>I really like it becasue it works well with my...</td>\n",
              "      <td>1405814400</td>\n",
              "      <td>07 20, 2014</td>\n",
              "    </tr>\n",
              "    <tr>\n",
              "      <th>194438</th>\n",
              "      <td>A1AG6U022WHXBF</td>\n",
              "      <td>B00LORXVUE</td>\n",
              "      <td>Trisha Crocker</td>\n",
              "      <td>[0, 0]</td>\n",
              "      <td>product as described, I have wasted a lot of m...</td>\n",
              "      <td>5</td>\n",
              "      <td>I have wasted a lot of money on cords</td>\n",
              "      <td>1405900800</td>\n",
              "      <td>07 21, 2014</td>\n",
              "    </tr>\n",
              "  </tbody>\n",
              "</table>\n",
              "<p>194439 rows × 9 columns</p>\n",
              "</div>\n",
              "      <button class=\"colab-df-convert\" onclick=\"convertToInteractive('df-9289fc79-3912-4d09-bb76-1f8ec2685d75')\"\n",
              "              title=\"Convert this dataframe to an interactive table.\"\n",
              "              style=\"display:none;\">\n",
              "        \n",
              "  <svg xmlns=\"http://www.w3.org/2000/svg\" height=\"24px\"viewBox=\"0 0 24 24\"\n",
              "       width=\"24px\">\n",
              "    <path d=\"M0 0h24v24H0V0z\" fill=\"none\"/>\n",
              "    <path d=\"M18.56 5.44l.94 2.06.94-2.06 2.06-.94-2.06-.94-.94-2.06-.94 2.06-2.06.94zm-11 1L8.5 8.5l.94-2.06 2.06-.94-2.06-.94L8.5 2.5l-.94 2.06-2.06.94zm10 10l.94 2.06.94-2.06 2.06-.94-2.06-.94-.94-2.06-.94 2.06-2.06.94z\"/><path d=\"M17.41 7.96l-1.37-1.37c-.4-.4-.92-.59-1.43-.59-.52 0-1.04.2-1.43.59L10.3 9.45l-7.72 7.72c-.78.78-.78 2.05 0 2.83L4 21.41c.39.39.9.59 1.41.59.51 0 1.02-.2 1.41-.59l7.78-7.78 2.81-2.81c.8-.78.8-2.07 0-2.86zM5.41 20L4 18.59l7.72-7.72 1.47 1.35L5.41 20z\"/>\n",
              "  </svg>\n",
              "      </button>\n",
              "      \n",
              "  <style>\n",
              "    .colab-df-container {\n",
              "      display:flex;\n",
              "      flex-wrap:wrap;\n",
              "      gap: 12px;\n",
              "    }\n",
              "\n",
              "    .colab-df-convert {\n",
              "      background-color: #E8F0FE;\n",
              "      border: none;\n",
              "      border-radius: 50%;\n",
              "      cursor: pointer;\n",
              "      display: none;\n",
              "      fill: #1967D2;\n",
              "      height: 32px;\n",
              "      padding: 0 0 0 0;\n",
              "      width: 32px;\n",
              "    }\n",
              "\n",
              "    .colab-df-convert:hover {\n",
              "      background-color: #E2EBFA;\n",
              "      box-shadow: 0px 1px 2px rgba(60, 64, 67, 0.3), 0px 1px 3px 1px rgba(60, 64, 67, 0.15);\n",
              "      fill: #174EA6;\n",
              "    }\n",
              "\n",
              "    [theme=dark] .colab-df-convert {\n",
              "      background-color: #3B4455;\n",
              "      fill: #D2E3FC;\n",
              "    }\n",
              "\n",
              "    [theme=dark] .colab-df-convert:hover {\n",
              "      background-color: #434B5C;\n",
              "      box-shadow: 0px 1px 3px 1px rgba(0, 0, 0, 0.15);\n",
              "      filter: drop-shadow(0px 1px 2px rgba(0, 0, 0, 0.3));\n",
              "      fill: #FFFFFF;\n",
              "    }\n",
              "  </style>\n",
              "\n",
              "      <script>\n",
              "        const buttonEl =\n",
              "          document.querySelector('#df-9289fc79-3912-4d09-bb76-1f8ec2685d75 button.colab-df-convert');\n",
              "        buttonEl.style.display =\n",
              "          google.colab.kernel.accessAllowed ? 'block' : 'none';\n",
              "\n",
              "        async function convertToInteractive(key) {\n",
              "          const element = document.querySelector('#df-9289fc79-3912-4d09-bb76-1f8ec2685d75');\n",
              "          const dataTable =\n",
              "            await google.colab.kernel.invokeFunction('convertToInteractive',\n",
              "                                                     [key], {});\n",
              "          if (!dataTable) return;\n",
              "\n",
              "          const docLinkHtml = 'Like what you see? Visit the ' +\n",
              "            '<a target=\"_blank\" href=https://colab.research.google.com/notebooks/data_table.ipynb>data table notebook</a>'\n",
              "            + ' to learn more about interactive tables.';\n",
              "          element.innerHTML = '';\n",
              "          dataTable['output_type'] = 'display_data';\n",
              "          await google.colab.output.renderOutput(dataTable, element);\n",
              "          const docLink = document.createElement('div');\n",
              "          docLink.innerHTML = docLinkHtml;\n",
              "          element.appendChild(docLink);\n",
              "        }\n",
              "      </script>\n",
              "    </div>\n",
              "  </div>\n",
              "  "
            ]
          },
          "metadata": {},
          "execution_count": 10
        },
        {
          "output_type": "stream",
          "name": "stdout",
          "text": [
            "Warning: total number of rows (194439) exceeds max_rows (20000). Limiting to first (20000) rows.\n"
          ]
        }
      ]
    },
    {
      "cell_type": "code",
      "source": [
        "df.shape"
      ],
      "metadata": {
        "id": "mXxhipmyWQPH",
        "colab": {
          "base_uri": "https://localhost:8080/"
        },
        "outputId": "1178223f-2013-4fbd-c9ae-7a4c987895c8"
      },
      "execution_count": 11,
      "outputs": [
        {
          "output_type": "execute_result",
          "data": {
            "text/plain": [
              "(194439, 9)"
            ]
          },
          "metadata": {},
          "execution_count": 11
        }
      ]
    },
    {
      "cell_type": "markdown",
      "source": [
        "**Simple Preprocessing & Tokenization**\n",
        "\n",
        "\n",
        "The first thing to do for any data science task is to clean the data. For NLP, we apply various processing like converting all the words to lower case, trimming spaces, removing punctuations. This is something we will do over here too.\n",
        "\n",
        "Additionally, we can also remove stop words like 'and', 'or', 'is', 'the', 'a', 'an' and convert words to their root forms like 'running' to 'run'."
      ],
      "metadata": {
        "id": "MQtO7j03Y9Wx"
      }
    },
    {
      "cell_type": "code",
      "source": [
        "review_text = df.reviewText.apply(gensim.utils.simple_preprocess)"
      ],
      "metadata": {
        "id": "gPBWwECZY6D_"
      },
      "execution_count": 12,
      "outputs": []
    },
    {
      "cell_type": "code",
      "source": [
        "review_text"
      ],
      "metadata": {
        "colab": {
          "base_uri": "https://localhost:8080/"
        },
        "id": "N9SGrAg5ZCNL",
        "outputId": "32ad8c3d-8dd6-4076-a9e1-445f41f34a2e"
      },
      "execution_count": 13,
      "outputs": [
        {
          "output_type": "execute_result",
          "data": {
            "text/plain": [
              "0         [they, look, good, and, stick, good, just, don...\n",
              "1         [these, stickers, work, like, the, review, say...\n",
              "2         [these, are, awesome, and, make, my, phone, lo...\n",
              "3         [item, arrived, in, great, time, and, was, in,...\n",
              "4         [awesome, stays, on, and, looks, great, can, b...\n",
              "                                ...                        \n",
              "194434    [works, great, just, like, my, original, one, ...\n",
              "194435    [great, product, great, packaging, high, quali...\n",
              "194436    [this, is, great, cable, just, as, good, as, t...\n",
              "194437    [really, like, it, becasue, it, works, well, w...\n",
              "194438    [product, as, described, have, wasted, lot, of...\n",
              "Name: reviewText, Length: 194439, dtype: object"
            ]
          },
          "metadata": {},
          "execution_count": 13
        }
      ]
    },
    {
      "cell_type": "code",
      "source": [
        "review_text.loc[0]\n"
      ],
      "metadata": {
        "colab": {
          "base_uri": "https://localhost:8080/"
        },
        "id": "KwYfXdbgZIU6",
        "outputId": "c3b56829-8c36-486c-c80f-004211c0a635"
      },
      "execution_count": 14,
      "outputs": [
        {
          "output_type": "execute_result",
          "data": {
            "text/plain": [
              "['they',\n",
              " 'look',\n",
              " 'good',\n",
              " 'and',\n",
              " 'stick',\n",
              " 'good',\n",
              " 'just',\n",
              " 'don',\n",
              " 'like',\n",
              " 'the',\n",
              " 'rounded',\n",
              " 'shape',\n",
              " 'because',\n",
              " 'was',\n",
              " 'always',\n",
              " 'bumping',\n",
              " 'it',\n",
              " 'and',\n",
              " 'siri',\n",
              " 'kept',\n",
              " 'popping',\n",
              " 'up',\n",
              " 'and',\n",
              " 'it',\n",
              " 'was',\n",
              " 'irritating',\n",
              " 'just',\n",
              " 'won',\n",
              " 'buy',\n",
              " 'product',\n",
              " 'like',\n",
              " 'this',\n",
              " 'again']"
            ]
          },
          "metadata": {},
          "execution_count": 14
        }
      ]
    },
    {
      "cell_type": "code",
      "source": [
        "df.reviewText.loc[0]"
      ],
      "metadata": {
        "colab": {
          "base_uri": "https://localhost:8080/",
          "height": 70
        },
        "id": "DFRMNCcaZL0r",
        "outputId": "bcf4fe7b-d4f9-4a80-aa78-33666102e1c3"
      },
      "execution_count": 15,
      "outputs": [
        {
          "output_type": "execute_result",
          "data": {
            "text/plain": [
              "\"They look good and stick good! I just don't like the rounded shape because I was always bumping it and Siri kept popping up and it was irritating. I just won't buy a product like this again\""
            ],
            "application/vnd.google.colaboratory.intrinsic+json": {
              "type": "string"
            }
          },
          "metadata": {},
          "execution_count": 15
        }
      ]
    },
    {
      "cell_type": "markdown",
      "source": [
        "**Training the Word2Vec Model**\n",
        "\n",
        "\n",
        "Train the model for reviews. Use a window of size 10 i.e. 10 words before the present word and 10 words ahead. A sentence with at least 2 words should only be considered, configure this using min_count parameter.\n",
        "\n",
        "Workers define how many CPU threads to be used"
      ],
      "metadata": {
        "id": "NG-k9oVSZTuo"
      }
    },
    {
      "cell_type": "markdown",
      "source": [
        "Initialize the model"
      ],
      "metadata": {
        "id": "p87ZdsiVZYJ1"
      }
    },
    {
      "cell_type": "code",
      "source": [
        "model = gensim.models.Word2Vec(\n",
        "    window=10,\n",
        "    min_count=2,\n",
        "    workers=4,\n",
        ")"
      ],
      "metadata": {
        "id": "OTbSyEXVZO-V"
      },
      "execution_count": 16,
      "outputs": []
    },
    {
      "cell_type": "markdown",
      "source": [
        "Build Vocabulary"
      ],
      "metadata": {
        "id": "VGnnVYEyZnLe"
      }
    },
    {
      "cell_type": "code",
      "source": [
        "model.build_vocab(review_text, progress_per=1000)"
      ],
      "metadata": {
        "id": "hZeOIC9UZcF8"
      },
      "execution_count": 17,
      "outputs": []
    },
    {
      "cell_type": "markdown",
      "source": [
        "Train the Word2Vec Model"
      ],
      "metadata": {
        "id": "qIBb2CesZrQx"
      }
    },
    {
      "cell_type": "code",
      "source": [
        "model.train(review_text, total_examples=model.corpus_count, epochs=model.epochs)"
      ],
      "metadata": {
        "colab": {
          "base_uri": "https://localhost:8080/"
        },
        "id": "SkxqnEYyZloz",
        "outputId": "653f2ea4-1327-4861-813d-6b378ec5316d"
      },
      "execution_count": 18,
      "outputs": [
        {
          "output_type": "execute_result",
          "data": {
            "text/plain": [
              "(61509462, 83868975)"
            ]
          },
          "metadata": {},
          "execution_count": 18
        }
      ]
    },
    {
      "cell_type": "markdown",
      "source": [
        "**Save the Model**\n",
        "\n",
        "Save the model so that it can be reused in other applications"
      ],
      "metadata": {
        "id": "5UUCoY5dZwlE"
      }
    },
    {
      "cell_type": "code",
      "source": [
        "model.save(\"./word2vec-amazon-cell-accessories-reviews-short.model\")"
      ],
      "metadata": {
        "id": "8d8u3M2AZtg4"
      },
      "execution_count": 19,
      "outputs": []
    },
    {
      "cell_type": "markdown",
      "source": [
        "Finding Similar Words and Similarity between words"
      ],
      "metadata": {
        "id": "eF3K4dY1Z7VN"
      }
    },
    {
      "cell_type": "code",
      "source": [
        "model.wv.most_similar(\"bad\")"
      ],
      "metadata": {
        "colab": {
          "base_uri": "https://localhost:8080/"
        },
        "id": "fzKptmgIZ8dH",
        "outputId": "810cff5a-64d9-41f2-dab6-8d6316217572"
      },
      "execution_count": 20,
      "outputs": [
        {
          "output_type": "execute_result",
          "data": {
            "text/plain": [
              "[('terrible', 0.6723676323890686),\n",
              " ('shabby', 0.6477853059768677),\n",
              " ('horrible', 0.6004170179367065),\n",
              " ('good', 0.592991054058075),\n",
              " ('crappy', 0.5433863401412964),\n",
              " ('okay', 0.5351372957229614),\n",
              " ('awful', 0.5333664417266846),\n",
              " ('cheap', 0.5294279456138611),\n",
              " ('disappointing', 0.526921272277832),\n",
              " ('lame', 0.5223367214202881)]"
            ]
          },
          "metadata": {},
          "execution_count": 20
        }
      ]
    },
    {
      "cell_type": "code",
      "source": [
        "model.wv.similarity(w1=\"cheap\", w2=\"inexpensive\")"
      ],
      "metadata": {
        "colab": {
          "base_uri": "https://localhost:8080/"
        },
        "id": "6eKlHDc9aCXE",
        "outputId": "6b485d59-c3e8-4b02-e4ae-cea968bbb6ed"
      },
      "execution_count": 21,
      "outputs": [
        {
          "output_type": "execute_result",
          "data": {
            "text/plain": [
              "0.5135945"
            ]
          },
          "metadata": {},
          "execution_count": 21
        }
      ]
    },
    {
      "cell_type": "code",
      "source": [
        "model.wv.similarity(w1=\"great\", w2=\"good\")"
      ],
      "metadata": {
        "colab": {
          "base_uri": "https://localhost:8080/"
        },
        "id": "vBtraPxnaGuq",
        "outputId": "044596a2-958f-41ba-b60a-998691436619"
      },
      "execution_count": 22,
      "outputs": [
        {
          "output_type": "execute_result",
          "data": {
            "text/plain": [
              "0.7799113"
            ]
          },
          "metadata": {},
          "execution_count": 22
        }
      ]
    },
    {
      "cell_type": "markdown",
      "source": [
        "\n",
        "\n",
        "---\n",
        "\n",
        "\n",
        "\n",
        "---\n",
        "\n"
      ],
      "metadata": {
        "id": "ZLWVKNjqashn"
      }
    },
    {
      "cell_type": "markdown",
      "source": [
        " **Train a word2vec model on the Sports & Outdoors Reviews Dataset**\n",
        "\n",
        "\n",
        "\n"
      ],
      "metadata": {
        "id": "i6zXGX3oafDf"
      }
    },
    {
      "cell_type": "code",
      "source": [
        "import gensim\n",
        "import pandas as pd"
      ],
      "metadata": {
        "id": "wDX8HHuaaJjs"
      },
      "execution_count": 23,
      "outputs": []
    },
    {
      "cell_type": "markdown",
      "source": [
        "**Reading and Exploring the Dataset**\n",
        "\n",
        "\n",
        "The dataset we are using here is a subset of Amazon reviews from the Sports & Outdoors category. The data is stored as a JSON file and can be read using pandas.\n",
        "\n",
        "Link to the Dataset:\n",
        "http://snap.stanford.edu/data/amazon/productGraph/categoryFiles/reviews_Sports_and_Outdoors_5.json.gz"
      ],
      "metadata": {
        "id": "kmm25lYZbAiO"
      }
    },
    {
      "cell_type": "code",
      "source": [
        "df = pd.read_json(\"/content/Data/reviews_Sports_and_Outdoors_5.json.gz\", lines=True)\n",
        "df"
      ],
      "metadata": {
        "colab": {
          "base_uri": "https://localhost:8080/",
          "height": 6809
        },
        "id": "9pq0l27DbImz",
        "outputId": "6027e751-35ee-4a7b-a64c-18ead5e9bb91"
      },
      "execution_count": 25,
      "outputs": [
        {
          "output_type": "execute_result",
          "data": {
            "text/plain": [
              "            reviewerID        asin  \\\n",
              "0         AIXZKN4ACSKI  1881509818   \n",
              "1       A1L5P841VIO02V  1881509818   \n",
              "2        AB2W04NI4OEAD  1881509818   \n",
              "3       A148SVSWKTJKU6  1881509818   \n",
              "4        AAAWJ6LW9WMOO  1881509818   \n",
              "...                ...         ...   \n",
              "296332  A2XX2A4OJCDNLZ  B00LFPS0CY   \n",
              "296333  A3LGT6UZL99IW1  B00LFPS0CY   \n",
              "296334   ASKZO80Z1RKTR  B00LFPS0CY   \n",
              "296335   APRNS6DB68LLV  B00LFPS0CY   \n",
              "296336  A3UJRNI8UR4871  B00LFPS0CY   \n",
              "\n",
              "                                            reviewerName helpful  \\\n",
              "0                                           David Briner  [0, 0]   \n",
              "1                                        Jason A. Kramer  [1, 1]   \n",
              "2                                             J. Fernald  [2, 2]   \n",
              "3                         Jusitn A. Watts \"Maverick9614\"  [0, 0]   \n",
              "4                                           Material Man  [0, 0]   \n",
              "...                                                  ...     ...   \n",
              "296332                               RatherLiveInKeyWest  [2, 3]   \n",
              "296333  Richard C. Drew \"Anaal Nathra/Uthe vas Bethod...  [0, 0]   \n",
              "296334                                         Robin Lee  [0, 0]   \n",
              "296335                  Rob Slaven \"slavenrm@gmail. com\"  [1, 1]   \n",
              "296336                               Wulfstan \"wulfstan\"  [2, 2]   \n",
              "\n",
              "                                               reviewText  overall  \\\n",
              "0       This came in on time and I am veru happy with ...        5   \n",
              "1       I had a factory Glock tool that I was using fo...        5   \n",
              "2       If you don't have a 3/32 punch or would like t...        4   \n",
              "3       This works no better than any 3/32 punch you w...        4   \n",
              "4       I purchased this thinking maybe I need a speci...        4   \n",
              "...                                                   ...      ...   \n",
              "296332  This is a water bottle done right. It is a ver...        5   \n",
              "296333  If you're looking for an insulated water bottl...        5   \n",
              "296334  This Hydracentials Sporty 25 OZ, double insula...        5   \n",
              "296335  As usual I received this item free in exchange...        5   \n",
              "296336  Hydracentials insulated 25 oz water bottle.Thi...        5   \n",
              "\n",
              "                                                  summary  unixReviewTime  \\\n",
              "0                                          Woks very good      1390694400   \n",
              "1                       Works as well as the factory tool      1328140800   \n",
              "2                               It's a punch, that's all.      1330387200   \n",
              "3                         It's a punch with a Glock logo.      1328400000   \n",
              "4                 Ok,tool does what a regular punch does.      1366675200   \n",
              "...                                                   ...             ...   \n",
              "296332  Hydracentials Sporty 25 Oz Stainless Steel Wat...      1405036800   \n",
              "296333          Large, incredibly well made water bottle!      1405641600   \n",
              "296334             \"Great Water Bottle For Hot Day\"......      1405900800   \n",
              "296335  A pretty impressive water bottle.  Best I've s...      1405900800   \n",
              "296336                                     \"Cool\" Bottle!      1405382400   \n",
              "\n",
              "         reviewTime  \n",
              "0       01 26, 2014  \n",
              "1        02 2, 2012  \n",
              "2       02 28, 2012  \n",
              "3        02 5, 2012  \n",
              "4       04 23, 2013  \n",
              "...             ...  \n",
              "296332  07 11, 2014  \n",
              "296333  07 18, 2014  \n",
              "296334  07 21, 2014  \n",
              "296335  07 21, 2014  \n",
              "296336  07 15, 2014  \n",
              "\n",
              "[296337 rows x 9 columns]"
            ],
            "text/html": [
              "\n",
              "  <div id=\"df-e3527479-4f55-43fa-8839-5cb597ceee95\">\n",
              "    <div class=\"colab-df-container\">\n",
              "      <div>\n",
              "<style scoped>\n",
              "    .dataframe tbody tr th:only-of-type {\n",
              "        vertical-align: middle;\n",
              "    }\n",
              "\n",
              "    .dataframe tbody tr th {\n",
              "        vertical-align: top;\n",
              "    }\n",
              "\n",
              "    .dataframe thead th {\n",
              "        text-align: right;\n",
              "    }\n",
              "</style>\n",
              "<table border=\"1\" class=\"dataframe\">\n",
              "  <thead>\n",
              "    <tr style=\"text-align: right;\">\n",
              "      <th></th>\n",
              "      <th>reviewerID</th>\n",
              "      <th>asin</th>\n",
              "      <th>reviewerName</th>\n",
              "      <th>helpful</th>\n",
              "      <th>reviewText</th>\n",
              "      <th>overall</th>\n",
              "      <th>summary</th>\n",
              "      <th>unixReviewTime</th>\n",
              "      <th>reviewTime</th>\n",
              "    </tr>\n",
              "  </thead>\n",
              "  <tbody>\n",
              "    <tr>\n",
              "      <th>0</th>\n",
              "      <td>AIXZKN4ACSKI</td>\n",
              "      <td>1881509818</td>\n",
              "      <td>David Briner</td>\n",
              "      <td>[0, 0]</td>\n",
              "      <td>This came in on time and I am veru happy with ...</td>\n",
              "      <td>5</td>\n",
              "      <td>Woks very good</td>\n",
              "      <td>1390694400</td>\n",
              "      <td>01 26, 2014</td>\n",
              "    </tr>\n",
              "    <tr>\n",
              "      <th>1</th>\n",
              "      <td>A1L5P841VIO02V</td>\n",
              "      <td>1881509818</td>\n",
              "      <td>Jason A. Kramer</td>\n",
              "      <td>[1, 1]</td>\n",
              "      <td>I had a factory Glock tool that I was using fo...</td>\n",
              "      <td>5</td>\n",
              "      <td>Works as well as the factory tool</td>\n",
              "      <td>1328140800</td>\n",
              "      <td>02 2, 2012</td>\n",
              "    </tr>\n",
              "    <tr>\n",
              "      <th>2</th>\n",
              "      <td>AB2W04NI4OEAD</td>\n",
              "      <td>1881509818</td>\n",
              "      <td>J. Fernald</td>\n",
              "      <td>[2, 2]</td>\n",
              "      <td>If you don't have a 3/32 punch or would like t...</td>\n",
              "      <td>4</td>\n",
              "      <td>It's a punch, that's all.</td>\n",
              "      <td>1330387200</td>\n",
              "      <td>02 28, 2012</td>\n",
              "    </tr>\n",
              "    <tr>\n",
              "      <th>3</th>\n",
              "      <td>A148SVSWKTJKU6</td>\n",
              "      <td>1881509818</td>\n",
              "      <td>Jusitn A. Watts \"Maverick9614\"</td>\n",
              "      <td>[0, 0]</td>\n",
              "      <td>This works no better than any 3/32 punch you w...</td>\n",
              "      <td>4</td>\n",
              "      <td>It's a punch with a Glock logo.</td>\n",
              "      <td>1328400000</td>\n",
              "      <td>02 5, 2012</td>\n",
              "    </tr>\n",
              "    <tr>\n",
              "      <th>4</th>\n",
              "      <td>AAAWJ6LW9WMOO</td>\n",
              "      <td>1881509818</td>\n",
              "      <td>Material Man</td>\n",
              "      <td>[0, 0]</td>\n",
              "      <td>I purchased this thinking maybe I need a speci...</td>\n",
              "      <td>4</td>\n",
              "      <td>Ok,tool does what a regular punch does.</td>\n",
              "      <td>1366675200</td>\n",
              "      <td>04 23, 2013</td>\n",
              "    </tr>\n",
              "    <tr>\n",
              "      <th>...</th>\n",
              "      <td>...</td>\n",
              "      <td>...</td>\n",
              "      <td>...</td>\n",
              "      <td>...</td>\n",
              "      <td>...</td>\n",
              "      <td>...</td>\n",
              "      <td>...</td>\n",
              "      <td>...</td>\n",
              "      <td>...</td>\n",
              "    </tr>\n",
              "    <tr>\n",
              "      <th>296332</th>\n",
              "      <td>A2XX2A4OJCDNLZ</td>\n",
              "      <td>B00LFPS0CY</td>\n",
              "      <td>RatherLiveInKeyWest</td>\n",
              "      <td>[2, 3]</td>\n",
              "      <td>This is a water bottle done right. It is a ver...</td>\n",
              "      <td>5</td>\n",
              "      <td>Hydracentials Sporty 25 Oz Stainless Steel Wat...</td>\n",
              "      <td>1405036800</td>\n",
              "      <td>07 11, 2014</td>\n",
              "    </tr>\n",
              "    <tr>\n",
              "      <th>296333</th>\n",
              "      <td>A3LGT6UZL99IW1</td>\n",
              "      <td>B00LFPS0CY</td>\n",
              "      <td>Richard C. Drew \"Anaal Nathra/Uthe vas Bethod...</td>\n",
              "      <td>[0, 0]</td>\n",
              "      <td>If you're looking for an insulated water bottl...</td>\n",
              "      <td>5</td>\n",
              "      <td>Large, incredibly well made water bottle!</td>\n",
              "      <td>1405641600</td>\n",
              "      <td>07 18, 2014</td>\n",
              "    </tr>\n",
              "    <tr>\n",
              "      <th>296334</th>\n",
              "      <td>ASKZO80Z1RKTR</td>\n",
              "      <td>B00LFPS0CY</td>\n",
              "      <td>Robin Lee</td>\n",
              "      <td>[0, 0]</td>\n",
              "      <td>This Hydracentials Sporty 25 OZ, double insula...</td>\n",
              "      <td>5</td>\n",
              "      <td>\"Great Water Bottle For Hot Day\"......</td>\n",
              "      <td>1405900800</td>\n",
              "      <td>07 21, 2014</td>\n",
              "    </tr>\n",
              "    <tr>\n",
              "      <th>296335</th>\n",
              "      <td>APRNS6DB68LLV</td>\n",
              "      <td>B00LFPS0CY</td>\n",
              "      <td>Rob Slaven \"slavenrm@gmail. com\"</td>\n",
              "      <td>[1, 1]</td>\n",
              "      <td>As usual I received this item free in exchange...</td>\n",
              "      <td>5</td>\n",
              "      <td>A pretty impressive water bottle.  Best I've s...</td>\n",
              "      <td>1405900800</td>\n",
              "      <td>07 21, 2014</td>\n",
              "    </tr>\n",
              "    <tr>\n",
              "      <th>296336</th>\n",
              "      <td>A3UJRNI8UR4871</td>\n",
              "      <td>B00LFPS0CY</td>\n",
              "      <td>Wulfstan \"wulfstan\"</td>\n",
              "      <td>[2, 2]</td>\n",
              "      <td>Hydracentials insulated 25 oz water bottle.Thi...</td>\n",
              "      <td>5</td>\n",
              "      <td>\"Cool\" Bottle!</td>\n",
              "      <td>1405382400</td>\n",
              "      <td>07 15, 2014</td>\n",
              "    </tr>\n",
              "  </tbody>\n",
              "</table>\n",
              "<p>296337 rows × 9 columns</p>\n",
              "</div>\n",
              "      <button class=\"colab-df-convert\" onclick=\"convertToInteractive('df-e3527479-4f55-43fa-8839-5cb597ceee95')\"\n",
              "              title=\"Convert this dataframe to an interactive table.\"\n",
              "              style=\"display:none;\">\n",
              "        \n",
              "  <svg xmlns=\"http://www.w3.org/2000/svg\" height=\"24px\"viewBox=\"0 0 24 24\"\n",
              "       width=\"24px\">\n",
              "    <path d=\"M0 0h24v24H0V0z\" fill=\"none\"/>\n",
              "    <path d=\"M18.56 5.44l.94 2.06.94-2.06 2.06-.94-2.06-.94-.94-2.06-.94 2.06-2.06.94zm-11 1L8.5 8.5l.94-2.06 2.06-.94-2.06-.94L8.5 2.5l-.94 2.06-2.06.94zm10 10l.94 2.06.94-2.06 2.06-.94-2.06-.94-.94-2.06-.94 2.06-2.06.94z\"/><path d=\"M17.41 7.96l-1.37-1.37c-.4-.4-.92-.59-1.43-.59-.52 0-1.04.2-1.43.59L10.3 9.45l-7.72 7.72c-.78.78-.78 2.05 0 2.83L4 21.41c.39.39.9.59 1.41.59.51 0 1.02-.2 1.41-.59l7.78-7.78 2.81-2.81c.8-.78.8-2.07 0-2.86zM5.41 20L4 18.59l7.72-7.72 1.47 1.35L5.41 20z\"/>\n",
              "  </svg>\n",
              "      </button>\n",
              "      \n",
              "  <style>\n",
              "    .colab-df-container {\n",
              "      display:flex;\n",
              "      flex-wrap:wrap;\n",
              "      gap: 12px;\n",
              "    }\n",
              "\n",
              "    .colab-df-convert {\n",
              "      background-color: #E8F0FE;\n",
              "      border: none;\n",
              "      border-radius: 50%;\n",
              "      cursor: pointer;\n",
              "      display: none;\n",
              "      fill: #1967D2;\n",
              "      height: 32px;\n",
              "      padding: 0 0 0 0;\n",
              "      width: 32px;\n",
              "    }\n",
              "\n",
              "    .colab-df-convert:hover {\n",
              "      background-color: #E2EBFA;\n",
              "      box-shadow: 0px 1px 2px rgba(60, 64, 67, 0.3), 0px 1px 3px 1px rgba(60, 64, 67, 0.15);\n",
              "      fill: #174EA6;\n",
              "    }\n",
              "\n",
              "    [theme=dark] .colab-df-convert {\n",
              "      background-color: #3B4455;\n",
              "      fill: #D2E3FC;\n",
              "    }\n",
              "\n",
              "    [theme=dark] .colab-df-convert:hover {\n",
              "      background-color: #434B5C;\n",
              "      box-shadow: 0px 1px 3px 1px rgba(0, 0, 0, 0.15);\n",
              "      filter: drop-shadow(0px 1px 2px rgba(0, 0, 0, 0.3));\n",
              "      fill: #FFFFFF;\n",
              "    }\n",
              "  </style>\n",
              "\n",
              "      <script>\n",
              "        const buttonEl =\n",
              "          document.querySelector('#df-e3527479-4f55-43fa-8839-5cb597ceee95 button.colab-df-convert');\n",
              "        buttonEl.style.display =\n",
              "          google.colab.kernel.accessAllowed ? 'block' : 'none';\n",
              "\n",
              "        async function convertToInteractive(key) {\n",
              "          const element = document.querySelector('#df-e3527479-4f55-43fa-8839-5cb597ceee95');\n",
              "          const dataTable =\n",
              "            await google.colab.kernel.invokeFunction('convertToInteractive',\n",
              "                                                     [key], {});\n",
              "          if (!dataTable) return;\n",
              "\n",
              "          const docLinkHtml = 'Like what you see? Visit the ' +\n",
              "            '<a target=\"_blank\" href=https://colab.research.google.com/notebooks/data_table.ipynb>data table notebook</a>'\n",
              "            + ' to learn more about interactive tables.';\n",
              "          element.innerHTML = '';\n",
              "          dataTable['output_type'] = 'display_data';\n",
              "          await google.colab.output.renderOutput(dataTable, element);\n",
              "          const docLink = document.createElement('div');\n",
              "          docLink.innerHTML = docLinkHtml;\n",
              "          element.appendChild(docLink);\n",
              "        }\n",
              "      </script>\n",
              "    </div>\n",
              "  </div>\n",
              "  "
            ]
          },
          "metadata": {},
          "execution_count": 25
        },
        {
          "output_type": "stream",
          "name": "stdout",
          "text": [
            "Warning: total number of rows (296337) exceeds max_rows (20000). Limiting to first (20000) rows.\n"
          ]
        }
      ]
    },
    {
      "cell_type": "code",
      "source": [
        "df.shape"
      ],
      "metadata": {
        "colab": {
          "base_uri": "https://localhost:8080/"
        },
        "id": "lmGNVN_pboVS",
        "outputId": "00f033bf-ce1f-41e8-f81e-9b85ada58149"
      },
      "execution_count": 26,
      "outputs": [
        {
          "output_type": "execute_result",
          "data": {
            "text/plain": [
              "(296337, 9)"
            ]
          },
          "metadata": {},
          "execution_count": 26
        }
      ]
    },
    {
      "cell_type": "code",
      "source": [
        "review_text = df.reviewText.apply(gensim.utils.simple_preprocess)"
      ],
      "metadata": {
        "id": "pnKzlNVhcFTK"
      },
      "execution_count": 27,
      "outputs": []
    },
    {
      "cell_type": "code",
      "source": [
        "review_text"
      ],
      "metadata": {
        "colab": {
          "base_uri": "https://localhost:8080/"
        },
        "id": "Ls7n7hGocI3I",
        "outputId": "a85d0fa6-70ca-4469-e50b-930e292f524a"
      },
      "execution_count": 28,
      "outputs": [
        {
          "output_type": "execute_result",
          "data": {
            "text/plain": [
              "0         [this, came, in, on, time, and, am, veru, happ...\n",
              "1         [had, factory, glock, tool, that, was, using, ...\n",
              "2         [if, you, don, have, punch, or, would, like, t...\n",
              "3         [this, works, no, better, than, any, punch, yo...\n",
              "4         [purchased, this, thinking, maybe, need, speci...\n",
              "                                ...                        \n",
              "296332    [this, is, water, bottle, done, right, it, is,...\n",
              "296333    [if, you, re, looking, for, an, insulated, wat...\n",
              "296334    [this, hydracentials, sporty, oz, double, insu...\n",
              "296335    [as, usual, received, this, item, free, in, ex...\n",
              "296336    [hydracentials, insulated, oz, water, bottle, ...\n",
              "Name: reviewText, Length: 296337, dtype: object"
            ]
          },
          "metadata": {},
          "execution_count": 28
        }
      ]
    },
    {
      "cell_type": "code",
      "source": [
        "review_text.loc[0]"
      ],
      "metadata": {
        "colab": {
          "base_uri": "https://localhost:8080/"
        },
        "id": "AQtqv93OcRT8",
        "outputId": "28d79cf5-475e-42b0-e25b-5a2378478649"
      },
      "execution_count": 29,
      "outputs": [
        {
          "output_type": "execute_result",
          "data": {
            "text/plain": [
              "['this',\n",
              " 'came',\n",
              " 'in',\n",
              " 'on',\n",
              " 'time',\n",
              " 'and',\n",
              " 'am',\n",
              " 'veru',\n",
              " 'happy',\n",
              " 'with',\n",
              " 'it',\n",
              " 'haved',\n",
              " 'used',\n",
              " 'it',\n",
              " 'already',\n",
              " 'and',\n",
              " 'it',\n",
              " 'makes',\n",
              " 'taking',\n",
              " 'out',\n",
              " 'the',\n",
              " 'pins',\n",
              " 'in',\n",
              " 'my',\n",
              " 'glock',\n",
              " 'very',\n",
              " 'easy']"
            ]
          },
          "metadata": {},
          "execution_count": 29
        }
      ]
    },
    {
      "cell_type": "code",
      "source": [
        "df.reviewText.loc[0]"
      ],
      "metadata": {
        "colab": {
          "base_uri": "https://localhost:8080/",
          "height": 52
        },
        "id": "e6XQmay2cTlk",
        "outputId": "7ffc5f31-e9f2-467e-f95c-eadcaafbe46b"
      },
      "execution_count": 30,
      "outputs": [
        {
          "output_type": "execute_result",
          "data": {
            "text/plain": [
              "'This came in on time and I am veru happy with it, I haved used it already and it makes taking out the pins in my glock 32 very easy'"
            ],
            "application/vnd.google.colaboratory.intrinsic+json": {
              "type": "string"
            }
          },
          "metadata": {},
          "execution_count": 30
        }
      ]
    },
    {
      "cell_type": "code",
      "source": [
        "model = gensim.models.Word2Vec(\n",
        "    window=10,\n",
        "    min_count=2,\n",
        "    workers=4,\n",
        ")"
      ],
      "metadata": {
        "id": "6d_tfl_vcVqd"
      },
      "execution_count": 31,
      "outputs": []
    },
    {
      "cell_type": "code",
      "source": [
        "model.build_vocab(review_text, progress_per=1000)"
      ],
      "metadata": {
        "id": "pJQF55_4ccAc"
      },
      "execution_count": 32,
      "outputs": []
    },
    {
      "cell_type": "code",
      "source": [
        "model.train(review_text, total_examples=model.corpus_count, epochs=model.epochs)"
      ],
      "metadata": {
        "colab": {
          "base_uri": "https://localhost:8080/"
        },
        "id": "bsBqur1lccze",
        "outputId": "15a26e4a-c3b5-4926-ca8f-5678cfbc0762"
      },
      "execution_count": 33,
      "outputs": [
        {
          "output_type": "execute_result",
          "data": {
            "text/plain": [
              "(91343762, 121496535)"
            ]
          },
          "metadata": {},
          "execution_count": 33
        }
      ]
    },
    {
      "cell_type": "code",
      "source": [
        "model.wv.most_similar(\"awful\")"
      ],
      "metadata": {
        "colab": {
          "base_uri": "https://localhost:8080/"
        },
        "id": "TZxbXNGicfgP",
        "outputId": "666fa761-37b0-403e-f17e-2d92afb58062"
      },
      "execution_count": 34,
      "outputs": [
        {
          "output_type": "execute_result",
          "data": {
            "text/plain": [
              "[('horrible', 0.6962270736694336),\n",
              " ('terrible', 0.6690406799316406),\n",
              " ('ugly', 0.6192535161972046),\n",
              " ('unpleasant', 0.601087749004364),\n",
              " ('overwhelming', 0.5986932516098022),\n",
              " ('utter', 0.5719731450080872),\n",
              " ('horrendous', 0.5709795355796814),\n",
              " ('anomaly', 0.5689507722854614),\n",
              " ('unusual', 0.5659407377243042),\n",
              " ('oversight', 0.5541092157363892)]"
            ]
          },
          "metadata": {},
          "execution_count": 34
        }
      ]
    },
    {
      "cell_type": "code",
      "source": [
        "model.wv.similarity(w1=\"good\", w2=\"great\")"
      ],
      "metadata": {
        "colab": {
          "base_uri": "https://localhost:8080/"
        },
        "id": "KZODQMiGcjZo",
        "outputId": "98caaa19-3919-4773-ce82-a08b3567f065"
      },
      "execution_count": 35,
      "outputs": [
        {
          "output_type": "execute_result",
          "data": {
            "text/plain": [
              "0.77895296"
            ]
          },
          "metadata": {},
          "execution_count": 35
        }
      ]
    },
    {
      "cell_type": "code",
      "source": [
        "model.wv.similarity(w1=\"slow\", w2=\"steady\")"
      ],
      "metadata": {
        "colab": {
          "base_uri": "https://localhost:8080/"
        },
        "id": "02pTNfrEckOL",
        "outputId": "cf3ed3b6-2d9e-40eb-d435-9108041d6dce"
      },
      "execution_count": 36,
      "outputs": [
        {
          "output_type": "execute_result",
          "data": {
            "text/plain": [
              "0.3576595"
            ]
          },
          "metadata": {},
          "execution_count": 36
        }
      ]
    },
    {
      "cell_type": "code",
      "source": [
        ""
      ],
      "metadata": {
        "id": "XQHSsPV-dQLH"
      },
      "execution_count": null,
      "outputs": []
    }
  ]
}