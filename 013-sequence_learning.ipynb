{
 "cells": [
  {
   "cell_type": "code",
   "execution_count": 1,
   "metadata": {
    "cell_id": "db6f4243af2b45a68e8eafe34958c9f4"
   },
   "outputs": [],
   "source": [
    "import tensorflow as tf\n",
    "import tensorflow.keras as keras\n",
    "import tensorflow.keras.datasets as datasets\n",
    "import tensorflow.keras.models as models\n",
    "import tensorflow.keras.layers as layers\n",
    "import numpy as np"
   ]
  },
  {
   "cell_type": "markdown",
   "metadata": {
    "cell_id": "391aca47557c486ea5aae0817d904cf2",
    "lambdacheck": {
     "layout": {
      "column_offset": 0,
      "column_span": 4,
      "row_span": 10
     }
    }
   },
   "source": [
    "Load the IMDB dataset\n"
   ]
  },
  {
   "cell_type": "code",
   "execution_count": 2,
   "metadata": {
    "cell_id": "2003eee092d14e96a972f6415f30679c",
    "lambdacheck": {
     "layout": {
      "column_offset": 4,
      "column_span": 8
     }
    }
   },
   "outputs": [
    {
     "name": "stderr",
     "output_type": "stream",
     "text": [
      "<__array_function__ internals>:5: VisibleDeprecationWarning: Creating an ndarray from ragged nested sequences (which is a list-or-tuple of lists-or-tuples-or ndarrays with different lengths or shapes) is deprecated. If you meant to do this, you must specify 'dtype=object' when creating the ndarray\n",
      "/opt/conda/lib/python3.8/site-packages/tensorflow/python/keras/datasets/imdb.py:159: VisibleDeprecationWarning: Creating an ndarray from ragged nested sequences (which is a list-or-tuple of lists-or-tuples-or ndarrays with different lengths or shapes) is deprecated. If you meant to do this, you must specify 'dtype=object' when creating the ndarray\n",
      "  x_train, y_train = np.array(xs[:idx]), np.array(labels[:idx])\n",
      "/opt/conda/lib/python3.8/site-packages/tensorflow/python/keras/datasets/imdb.py:160: VisibleDeprecationWarning: Creating an ndarray from ragged nested sequences (which is a list-or-tuple of lists-or-tuples-or ndarrays with different lengths or shapes) is deprecated. If you meant to do this, you must specify 'dtype=object' when creating the ndarray\n",
      "  x_test, y_test = np.array(xs[idx:]), np.array(labels[idx:])\n"
     ]
    }
   ],
   "source": [
    "(x_train, y_train), (x_test, y_test) = datasets.imdb.load_data(num_words=10000)"
   ]
  },
  {
   "cell_type": "code",
   "execution_count": 3,
   "metadata": {
    "cell_id": "2003eee092d14e96a972f6415f30679c",
    "lambdacheck": {
     "layout": {
      "column_offset": 4,
      "column_span": 8
     }
    },
    "scrolled": true
   },
   "outputs": [
    {
     "data": {
      "text/plain": [
       "25000"
      ]
     },
     "execution_count": 3,
     "metadata": {},
     "output_type": "execute_result"
    }
   ],
   "source": [
    "len(x_train)"
   ]
  },
  {
   "cell_type": "code",
   "execution_count": 5,
   "metadata": {
    "cell_id": "2003eee092d14e96a972f6415f30679c",
    "lambdacheck": {
     "layout": {
      "column_offset": 4,
      "column_span": 8
     }
    },
    "scrolled": true
   },
   "outputs": [
    {
     "data": {
      "text/plain": [
       "[218, 189, 141, 550, 147, 43, 123, 562, 233, 130]"
      ]
     },
     "execution_count": 5,
     "metadata": {},
     "output_type": "execute_result"
    }
   ],
   "source": [
    "[len(x_train[i]) for i in range(10)]"
   ]
  },
  {
   "cell_type": "markdown",
   "metadata": {
    "cell_id": "b0c9cbbc30a540bd9beb6a9c77bdd683"
   },
   "source": [
    "# Preprocessing API"
   ]
  },
  {
   "cell_type": "code",
   "execution_count": 6,
   "metadata": {
    "cell_id": "60cd2276c63b434880519ae8ef99ddd9"
   },
   "outputs": [],
   "source": [
    "import tensorflow.keras.preprocessing.sequence as sequence"
   ]
  },
  {
   "cell_type": "code",
   "execution_count": 7,
   "metadata": {
    "cell_id": "158541019e24415ea489b5eb889083ff"
   },
   "outputs": [],
   "source": [
    "x_padded = sequence.pad_sequences(x_train, maxlen=200)"
   ]
  },
  {
   "cell_type": "code",
   "execution_count": 8,
   "metadata": {
    "cell_id": "f7d66698f3214e8a87dd979db156d924"
   },
   "outputs": [
    {
     "data": {
      "text/plain": [
       "[200, 200, 200, 200, 200, 200, 200, 200, 200, 200]"
      ]
     },
     "execution_count": 8,
     "metadata": {},
     "output_type": "execute_result"
    }
   ],
   "source": [
    "[len(x_padded[i]) for i in range(10)]"
   ]
  },
  {
   "cell_type": "markdown",
   "metadata": {
    "cell_id": "5c170ad43ed74ad88d5e748be8bb2a6d",
    "lambdacheck": {
     "layout": {
      "column_offset": 0,
      "column_span": 4,
      "row_span": 10
     }
    }
   },
   "source": [
    "The padded sequences are stored in a tensor."
   ]
  },
  {
   "cell_type": "code",
   "execution_count": 10,
   "metadata": {
    "cell_id": "ca91ada4e4324d5683dace82ec804f4c",
    "lambdacheck": {
     "layout": {
      "column_offset": 4,
      "column_span": 8
     }
    }
   },
   "outputs": [
    {
     "data": {
      "text/plain": [
       "array([[   5,   25,  100, ...,   19,  178,   32],\n",
       "       [   0,    0,    0, ...,   16,  145,   95],\n",
       "       [   0,    0,    0, ...,    7,  129,  113],\n",
       "       ...,\n",
       "       [  42, 1134,    6, ...,   72,   33,   32],\n",
       "       [5533,   15,    4, ...,   28,  126,  110],\n",
       "       [   0,    0,    0, ...,    7,   43,   50]], dtype=int32)"
      ]
     },
     "execution_count": 10,
     "metadata": {},
     "output_type": "execute_result"
    }
   ],
   "source": [
    "x_padded[:10]"
   ]
  },
  {
   "cell_type": "markdown",
   "metadata": {
    "cell_id": "4ed616f8a9a24cef99de48be919b9c0d"
   },
   "source": [
    "# The Embedding Layer"
   ]
  },
  {
   "cell_type": "markdown",
   "metadata": {
    "cell_id": "13fa3b75484c46eb85957ac2f92251a8",
    "lambdacheck": {
     "layout": {
      "column_offset": 0,
      "column_span": 4,
      "row_span": 10
     }
    }
   },
   "source": [
    "Construct an embedding layer"
   ]
  },
  {
   "cell_type": "code",
   "execution_count": 12,
   "metadata": {
    "cell_id": "cb69c02b0fcd4a35852b2f62c89ef1d7",
    "lambdacheck": {
     "layout": {
      "column_offset": 4,
      "column_span": 8
     }
    }
   },
   "outputs": [],
   "source": [
    "V = 10000\n",
    "emb_dim = 20\n",
    "\n",
    "embedding = layers.Embedding(V, emb_dim)"
   ]
  },
  {
   "cell_type": "markdown",
   "metadata": {
    "cell_id": "49f0ac2994004b658a684f2c8b0c5bbc",
    "lambdacheck": {
     "layout": {
      "column_offset": 0,
      "column_span": 4,
      "row_span": 10
     }
    }
   },
   "source": [
    "We can use the embedding layer to map ordinals to vectors."
   ]
  },
  {
   "cell_type": "code",
   "execution_count": 16,
   "metadata": {
    "cell_id": "1b3a78e30eb74ca38ad27146ea7a5afb",
    "lambdacheck": {
     "layout": {
      "column_offset": 4,
      "column_span": 8
     }
    }
   },
   "outputs": [
    {
     "data": {
      "text/plain": [
       "<tf.Tensor: shape=(1, 3, 20), dtype=float32, numpy=\n",
       "array([[[ 0.01752738, -0.03314637,  0.01473473,  0.0061217 ,\n",
       "          0.03070916,  0.01097447, -0.02551485,  0.04575075,\n",
       "         -0.04992241, -0.03964483, -0.01084699,  0.02344653,\n",
       "          0.04034713, -0.04007636,  0.00895436,  0.02949199,\n",
       "          0.04813573,  0.0168754 ,  0.01897048, -0.02920285],\n",
       "        [ 0.04358936,  0.02829284,  0.04363424,  0.0353098 ,\n",
       "         -0.04069038,  0.04126066,  0.0076711 , -0.03629258,\n",
       "         -0.00337466,  0.04948654, -0.03392481,  0.03110505,\n",
       "          0.04464323,  0.01402121,  0.031125  ,  0.01389359,\n",
       "         -0.03116088,  0.03402023,  0.03258195, -0.01341359],\n",
       "        [ 0.04358936,  0.02829284,  0.04363424,  0.0353098 ,\n",
       "         -0.04069038,  0.04126066,  0.0076711 , -0.03629258,\n",
       "         -0.00337466,  0.04948654, -0.03392481,  0.03110505,\n",
       "          0.04464323,  0.01402121,  0.031125  ,  0.01389359,\n",
       "         -0.03116088,  0.03402023,  0.03258195, -0.01341359]]],\n",
       "      dtype=float32)>"
      ]
     },
     "execution_count": 16,
     "metadata": {},
     "output_type": "execute_result"
    }
   ],
   "source": [
    "# This is a batch of size 1,\n",
    "# the sequence is three ordinals: 1, 2, 2\n",
    "input_seq = np.array([[1,2,2]])\n",
    "\n",
    "embedding(input_seq)"
   ]
  },
  {
   "cell_type": "code",
   "execution_count": 20,
   "metadata": {
    "cell_id": "1b3a78e30eb74ca38ad27146ea7a5afb",
    "lambdacheck": {
     "layout": {
      "column_offset": 4,
      "column_span": 8
     }
    }
   },
   "outputs": [
    {
     "name": "stdout",
     "output_type": "stream",
     "text": [
      "(1, 3) => (1, 3, 20)\n"
     ]
    }
   ],
   "source": [
    "output_vecs = embedding(input_seq)\n",
    "\n",
    "print(input_seq.shape, \"=>\", output_vecs.shape)"
   ]
  },
  {
   "cell_type": "markdown",
   "metadata": {
    "cell_id": "28f045975152434785a8df951ec04e60",
    "lambdacheck": {
     "layout": {
      "column_offset": 0,
      "column_span": 4,
      "row_span": 10
     }
    }
   },
   "source": [
    "The embedding layer has a model parameter which is the embedding matrix."
   ]
  },
  {
   "cell_type": "code",
   "execution_count": 19,
   "metadata": {
    "cell_id": "693517ac395d455f8ca06d2ad25025ef",
    "lambdacheck": {
     "layout": {
      "column_offset": 4,
      "column_span": 8
     }
    }
   },
   "outputs": [
    {
     "data": {
      "text/plain": [
       "(10000, 20)"
      ]
     },
     "execution_count": 19,
     "metadata": {},
     "output_type": "execute_result"
    }
   ],
   "source": [
    "embedding.get_weights()[0].shape"
   ]
  },
  {
   "cell_type": "markdown",
   "metadata": {
    "cell_id": "e14b3cb804584c8093d4401f3600de9f"
   },
   "source": [
    "# Recurrent Neural Network Layer: SimpleRNN"
   ]
  },
  {
   "cell_type": "markdown",
   "metadata": {
    "cell_id": "178e125ce37f488f841d20225f29f3e6",
    "lambdacheck": {
     "layout": {
      "column_offset": 0,
      "column_span": 4,
      "row_span": 10
     }
    }
   },
   "source": [
    "Construct a simple RNN."
   ]
  },
  {
   "cell_type": "code",
   "execution_count": 21,
   "metadata": {
    "cell_id": "368012b8ef6b48a498ff04a1d3b6fb71",
    "lambdacheck": {
     "layout": {
      "column_offset": 4,
      "column_span": 8
     }
    }
   },
   "outputs": [],
   "source": [
    "state_dim = 7\n",
    "rnn = layers.SimpleRNN(state_dim)"
   ]
  },
  {
   "cell_type": "code",
   "execution_count": 22,
   "metadata": {
    "cell_id": "368012b8ef6b48a498ff04a1d3b6fb71",
    "lambdacheck": {
     "layout": {
      "column_offset": 4,
      "column_span": 8
     }
    }
   },
   "outputs": [
    {
     "name": "stdout",
     "output_type": "stream",
     "text": [
      "input_seq: (2, 3)\n",
      "embdded_vectors: (2, 3, 20)\n",
      "state_vector: (2, 7)\n"
     ]
    }
   ],
   "source": [
    "# start with a sequence of ordinals:\n",
    "input_seq = np.array([[1,2,2], [1,12,0]])\n",
    "print(\"input_seq:\", input_seq.shape)\n",
    "\n",
    "# embed them into our vector space of dim 20.\n",
    "embedded_vectors = embedding(input_seq)\n",
    "print(\"embdded_vectors:\", embedded_vectors.shape)\n",
    "\n",
    "# map the embedded vector sequence into a single state vector\n",
    "state_vector = rnn(embedded_vectors)\n",
    "print(\"state_vector:\", state_vector.shape)"
   ]
  },
  {
   "cell_type": "markdown",
   "metadata": {
    "cell_id": "adcf472ba8d544caa697d41f4f8d281c"
   },
   "source": [
    "# Finally, we can map the state to category"
   ]
  },
  {
   "cell_type": "markdown",
   "metadata": {
    "cell_id": "4825288b0989459d9da061195617b118",
    "lambdacheck": {
     "layout": {
      "column_offset": 0,
      "column_span": 4,
      "row_span": 10
     }
    }
   },
   "source": [
    "Construct a dense layer with sigmoid activation."
   ]
  },
  {
   "cell_type": "code",
   "execution_count": 25,
   "metadata": {
    "cell_id": "6abd33be5a6a47378d9e7a50dc8ccf64",
    "lambdacheck": {
     "layout": {
      "column_offset": 4,
      "column_span": 8
     }
    }
   },
   "outputs": [],
   "source": [
    "dense = layers.Dense(1, activation='sigmoid')"
   ]
  },
  {
   "cell_type": "code",
   "execution_count": 26,
   "metadata": {
    "cell_id": "6abd33be5a6a47378d9e7a50dc8ccf64",
    "lambdacheck": {
     "layout": {
      "column_offset": 4,
      "column_span": 8
     }
    }
   },
   "outputs": [
    {
     "name": "stdout",
     "output_type": "stream",
     "text": [
      "input_seq: (2, 3)\n",
      "embdded_vectors: (2, 3, 20)\n",
      "state_vector: (2, 7)\n",
      "tf.Tensor(\n",
      "[[0.4951419 ]\n",
      " [0.49233618]], shape=(2, 1), dtype=float32)\n"
     ]
    }
   ],
   "source": [
    "# start with a sequence of ordinals:\n",
    "input_seq = np.array([[1,2,2], [1,12,0]])\n",
    "print(\"input_seq:\", input_seq.shape)\n",
    "\n",
    "# embed them into our vector space of dim 20.\n",
    "embedded_vectors = embedding(input_seq)\n",
    "print(\"embdded_vectors:\", embedded_vectors.shape)\n",
    "\n",
    "# map the embedded vector sequence into a single state vector\n",
    "state_vector = rnn(embedded_vectors)\n",
    "print(\"state_vector:\", state_vector.shape)\n",
    "\n",
    "# map the state vector to a probability of 0, 1.\n",
    "category = dense(state_vector)\n",
    "print(category)"
   ]
  },
  {
   "cell_type": "markdown",
   "metadata": {
    "cell_id": "0385e818d13b4822ad289444d769daf0"
   },
   "source": [
    "# Building an end-to-end network"
   ]
  },
  {
   "cell_type": "markdown",
   "metadata": {
    "cell_id": "408bd104a9964609b535750da31b049f",
    "lambdacheck": {
     "layout": {
      "column_offset": 0,
      "column_span": 4,
      "row_span": 10
     }
    }
   },
   "source": [
    "We will use the functional API to build the network."
   ]
  },
  {
   "cell_type": "code",
   "execution_count": 28,
   "metadata": {
    "cell_id": "cb799f776c5d4cdead4a94f6e1a1fc5e",
    "lambdacheck": {
     "layout": {
      "column_offset": 4,
      "column_span": 8
     }
    }
   },
   "outputs": [],
   "source": [
    "maxlen = 200\n",
    "inputs = layers.Input(shape=(maxlen))\n",
    "x = embedding(inputs)\n",
    "x = rnn(x)\n",
    "output = dense(x)"
   ]
  },
  {
   "cell_type": "code",
   "execution_count": 30,
   "metadata": {
    "cell_id": "cb799f776c5d4cdead4a94f6e1a1fc5e",
    "lambdacheck": {
     "layout": {
      "column_offset": 4,
      "column_span": 8
     }
    },
    "scrolled": true
   },
   "outputs": [
    {
     "name": "stdout",
     "output_type": "stream",
     "text": [
      "Model: \"model\"\n",
      "_________________________________________________________________\n",
      "Layer (type)                 Output Shape              Param #   \n",
      "=================================================================\n",
      "input_1 (InputLayer)         [(None, 200)]             0         \n",
      "_________________________________________________________________\n",
      "embedding (Embedding)        (None, 200, 20)           200000    \n",
      "_________________________________________________________________\n",
      "simple_rnn (SimpleRNN)       (None, 7)                 196       \n",
      "_________________________________________________________________\n",
      "dense_1 (Dense)              (None, 1)                 8         \n",
      "=================================================================\n",
      "Total params: 200,204\n",
      "Trainable params: 200,204\n",
      "Non-trainable params: 0\n",
      "_________________________________________________________________\n"
     ]
    }
   ],
   "source": [
    "model = models.Model(inputs=inputs, outputs=output)\n",
    "model.summary()"
   ]
  },
  {
   "cell_type": "code",
   "execution_count": 31,
   "metadata": {
    "cell_id": "cb799f776c5d4cdead4a94f6e1a1fc5e",
    "lambdacheck": {
     "layout": {
      "column_offset": 4,
      "column_span": 8
     }
    },
    "scrolled": true
   },
   "outputs": [],
   "source": [
    "model.compile(optimizer='adam', loss='binary_crossentropy', metrics=['acc'])"
   ]
  },
  {
   "cell_type": "code",
   "execution_count": 33,
   "metadata": {
    "cell_id": "debfe2c12e11432f8fe8add89bd188a3"
   },
   "outputs": [
    {
     "name": "stdout",
     "output_type": "stream",
     "text": [
      "Epoch 1/5\n",
      "157/157 [==============================] - 11s 62ms/step - loss: 0.6247 - acc: 0.6744 - val_loss: 0.4891 - val_acc: 0.8186\n",
      "Epoch 2/5\n",
      "157/157 [==============================] - 10s 62ms/step - loss: 0.4365 - acc: 0.8461 - val_loss: 0.4303 - val_acc: 0.8230\n",
      "Epoch 3/5\n",
      "157/157 [==============================] - 9s 60ms/step - loss: 0.3517 - acc: 0.8771 - val_loss: 0.4650 - val_acc: 0.7932\n",
      "Epoch 4/5\n",
      "157/157 [==============================] - 10s 62ms/step - loss: 0.3289 - acc: 0.8783 - val_loss: 0.3875 - val_acc: 0.8374\n",
      "Epoch 5/5\n",
      "157/157 [==============================] - 10s 63ms/step - loss: 0.2664 - acc: 0.9078 - val_loss: 0.3883 - val_acc: 0.8452\n"
     ]
    },
    {
     "data": {
      "text/plain": [
       "<tensorflow.python.keras.callbacks.History at 0x7f5d46632190>"
      ]
     },
     "execution_count": 33,
     "metadata": {},
     "output_type": "execute_result"
    }
   ],
   "source": [
    "# Train the model\n",
    "\n",
    "model.fit(x_padded, y_train, epochs=5, batch_size=128, validation_split=0.2)"
   ]
  },
  {
   "cell_type": "code",
   "execution_count": null,
   "metadata": {
    "cell_id": "4c27d7b5519e488d8335bdf66394c0a2"
   },
   "outputs": [],
   "source": []
  }
 ],
 "metadata": {
  "celltoolbar": "λ.check",
  "kernelspec": {
   "display_name": "Python 3",
   "language": "python",
   "name": "python3"
  },
  "language_info": {
   "codemirror_mode": {
    "name": "ipython",
    "version": 3
   },
   "file_extension": ".py",
   "mimetype": "text/x-python",
   "name": "python",
   "nbconvert_exporter": "python",
   "pygments_lexer": "ipython3",
   "version": "3.8.6"
  }
 },
 "nbformat": 4,
 "nbformat_minor": 4
}
