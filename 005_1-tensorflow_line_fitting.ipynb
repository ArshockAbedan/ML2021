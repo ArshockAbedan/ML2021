{
 "cells": [
  {
   "cell_type": "markdown",
   "metadata": {
    "cell_id": "cd8a080dfcb8477b84e1aa2e352d1f19"
   },
   "source": [
    "# Line Fitting with Tensorflow Autograd"
   ]
  },
  {
   "cell_type": "code",
   "execution_count": 1,
   "metadata": {
    "cell_id": "747c160cb56b4fc085ad1175d60d9b75"
   },
   "outputs": [],
   "source": [
    "import tensorflow as tf\n",
    "import numpy as np\n",
    "import matplotlib.pyplot as pl"
   ]
  },
  {
   "cell_type": "markdown",
   "metadata": {
    "cell_id": "2a7c4740bc604317bc1f57c17464f04e",
    "lambdacheck": {
     "layout": {
      "column_offset": 0,
      "column_span": 4,
      "row_span": 10
     }
    }
   },
   "source": [
    "**Training Data**\n",
    "\n",
    "We will generate some data.  This time, we will generate a non-linear curve."
   ]
  },
  {
   "cell_type": "code",
   "execution_count": 2,
   "metadata": {
    "cell_id": "0010836544944a028234aa33df211e2b",
    "lambdacheck": {
     "layout": {
      "column_offset": 4,
      "column_span": 8
     }
    }
   },
   "outputs": [
    {
     "data": {
      "image/png": "[encoded data removed]",
      "text/plain": [
       "<Figure size 432x288 with 1 Axes>"
      ]
     },
     "metadata": {
      "needs_background": "light"
     },
     "output_type": "display_data"
    }
   ],
   "source": [
    "x_data = np.linspace(0, 1, 10)\n",
    "y_data = 3 * x_data + 1 + np.sin(6*x_data)\n",
    "\n",
    "pl.plot(x_data, y_data, '--o');"
   ]
  },
  {
   "cell_type": "markdown",
   "metadata": {
    "cell_id": "3f9733ba003d484b8e19970d31c82136",
    "lambdacheck": {
     "layout": {
      "column_offset": 0,
      "column_span": 4,
      "row_span": 10
     }
    }
   },
   "source": [
    "**Model and its parameters**\n",
    "\n",
    "$$ f(x) = wx + b $$\n",
    "\n",
    "So the model parameters are $w$ and $b$ which will be TensorFlow variables.\n",
    "\n",
    "$$ \\theta = [w, b] $$"
   ]
  },
  {
   "cell_type": "code",
   "execution_count": 3,
   "metadata": {
    "cell_id": "f1d7fb31ada741d1b71a0e3b46ae29ff",
    "lambdacheck": {
     "layout": {
      "column_offset": 4,
      "column_span": 8
     }
    }
   },
   "outputs": [],
   "source": [
    "theta = [\n",
    "    tf.Variable(-1.0, dtype=tf.float64), # w\n",
    "    tf.Variable(0.0, dtype=tf.float64),  #b\n",
    "]\n",
    "\n",
    "def f(x):\n",
    "    w, b = theta\n",
    "    return w*x + b"
   ]
  },
  {
   "cell_type": "markdown",
   "metadata": {
    "cell_id": "e1d76e65e197465783a49bfdd213baea",
    "lambdacheck": {
     "layout": {
      "column_offset": 0,
      "column_span": 4,
      "row_span": 10
     }
    }
   },
   "source": [
    "**Loss function**\n",
    "\n",
    "$$ L = \\frac{1}{n}\\sum_i(y_{data}[i] - y_{pred}[i])^2$$"
   ]
  },
  {
   "cell_type": "code",
   "execution_count": 4,
   "metadata": {
    "cell_id": "3753d67e00ac4bcb898927a9b111489c",
    "lambdacheck": {
     "layout": {
      "column_offset": 4,
      "column_span": 8
     }
    }
   },
   "outputs": [],
   "source": [
    "def loss(y_data, y_pred):\n",
    "    return tf.reduce_mean((y_data - y_pred)**2)"
   ]
  },
  {
   "cell_type": "markdown",
   "metadata": {
    "cell_id": "037e91ca591244229111ccf9a7aa6aed",
    "lambdacheck": {
     "layout": {
      "column_offset": 0,
      "column_span": 4,
      "row_span": 10
     }
    }
   },
   "source": [
    "**Optimizer**\n",
    "\n",
    "- The optimizer will use GradientTape to compute the gradient.\n",
    "\n",
    "\n",
    "- It will adjust the model parameter by **one** step against the gradient according to some learning rate."
   ]
  },
  {
   "cell_type": "code",
   "execution_count": 5,
   "metadata": {
    "cell_id": "44134ed74e1346c3898b1b78be321268",
    "lambdacheck": {
     "layout": {
      "column_offset": 4,
      "column_span": 8
     }
    }
   },
   "outputs": [],
   "source": [
    "def optimize(alpha):\n",
    "    with tf.GradientTape() as tape:\n",
    "        L = loss(y_data, f(x_data))\n",
    "        \n",
    "    grads = tape.gradient(L, theta)\n",
    "    for (grad, var) in zip(grads, theta):\n",
    "        var.assign_sub(alpha * grad)\n",
    "    \n",
    "    # Return the new loss\n",
    "    return loss(y_data, f(x_data))"
   ]
  },
  {
   "cell_type": "markdown",
   "metadata": {
    "cell_id": "e229a3ef7b674f5eab44919558e52f52",
    "lambdacheck": {
     "layout": {
      "column_offset": 0,
      "column_span": 4,
      "row_span": 10
     }
    }
   },
   "source": [
    "**Training**\n",
    "\n",
    "- Use the optimize to adjust the model\n",
    "  parameters $n$ times.\n",
    "  \n",
    "  \n",
    "- Each iteration is call an **epoch**.\n",
    "\n",
    "\n",
    "- $n$ is the number of **epoches**."
   ]
  },
  {
   "cell_type": "code",
   "execution_count": 6,
   "metadata": {
    "cell_id": "b75e0aac39fb4c78849aa95c3a416a45",
    "lambdacheck": {
     "layout": {
      "column_offset": 4,
      "column_span": 8
     }
    }
   },
   "outputs": [],
   "source": [
    "def train(theta_init, alpha, epochs):\n",
    "    for var, val_init in zip(theta, theta_init):\n",
    "        var.assign(val_init)\n",
    "        \n",
    "    for i in range(epochs):\n",
    "        L = optimize(alpha)\n",
    "        if (i % (epochs // 10)) == 0:\n",
    "            print(\"[%.2d] %.2f\" % (i, L.numpy()))"
   ]
  },
  {
   "cell_type": "markdown",
   "metadata": {
    "cell_id": "4fb5e31fb90947f7b180c10f75267e8b",
    "lambdacheck": {
     "layout": {
      "column_offset": 0,
      "column_span": 4,
      "row_span": 10
     }
    }
   },
   "source": [
    "We will initialize the model parameters as:\n",
    "\n",
    "- $w = -1.0$\n",
    "\n",
    "- $b = 0$"
   ]
  },
  {
   "cell_type": "code",
   "execution_count": 7,
   "metadata": {
    "cell_id": "98414aa12baa473ba676a54c02c183bb",
    "lambdacheck": {
     "layout": {
      "column_offset": 4,
      "column_span": 8
     }
    },
    "scrolled": true
   },
   "outputs": [
    {
     "name": "stdout",
     "output_type": "stream",
     "text": [
      "[00] 9.33\n",
      "[100] 0.39\n",
      "[200] 0.31\n",
      "[300] 0.29\n",
      "[400] 0.27\n",
      "[500] 0.26\n",
      "[600] 0.25\n",
      "[700] 0.25\n",
      "[800] 0.24\n",
      "[900] 0.24\n"
     ]
    }
   ],
   "source": [
    "train([-1.0, 0.0], 0.01, 1000)"
   ]
  },
  {
   "cell_type": "markdown",
   "metadata": {
    "cell_id": "9569d2eb89b9497d8dcef546a2a50ccb",
    "lambdacheck": {
     "layout": {
      "column_offset": 0,
      "column_span": 4,
      "row_span": 10
     }
    }
   },
   "source": [
    "Plot the model prediction against data."
   ]
  },
  {
   "cell_type": "code",
   "execution_count": 9,
   "metadata": {
    "cell_id": "303d91727e2a47e690d98df4389d8021",
    "lambdacheck": {
     "layout": {
      "column_offset": 4,
      "column_span": 8
     }
    }
   },
   "outputs": [
    {
     "data": {
      "image/png": "[encoded data removed]",
      "text/plain": [
       "<Figure size 432x288 with 1 Axes>"
      ]
     },
     "metadata": {
      "needs_background": "light"
     },
     "output_type": "display_data"
    }
   ],
   "source": [
    "pl.plot(x_data, f(x_data), color='red')\n",
    "pl.plot(x_data, y_data, 'o');"
   ]
  },
  {
   "cell_type": "code",
   "execution_count": null,
   "metadata": {
    "cell_id": "d748f7809bd040bf8580207f73ebcf84"
   },
   "outputs": [],
   "source": []
  }
 ],
 "metadata": {
  "celltoolbar": "λ.check",
  "kernelspec": {
   "display_name": "Python 3",
   "language": "python",
   "name": "python3"
  },
  "language_info": {
   "codemirror_mode": {
    "name": "ipython",
    "version": 3
   },
   "file_extension": ".py",
   "mimetype": "text/x-python",
   "name": "python",
   "nbconvert_exporter": "python",
   "pygments_lexer": "ipython3",
   "version": "3.8.6"
  }
 },
 "nbformat": 4,
 "nbformat_minor": 4
}
