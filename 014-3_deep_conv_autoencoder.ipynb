{
 "cells": [
  {
   "cell_type": "code",
   "execution_count": 1,
   "metadata": {
    "cell_id": "00cdb965dcd146338d8be19d757135b0"
   },
   "outputs": [],
   "source": [
    "import tensorflow.keras as keras\n",
    "import tensorflow.keras.layers as layers\n",
    "import numpy as np\n",
    "import matplotlib.pyplot as pl"
   ]
  },
  {
   "cell_type": "code",
   "execution_count": 2,
   "metadata": {
    "cell_id": "17d838022fe8475e8604d5e5980e2b67"
   },
   "outputs": [],
   "source": [
    "#\n",
    "# Load the data\n",
    "#\n",
    "\n",
    "(x_train, y_train), (x_test, y_test) = keras.datasets.mnist.load_data()\n",
    "x_train = x_train / 255.\n",
    "x_test = x_test / 255.\n",
    "\n",
    "x_train = x_train.reshape(-1, 28, 28,1)\n",
    "x_test = x_test.reshape(-1, 28, 28, 1)"
   ]
  },
  {
   "cell_type": "code",
   "execution_count": 3,
   "metadata": {
    "cell_id": "68b7d6f6f44a4c5480cf4429d970c72d"
   },
   "outputs": [],
   "source": [
    "#\n",
    "# Build the encoder layers using 3 layers of Conv2D with MaxPooling2D\n",
    "#\n",
    "\n",
    "encoder_layers = [\n",
    "    layers.Conv2D(16, (3, 3), activation='relu', padding='same'),\n",
    "    layers.MaxPooling2D((2,2), padding='same'),\n",
    "    layers.Conv2D(8, (3, 3), activation='relu', padding='same'),\n",
    "    layers.MaxPooling2D((2,2), padding='same'),\n",
    "    layers.Conv2D(8, (3, 3), activation='relu', padding='same'),\n",
    "    layers.MaxPooling2D((2,2), padding='same')\n",
    "]"
   ]
  },
  {
   "cell_type": "code",
   "execution_count": 8,
   "metadata": {
    "cell_id": "53efcaa1c03c480c9da3a2b6cd7b96e6"
   },
   "outputs": [],
   "source": [
    "#\n",
    "# Decoder layers uses Conv2D followed by UpSampling2D\n",
    "#\n",
    "decoder_layers = [\n",
    "    layers.Conv2D(8, (3,3), activation='relu', padding='same'),\n",
    "    layers.UpSampling2D((2, 2)),\n",
    "    layers.Conv2D(8, (3,3), activation='relu', padding='same'),\n",
    "    layers.UpSampling2D((2, 2)),\n",
    "    layers.Conv2D(16, (3,3), activation='relu'),\n",
    "    layers.UpSampling2D((2, 2)),\n",
    "    layers.Conv2D(1, (3,3), activation='sigmoid', padding='same')\n",
    "]"
   ]
  },
  {
   "cell_type": "code",
   "execution_count": 9,
   "metadata": {
    "cell_id": "21aa0c114dbc4ba48d735b5b2eacb062"
   },
   "outputs": [],
   "source": [
    "autoencoder = keras.Sequential([\n",
    "    layers.Input(shape=(28, 28, 1)),\n",
    "] + encoder_layers + decoder_layers)\n",
    "\n",
    "autoencoder.compile(optimizer='adam', loss='binary_crossentropy')"
   ]
  },
  {
   "cell_type": "code",
   "execution_count": 10,
   "metadata": {
    "cell_id": "e2c64e9dbbc4410d93891a0d8e65a24e"
   },
   "outputs": [
    {
     "name": "stdout",
     "output_type": "stream",
     "text": [
      "Model: \"sequential_1\"\n",
      "_________________________________________________________________\n",
      "Layer (type)                 Output Shape              Param #   \n",
      "=================================================================\n",
      "conv2d (Conv2D)              (None, 28, 28, 16)        160       \n",
      "_________________________________________________________________\n",
      "max_pooling2d (MaxPooling2D) (None, 14, 14, 16)        0         \n",
      "_________________________________________________________________\n",
      "conv2d_1 (Conv2D)            (None, 14, 14, 8)         1160      \n",
      "_________________________________________________________________\n",
      "max_pooling2d_1 (MaxPooling2 (None, 7, 7, 8)           0         \n",
      "_________________________________________________________________\n",
      "conv2d_2 (Conv2D)            (None, 7, 7, 8)           584       \n",
      "_________________________________________________________________\n",
      "max_pooling2d_2 (MaxPooling2 (None, 4, 4, 8)           0         \n",
      "_________________________________________________________________\n",
      "conv2d_7 (Conv2D)            (None, 4, 4, 8)           584       \n",
      "_________________________________________________________________\n",
      "up_sampling2d_3 (UpSampling2 (None, 8, 8, 8)           0         \n",
      "_________________________________________________________________\n",
      "conv2d_8 (Conv2D)            (None, 8, 8, 8)           584       \n",
      "_________________________________________________________________\n",
      "up_sampling2d_4 (UpSampling2 (None, 16, 16, 8)         0         \n",
      "_________________________________________________________________\n",
      "conv2d_9 (Conv2D)            (None, 14, 14, 16)        1168      \n",
      "_________________________________________________________________\n",
      "up_sampling2d_5 (UpSampling2 (None, 28, 28, 16)        0         \n",
      "_________________________________________________________________\n",
      "conv2d_10 (Conv2D)           (None, 28, 28, 1)         145       \n",
      "=================================================================\n",
      "Total params: 4,385\n",
      "Trainable params: 4,385\n",
      "Non-trainable params: 0\n",
      "_________________________________________________________________\n"
     ]
    }
   ],
   "source": [
    "autoencoder.summary()"
   ]
  },
  {
   "cell_type": "code",
   "execution_count": 11,
   "metadata": {
    "cell_id": "5578588e0b984e678a67d97f8e73591d"
   },
   "outputs": [
    {
     "name": "stdout",
     "output_type": "stream",
     "text": [
      "Epoch 1/10\n",
      "469/469 [==============================] - 15s 31ms/step - loss: 0.2986\n",
      "Epoch 2/10\n",
      "469/469 [==============================] - 15s 32ms/step - loss: 0.1414\n",
      "Epoch 3/10\n",
      "469/469 [==============================] - 15s 33ms/step - loss: 0.1233\n",
      "Epoch 4/10\n",
      "469/469 [==============================] - 15s 32ms/step - loss: 0.1153\n",
      "Epoch 5/10\n",
      "469/469 [==============================] - 16s 33ms/step - loss: 0.1107\n",
      "Epoch 6/10\n",
      "469/469 [==============================] - 15s 32ms/step - loss: 0.1082\n",
      "Epoch 7/10\n",
      "469/469 [==============================] - 15s 32ms/step - loss: 0.1058\n",
      "Epoch 8/10\n",
      "469/469 [==============================] - 15s 33ms/step - loss: 0.1048\n",
      "Epoch 9/10\n",
      "469/469 [==============================] - 15s 33ms/step - loss: 0.1035\n",
      "Epoch 10/10\n",
      "469/469 [==============================] - 15s 33ms/step - loss: 0.1023\n"
     ]
    },
    {
     "data": {
      "text/plain": [
       "<tensorflow.python.keras.callbacks.History at 0x7f1f005af160>"
      ]
     },
     "execution_count": 11,
     "metadata": {},
     "output_type": "execute_result"
    }
   ],
   "source": [
    "autoencoder.fit(x_train, x_train, epochs=10, batch_size=128)"
   ]
  },
  {
   "cell_type": "code",
   "execution_count": 12,
   "metadata": {
    "cell_id": "1d16363d2e424ad087a5d6fd6816a8d1"
   },
   "outputs": [
    {
     "data": {
      "image/png": "[encoded data removed]",
      "text/plain": [
       "<Figure size 1440x288 with 20 Axes>"
      ]
     },
     "metadata": {
      "needs_background": "light"
     },
     "output_type": "display_data"
    }
   ],
   "source": [
    "import my\n",
    "my.plot_reconstruction(autoencoder, x_test, 10)"
   ]
  },
  {
   "cell_type": "code",
   "execution_count": 13,
   "metadata": {
    "cell_id": "0ea5ab85f42448c2972a96d8d3660b21"
   },
   "outputs": [
    {
     "name": "stdout",
     "output_type": "stream",
     "text": [
      "INFO:tensorflow:Assets written to: ./3_deep_conv_autoencoder.model/assets\n"
     ]
    }
   ],
   "source": [
    "autoencoder.save('./3_deep_conv_autoencoder.model')"
   ]
  },
  {
   "cell_type": "code",
   "execution_count": null,
   "metadata": {
    "cell_id": "cb1df344d712486c86078736212aa794"
   },
   "outputs": [],
   "source": []
  }
 ],
 "metadata": {
  "celltoolbar": "λ.check",
  "kernelspec": {
   "display_name": "Python 3",
   "language": "python",
   "name": "python3"
  },
  "language_info": {
   "codemirror_mode": {
    "name": "ipython",
    "version": 3
   },
   "file_extension": ".py",
   "mimetype": "text/x-python",
   "name": "python",
   "nbconvert_exporter": "python",
   "pygments_lexer": "ipython3",
   "version": "3.8.6"
  }
 },
 "nbformat": 4,
 "nbformat_minor": 4
}
