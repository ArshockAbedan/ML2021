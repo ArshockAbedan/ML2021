{
  "nbformat": 4,
  "nbformat_minor": 0,
  "metadata": {
    "colab": {
      "name": "Keras.ipynb",
      "provenance": [],
      "authorship_tag": "ABX9TyOBgGU+U8hLy7V6qP5yTP20",
      "include_colab_link": true
    },
    "kernelspec": {
      "name": "python3",
      "display_name": "Python 3"
    }
  },
  "cells": [
    {
      "cell_type": "markdown",
      "metadata": {
        "id": "view-in-github",
        "colab_type": "text"
      },
      "source": [
        "<a href=\"https://colab.research.google.com/github/ArshockAbedan/ML2021/blob/main/Keras.ipynb\" target=\"_parent\"><img src=\"https://colab.research.google.com/assets/colab-badge.svg\" alt=\"Open In Colab\"/></a>"
      ]
    },
    {
      "cell_type": "markdown",
      "metadata": {
        "id": "XHpUtbtQX3KB"
      },
      "source": [
        "Keras API"
      ]
    },
    {
      "cell_type": "code",
      "metadata": {
        "id": "zBKCYejdUBW0"
      },
      "source": [
        "import numpy as np\r\n",
        "import matplotlib.pyplot as plt\r\n",
        "import tensorflow as tf\r\n",
        "import tensorflow.keras.layers as layers\r\n",
        "import tensorflow.keras.models as models\r\n",
        "import tensorflow.keras.losses as losses\r\n",
        "import tensorflow.keras.optimizers as optimizers\r\n",
        "import tensorflow.keras.metrics as metrics\r\n"
      ],
      "execution_count": null,
      "outputs": []
    },
    {
      "cell_type": "code",
      "metadata": {
        "id": "YqvGDxusUE4U"
      },
      "source": [
        "# The Model\r\n",
        "model = models.Sequential([\r\n",
        "    layers.Input(shape=(1,)),\r\n",
        "    layers.Dense(1),\r\n",
        "])"
      ],
      "execution_count": null,
      "outputs": []
    },
    {
      "cell_type": "code",
      "metadata": {
        "id": "vvX0ehAHUSLB"
      },
      "source": [
        "model.compile(\r\n",
        "    loss = losses.MeanSquaredError(),\r\n",
        "    optimizer = optimizers.SGD(learning_rate=1e-3),\r\n",
        "    metrics = [metrics.MeanAbsoluteError()],\r\n",
        ")"
      ],
      "execution_count": null,
      "outputs": []
    },
    {
      "cell_type": "code",
      "metadata": {
        "id": "1XQLca1NUUeA",
        "colab": {
          "base_uri": "https://localhost:8080/"
        },
        "outputId": "b8372a61-f356-42b2-f400-ff6bdf0ff2c1"
      },
      "source": [
        "model.summary()\r\n"
      ],
      "execution_count": null,
      "outputs": [
        {
          "output_type": "stream",
          "text": [
            "Model: \"sequential\"\n",
            "_________________________________________________________________\n",
            "Layer (type)                 Output Shape              Param #   \n",
            "=================================================================\n",
            "dense_1 (Dense)              (None, 1)                 2         \n",
            "=================================================================\n",
            "Total params: 2\n",
            "Trainable params: 2\n",
            "Non-trainable params: 0\n",
            "_________________________________________________________________\n"
          ],
          "name": "stdout"
        }
      ]
    },
    {
      "cell_type": "markdown",
      "metadata": {
        "id": "ZrtlGiNUacZv"
      },
      "source": [
        "**Training**"
      ]
    },
    {
      "cell_type": "code",
      "metadata": {
        "id": "KVHbU3oJUXIC",
        "colab": {
          "base_uri": "https://localhost:8080/",
          "height": 283
        },
        "outputId": "73547c34-24c8-4586-de9d-2253b3c453fd"
      },
      "source": [
        "x_data = np.linspace(0,10,1000)\r\n",
        "y_data = 3*x_data + np.random.rand(1000)*4\r\n",
        "plt.plot(x_data, y_data, '.')"
      ],
      "execution_count": null,
      "outputs": [
        {
          "output_type": "execute_result",
          "data": {
            "text/plain": [
              "[<matplotlib.lines.Line2D at 0x7f3ed7a20050>]"
            ]
          },
          "metadata": {
            "tags": []
          },
          "execution_count": 19
        },
        {
          "output_type": "display_data",
          "data": {
            "image/png": "[encoded data removed]",
            "text/plain": [
              "<Figure size 432x288 with 1 Axes>"
            ]
          },
          "metadata": {
            "tags": [],
            "needs_background": "light"
          }
        }
      ]
    },
    {
      "cell_type": "code",
      "metadata": {
        "colab": {
          "base_uri": "https://localhost:8080/"
        },
        "id": "uOsuLeHja2xQ",
        "outputId": "8933c56d-3e3f-4e1c-d3cd-3e6bbe84a9de"
      },
      "source": [
        "model.fit(x=x_data, y=y_data, batch_size=32, epochs=10, verbose=2)"
      ],
      "execution_count": null,
      "outputs": [
        {
          "output_type": "stream",
          "text": [
            "Epoch 1/10\n",
            "32/32 - 0s - loss: 130.7583 - mean_absolute_error: 8.6858\n",
            "Epoch 2/10\n",
            "32/32 - 0s - loss: 3.1663 - mean_absolute_error: 1.4342\n",
            "Epoch 3/10\n",
            "32/32 - 0s - loss: 1.7580 - mean_absolute_error: 1.0918\n",
            "Epoch 4/10\n",
            "32/32 - 0s - loss: 1.7280 - mean_absolute_error: 1.0864\n",
            "Epoch 5/10\n",
            "32/32 - 0s - loss: 1.7133 - mean_absolute_error: 1.0823\n",
            "Epoch 6/10\n",
            "32/32 - 0s - loss: 1.7000 - mean_absolute_error: 1.0794\n",
            "Epoch 7/10\n",
            "32/32 - 0s - loss: 1.6854 - mean_absolute_error: 1.0750\n",
            "Epoch 8/10\n",
            "32/32 - 0s - loss: 1.6740 - mean_absolute_error: 1.0717\n",
            "Epoch 9/10\n",
            "32/32 - 0s - loss: 1.6610 - mean_absolute_error: 1.0679\n",
            "Epoch 10/10\n",
            "32/32 - 0s - loss: 1.6476 - mean_absolute_error: 1.0646\n"
          ],
          "name": "stdout"
        },
        {
          "output_type": "execute_result",
          "data": {
            "text/plain": [
              "<tensorflow.python.keras.callbacks.History at 0x7f3ed7ab6f90>"
            ]
          },
          "metadata": {
            "tags": []
          },
          "execution_count": 20
        }
      ]
    },
    {
      "cell_type": "markdown",
      "metadata": {
        "id": "gov6Vv5rb01_"
      },
      "source": [
        "Prediction"
      ]
    },
    {
      "cell_type": "code",
      "metadata": {
        "colab": {
          "base_uri": "https://localhost:8080/",
          "height": 283
        },
        "id": "y6DVZlBNbO-y",
        "outputId": "b16d9c41-c65f-4120-af5c-f060d50f5de3"
      },
      "source": [
        "y_pred = model.predict(x_data)\r\n",
        "\r\n",
        "plt.plot(x_data, y_data, '.', color='#ccc')\r\n",
        "plt.plot(x_data, np.squeeze(y_pred), linewidth=2)"
      ],
      "execution_count": null,
      "outputs": [
        {
          "output_type": "execute_result",
          "data": {
            "text/plain": [
              "[<matplotlib.lines.Line2D at 0x7f3ed6802250>]"
            ]
          },
          "metadata": {
            "tags": []
          },
          "execution_count": 21
        },
        {
          "output_type": "display_data",
          "data": {
            "image/png": "[encoded data removed]",
            "text/plain": [
              "<Figure size 432x288 with 1 Axes>"
            ]
          },
          "metadata": {
            "tags": [],
            "needs_background": "light"
          }
        }
      ]
    },
    {
      "cell_type": "markdown",
      "metadata": {
        "id": "goI5aw_lcBRX"
      },
      "source": [
        "Saving and loading the model"
      ]
    },
    {
      "cell_type": "code",
      "metadata": {
        "id": "reC6_PGabwOa"
      },
      "source": [
        "model.save('./model.h5')"
      ],
      "execution_count": null,
      "outputs": []
    },
    {
      "cell_type": "code",
      "metadata": {
        "colab": {
          "base_uri": "https://localhost:8080/"
        },
        "id": "htB19gbkcM6T",
        "outputId": "1e534645-4c12-4c90-f416-178f3e03fa19"
      },
      "source": [
        "restored_model = models.load_model('./model.h5')\r\n",
        "restored_model.summary()"
      ],
      "execution_count": null,
      "outputs": [
        {
          "output_type": "stream",
          "text": [
            "Model: \"sequential\"\n",
            "_________________________________________________________________\n",
            "Layer (type)                 Output Shape              Param #   \n",
            "=================================================================\n",
            "dense_1 (Dense)              (None, 1)                 2         \n",
            "=================================================================\n",
            "Total params: 2\n",
            "Trainable params: 2\n",
            "Non-trainable params: 0\n",
            "_________________________________________________________________\n"
          ],
          "name": "stdout"
        }
      ]
    },
    {
      "cell_type": "code",
      "metadata": {
        "colab": {
          "base_uri": "https://localhost:8080/",
          "height": 283
        },
        "id": "qe7w_dH-cZwC",
        "outputId": "5e2434fa-b723-4a3b-b179-d8eabd4be9e8"
      },
      "source": [
        "plt.plot(x_data, y_data, '.', color='#ccc')\r\n",
        "plt.plot(x_data, restored_model.predict(x_data).squeeze())"
      ],
      "execution_count": null,
      "outputs": [
        {
          "output_type": "execute_result",
          "data": {
            "text/plain": [
              "[<matplotlib.lines.Line2D at 0x7f3ed419c4d0>]"
            ]
          },
          "metadata": {
            "tags": []
          },
          "execution_count": 25
        },
        {
          "output_type": "display_data",
          "data": {
            "image/png": "[encoded data removed]",
            "text/plain": [
              "<Figure size 432x288 with 1 Axes>"
            ]
          },
          "metadata": {
            "tags": [],
            "needs_background": "light"
          }
        }
      ]
    },
    {
      "cell_type": "code",
      "metadata": {
        "id": "hyUTCEQDc9vT"
      },
      "source": [
        ""
      ],
      "execution_count": null,
      "outputs": []
    }
  ]
}