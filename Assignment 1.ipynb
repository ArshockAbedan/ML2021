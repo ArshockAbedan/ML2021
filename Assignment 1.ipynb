{
 "cells": [
  {
   "cell_type": "markdown",
   "metadata": {
    "cell_id": "8e5e26c52e9a41458379bb9704b8f019",
    "editable": false
   },
   "source": [
    "# Assignment 1"
   ]
  },
  {
   "cell_type": "markdown",
   "metadata": {
    "cell_id": "7484904218e34209836223eafd985aec",
    "editable": false
   },
   "source": [
    "In this assignment, you are to implement a non-linear binary classifer.\n",
    "\n",
    "## Setup\n",
    "\n",
    "Suppose that we have training data in the following from:\n",
    "\n",
    "- we have a collection of 2D vectors: $x: (n, 2)$, and their corresponding labels $y:(n,)$.\n",
    "\n",
    "- Each row in $x$ is a 2D vector, $(x[i,0], x[i,1])$\n",
    "\n",
    "- Each entry in $y$ is either 0 or 1.\n",
    "\n",
    "\n",
    "## Review: Linear Classifier in 2D\n",
    "\n",
    "A linear classifier can be thought of as a composition of linear line fitting followed by sigmoid activation.\n",
    "\n",
    "$$ g(x) = x @ w + b $$\n",
    "where $w:(2,1)$, so $x @ w: (n,1)$, and $b$ is a scalar.\n",
    "\n",
    "Note $g$ is just a linear model with the standard model parameters $(w, b)$.\n",
    "\n",
    "Now, we can add an _activation_ function:\n",
    "\n",
    "$$ \\sigma(x) = \\frac{1}{1+e^{-x}} $$.\n",
    "\n",
    "Together we get what we know as logistic regression, which has been discussed extensively in class.\n",
    "\n",
    "$$ f_\\mathrm{classifier2d}(x) = \\sigma(g(x)) $$\n",
    "\n",
    "\n",
    "## Review: Polynomial Line Fitting in 1D\n",
    "\n",
    "Recall in polynomial line fitting, we first transform $x$ into its power series, which is used\n",
    "as the input to linear model.\n",
    "\n",
    "Specifically, we use the power series function to build\n",
    "a vector from a scalar:\n",
    "\n",
    "$$P_k : \\mathbb{R}\\to\\mathbb{R^{k+1}} : x \\mapsto (1, x, x^2, \\dots, x^k)$$\n",
    "\n",
    "The model is given as: $$f_\\mathrm{poly1d}(x) = P_k(x)@w$$\n",
    "with model parameter $w:(k+1, 1)$.\n",
    "\n",
    "\n",
    "## Polynomial Classifier in 2D\n",
    "\n",
    "In this assignment, we want to combine the two models to create a polynomial classifier in 2D.\n",
    "\n",
    "---"
   ]
  },
  {
   "cell_type": "code",
   "execution_count": 1,
   "metadata": {
    "cell_id": "4c659707a77c4911b0b53db9afba2e6a",
    "editable": false
   },
   "outputs": [],
   "source": [
    "import numpy as np\n",
    "import tensorflow as tf\n",
    "import matplotlib.pyplot as pl"
   ]
  },
  {
   "cell_type": "markdown",
   "metadata": {
    "cell_id": "0c859afa92b0423c8496cff3ccbae2fe",
    "editable": false,
    "lambdacheck": {
     "layout": {
      "column_offset": 0,
      "column_span": 4,
      "row_span": 10
     }
    }
   },
   "source": [
    "We load the data from the CSV file."
   ]
  },
  {
   "cell_type": "code",
   "execution_count": 2,
   "metadata": {
    "cell_id": "1fccb0843f5c47fb8be5dafa07fd9a42",
    "editable": false,
    "lambdacheck": {
     "layout": {
      "column_offset": 4,
      "column_span": 8
     }
    }
   },
   "outputs": [],
   "source": [
    "data = np.loadtxt('./training_2_categories.csv', delimiter=',', skiprows=1)\n",
    "x_data = data[:, [0, 1]]\n",
    "y_data = data[:, -1].astype(int)"
   ]
  },
  {
   "cell_type": "markdown",
   "metadata": {
    "cell_id": "2e0fa86e4c444ddd8c0eebbbc1a5ea04",
    "lambdacheck": {
     "layout": {
      "column_offset": 0,
      "column_span": 12
     },
     "workunit": {
      "id": "2e0fa86e4c444ddd8c0eebbbc1a5ea04",
      "type": "title"
     }
    }
   },
   "source": [
    "## Work Unit 1: Plotting"
   ]
  },
  {
   "cell_type": "markdown",
   "metadata": {
    "cell_id": "0e031a26c507451482341649b7132759",
    "editable": false,
    "lambdacheck": {
     "layout": {
      "column_offset": 0,
      "column_span": 6,
      "row_span": 2
     },
     "workunit": {
      "id": "2e0fa86e4c444ddd8c0eebbbc1a5ea04",
      "type": "text"
     }
    }
   },
   "source": [
    "Implement a function that will plot the two classes of data points on the 2D plane.\n",
    "\n",
    "1. You are to use the `pl.scatter` function to plot the data points.  Each data point should have size set to 3.\n",
    "\n",
    "\n",
    "2. You must plot the first category `y_data == 0` as red, and the second category `y_data == 1` as blue."
   ]
  },
  {
   "cell_type": "code",
   "execution_count": 3,
   "metadata": {
    "cell_id": "91487ce6f1c042d585e7ccd6ca6b61dd",
    "lambdacheck": {
     "layout": {
      "column_offset": 6,
      "column_span": 6
     },
     "workunit": {
      "id": "2e0fa86e4c444ddd8c0eebbbc1a5ea04",
      "type": "student-solution"
     }
    }
   },
   "outputs": [],
   "source": [
    "def plot_data():\n",
    "    red_data = np.array([r for r in data if r[2].astype(int) == 0])\n",
    "    blue_data = np.array([r for r in data if r[2].astype(int) == 1])\n",
    "    marker_size = 3\n",
    "    pl.scatter(red_data[:,0], red_data[:,1], marker_size, c='red');\n",
    "    pl.scatter(blue_data[:,0], blue_data[:,1], marker_size, c='blue');"
   ]
  },
  {
   "cell_type": "code",
   "execution_count": 4,
   "metadata": {
    "cell_id": "087ec50d38054143ae9e34c8c8575c8c",
    "editable": false,
    "lambdacheck": {
     "check": {
      "_check_id": "087ec50d38054143ae9e34c8c8575c8c",
      "_immediate": true,
      "_name": "",
      "display.image/png": true
     },
     "outputs": [
      {
       "data": {
        "image/png": "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\n",
        "text/plain": "<Figure size 432x432 with 1 Axes>"
       },
       "metadata": {
        "needs_background": "light"
       },
       "output_type": "display_data"
      }
     ]
    }
   },
   "outputs": [
    {
     "data": {
      "image/png": "[encoded data removed]",
      "text/plain": [
       "<Figure size 432x432 with 1 Axes>"
      ]
     },
     "metadata": {
      "needs_background": "light"
     },
     "output_type": "display_data"
    }
   ],
   "source": [
    "pl.figure(figsize=(6,6))\n",
    "pl.xlim(-2, 3)\n",
    "pl.ylim(-2, 3)\n",
    "pl.grid()\n",
    "plot_data()"
   ]
  },
  {
   "cell_type": "markdown",
   "metadata": {
    "cell_id": "2c9efc7cb4df4ae590af1bb9d27d97ec",
    "editable": false,
    "lambdacheck": {
     "layout": {
      "column_offset": 0,
      "column_span": 5,
      "row_span": 10
     }
    }
   },
   "source": [
    "We will perform nonlinear binary classification using a polynomial of degree k=3."
   ]
  },
  {
   "cell_type": "code",
   "execution_count": 5,
   "metadata": {
    "cell_id": "6157f86cf3554107a5bb2ae8192eb813",
    "editable": false,
    "lambdacheck": {
     "layout": {
      "column_offset": 5,
      "column_span": 7
     }
    }
   },
   "outputs": [],
   "source": [
    "k = 3"
   ]
  },
  {
   "cell_type": "markdown",
   "metadata": {
    "cell_id": "0e435edbf0924b0192260d6b7bc1f839",
    "lambdacheck": {
     "layout": {
      "column_offset": 0,
      "column_span": 12
     },
     "workunit": {
      "id": "0e435edbf0924b0192260d6b7bc1f839",
      "type": "title"
     }
    }
   },
   "source": [
    "## Work Unit 2: Computing power series"
   ]
  },
  {
   "cell_type": "markdown",
   "metadata": {
    "cell_id": "00f74fef0ecb49f189b3e1fe0641386e",
    "editable": false,
    "lambdacheck": {
     "layout": {
      "column_offset": 0,
      "column_span": 6,
      "row_span": 2
     },
     "workunit": {
      "id": "0e435edbf0924b0192260d6b7bc1f839",
      "type": "text"
     }
    }
   },
   "source": [
    "Implement the function that computes the power series (up to degree $k$) of a given batch of 2D vectors.\n",
    "\n",
    "For each vector $x = (u, v)$, the power series is given\n",
    "as a vector of length $2k+1$, given by:\n",
    "\n",
    "$$P_k(x) = (1, u, u^2, u^3, v, v^2, v^3)$$\n",
    "\n",
    "The implemented function `series` will accept a tensor of shape $(n, 2)$, and return a tensor of shape $(n, 7)$."
   ]
  },
  {
   "cell_type": "code",
   "execution_count": 9,
   "metadata": {
    "cell_id": "3ae39caa053f42219735eb291314cc2e",
    "lambdacheck": {
     "layout": {
      "column_offset": 6,
      "column_span": 6
     },
     "workunit": {
      "id": "0e435edbf0924b0192260d6b7bc1f839",
      "type": "student-solution"
     }
    }
   },
   "outputs": [],
   "source": [
    "def series(x):\n",
    "    result_list = []\n",
    "    for item in x:\n",
    "        result = []\n",
    "        result.append(1.)\n",
    "        for i in range(k):\n",
    "            result.append(item[0] ** (i+1))\n",
    "        for j in range(k):\n",
    "            result.append(item[1] ** (j+1))\n",
    "        result_list.append(result)\n",
    "    return np.array(result_list)"
   ]
  },
  {
   "cell_type": "code",
   "execution_count": 10,
   "metadata": {
    "cell_id": "fc8479d4712f46d880dc9a0eaedb7925",
    "editable": false,
    "lambdacheck": {
     "check": {
      "_check_id": "fc8479d4712f46d880dc9a0eaedb7925",
      "_immediate": true,
      "_name": "",
      "display.text/plain": true,
      "output.stderr": true,
      "output.stdout": true,
      "result.text/plain": true
     },
     "outputs": [
      {
       "data": {
        "text/plain": "(1000, 7)"
       },
       "metadata": {},
       "output_type": "execute_result"
      }
     ]
    }
   },
   "outputs": [
    {
     "data": {
      "text/plain": [
       "(1000, 7)"
      ]
     },
     "execution_count": 10,
     "metadata": {},
     "output_type": "execute_result"
    }
   ],
   "source": [
    "series(x_data).shape"
   ]
  },
  {
   "cell_type": "code",
   "execution_count": 11,
   "metadata": {
    "cell_id": "fc8479d4712f46d880dc9a0eaedb7925",
    "editable": false,
    "lambdacheck": {
     "check": {
      "_check_id": "fc8479d4712f46d880dc9a0eaedb7925",
      "_immediate": true,
      "_name": "",
      "display.text/plain": true,
      "output.stderr": true,
      "output.stdout": true,
      "result.text/plain": true
     },
     "outputs": [
      {
       "data": {
        "text/plain": "array([[  1.,   0.,   0.,   0.,   1.,   1.,   1.],\n       [  1.,   2.,   4.,   8.,   3.,   9.,  27.],\n       [  1.,   4.,  16.,  64.,   5.,  25., 125.]])"
       },
       "metadata": {},
       "output_type": "execute_result"
      }
     ]
    }
   },
   "outputs": [
    {
     "data": {
      "text/plain": [
       "array([[  1.,   0.,   0.,   0.,   1.,   1.,   1.],\n",
       "       [  1.,   2.,   4.,   8.,   3.,   9.,  27.],\n",
       "       [  1.,   4.,  16.,  64.,   5.,  25., 125.]])"
      ]
     },
     "execution_count": 11,
     "metadata": {},
     "output_type": "execute_result"
    }
   ],
   "source": [
    "x_test = np.arange(6).reshape(3,2)\n",
    "series(x_test)"
   ]
  },
  {
   "cell_type": "markdown",
   "metadata": {
    "cell_id": "f3d7d8082fd14e17b4274807d19a00c1",
    "editable": false,
    "lambdacheck": {
     "layout": {
      "column_offset": 0,
      "column_span": 5,
      "row_span": 10
     }
    }
   },
   "source": [
    "The only model parameter is a tesnor of shape `(2*k+1, 1)`.\n",
    "\n",
    "We will store all the model parameters in a list `theta`.  In this case, the list will only have one element.\n",
    "\n",
    "We will also provide an initialization function that will reset the model parameter back to the initial value."
   ]
  },
  {
   "cell_type": "code",
   "execution_count": 14,
   "metadata": {
    "cell_id": "0a43cce6653641f8814ab417597cf1a3",
    "editable": false,
    "lambdacheck": {
     "layout": {
      "column_offset": 5,
      "column_span": 7
     }
    }
   },
   "outputs": [],
   "source": [
    "theta = [\n",
    "    tf.Variable(np.ones((2*k+1, 1)))\n",
    "]\n",
    "\n",
    "def initialize_parameter():\n",
    "    theta[0].assign(np.ones((2*k+1, 1)))\n",
    "    return theta[0].numpy()"
   ]
  },
  {
   "cell_type": "markdown",
   "metadata": {
    "cell_id": "f0e73cdc4a3041bc933d22a75675978b",
    "lambdacheck": {
     "layout": {
      "column_offset": 0,
      "column_span": 12
     },
     "workunit": {
      "id": "f0e73cdc4a3041bc933d22a75675978b",
      "type": "title"
     }
    }
   },
   "source": [
    "## Work Unit 3: The model"
   ]
  },
  {
   "cell_type": "markdown",
   "metadata": {
    "cell_id": "3a2b8bb1dc38486e8f7d0b1997766c9b",
    "editable": false,
    "lambdacheck": {
     "layout": {
      "column_offset": 0,
      "column_span": 6,
      "row_span": 2
     },
     "workunit": {
      "id": "f0e73cdc4a3041bc933d22a75675978b",
      "type": "text"
     }
    }
   },
   "source": [
    "You are to implement the function which is the model.\n",
    "\n",
    "The model is given as:\n",
    "\n",
    "$$f(x) = \\sigma(P(x) @ w)$$\n",
    "\n",
    "Hint:\n",
    "\n",
    "1. You can use `tf.keras.activations.sigmoid` to compute $\\sigma$.\n",
    "\n",
    "\n",
    "2. The input `x` has shape `(n, 2)`, and the power series\n",
    "   `series(x)` has shape `(n, 7)`.\n",
    "\n",
    "\n",
    "3. The model parameter has shape `(7, 1)`.  Therefore,\n",
    "   `series(x) @ w` will have a shape of `(n, 1)`.\n",
    "\n",
    "\n",
    "4. **You should get rid of the trivial axis with size 1**. This \n",
    "  can be done using `tf.squeeze`."
   ]
  },
  {
   "cell_type": "code",
   "execution_count": 15,
   "metadata": {
    "cell_id": "6dc1ac6c13ee4a85ba679f3b9fccff62",
    "lambdacheck": {
     "layout": {
      "column_offset": 6,
      "column_span": 6
     },
     "workunit": {
      "id": "f0e73cdc4a3041bc933d22a75675978b",
      "type": "student-solution"
     }
    }
   },
   "outputs": [],
   "source": [
    "#\n",
    "# The model with\n",
    "# input x: (n, 2)\n",
    "# output f(x): Tensor of shape (n,)\n",
    "#\n",
    "def f(x):\n",
    "    w = theta[0]\n",
    "    return tf.squeeze(tf.keras.activations.sigmoid(series(x) @ w))"
   ]
  },
  {
   "cell_type": "code",
   "execution_count": 16,
   "metadata": {
    "cell_id": "259b5252341540d78573ae03964eb261",
    "editable": false,
    "lambdacheck": {
     "check": {
      "_check_id": "259b5252341540d78573ae03964eb261",
      "_immediate": true,
      "_name": "",
      "result.text/plain": true
     },
     "outputs": [
      {
       "data": {
        "text/plain": "tensorflow.python.framework.ops.EagerTensor"
       },
       "metadata": {},
       "output_type": "execute_result"
      }
     ]
    }
   },
   "outputs": [
    {
     "data": {
      "text/plain": [
       "tensorflow.python.framework.ops.EagerTensor"
      ]
     },
     "execution_count": 16,
     "metadata": {},
     "output_type": "execute_result"
    }
   ],
   "source": [
    "type(f(x_data))"
   ]
  },
  {
   "cell_type": "code",
   "execution_count": 17,
   "metadata": {
    "cell_id": "8821ca1f412c4f8e857fd291077b7c04",
    "editable": false,
    "lambdacheck": {
     "check": {
      "_check_id": "8821ca1f412c4f8e857fd291077b7c04",
      "_immediate": true,
      "_name": "",
      "result.text/plain": true
     },
     "outputs": [
      {
       "data": {
        "text/plain": "array([1.  , 1.  , 0.81, 0.72, 0.78, 1.  , 0.99, 0.97, 0.76, 0.82, 0.35,\n       0.85, 1.  , 0.89, 0.72, 0.95, 1.  , 0.95, 1.  , 0.95])"
       },
       "metadata": {},
       "output_type": "execute_result"
      }
     ]
    }
   },
   "outputs": [
    {
     "data": {
      "text/plain": [
       "array([1.  , 1.  , 0.81, 0.72, 0.78, 1.  , 0.99, 0.97, 0.76, 0.82, 0.35,\n",
       "       0.85, 1.  , 0.89, 0.72, 0.95, 1.  , 0.95, 1.  , 0.95])"
      ]
     },
     "execution_count": 17,
     "metadata": {},
     "output_type": "execute_result"
    }
   ],
   "source": [
    "initialize_parameter()\n",
    "f(x_data)[:20].numpy().round(decimals=2)"
   ]
  },
  {
   "cell_type": "markdown",
   "metadata": {
    "cell_id": "2c2cc0adb72b43d09069f2a334e27e78",
    "lambdacheck": {
     "layout": {
      "column_offset": 0,
      "column_span": 12
     },
     "workunit": {
      "id": "2c2cc0adb72b43d09069f2a334e27e78",
      "type": "title"
     }
    }
   },
   "source": [
    "## Work Unit 4: Training Loop"
   ]
  },
  {
   "cell_type": "markdown",
   "metadata": {
    "cell_id": "3cc63ca953ea4684b9c8c663913cbbd9",
    "editable": false,
    "lambdacheck": {
     "layout": {
      "column_offset": 0,
      "column_span": 6,
      "row_span": 2
     },
     "workunit": {
      "id": "2c2cc0adb72b43d09069f2a334e27e78",
      "type": "text"
     }
    }
   },
   "source": [
    "Implement the training loop as a function `train(alpha, epochs)`\n",
    "where `alpha` is the learning rate, and `epochs` is the total number of gradient updates.\n",
    "\n",
    "**Requirement**:\n",
    "\n",
    "1. You must use the built-in `tf.keras.losses.BinaryCrossEntropy()` as the loss function.\n",
    "\n",
    "\n",
    "2. You must use the built-in `tf.keras.optimizers.Adam(learning_rate)` as the optimizer.  The `Adam` optimizer is much more numerically stable than the naive optimizer.\n",
    "\n",
    "\n",
    "3. During the training loop, you are to print the epoch number (starting at 0) and the reduction in the loss function before the parameter update and after the parameter update.  Do this at 10 even spaced intervals.\n",
    "\n",
    "\n",
    "4. At the end print the final loss."
   ]
  },
  {
   "cell_type": "code",
   "execution_count": 27,
   "metadata": {
    "cell_id": "0ea958b9723b4d7181e9f04d9cc686ed",
    "lambdacheck": {
     "layout": {
      "column_offset": 6,
      "column_span": 6
     },
     "workunit": {
      "id": "2c2cc0adb72b43d09069f2a334e27e78",
      "type": "student-solution"
     }
    }
   },
   "outputs": [],
   "source": [
    "def train(alpha, epochs):\n",
    "    loss = tf.keras.losses.BinaryCrossentropy()\n",
    "    optimizer = tf.keras.optimizers.Adam(alpha)\n",
    "    # Training loop\n",
    "    for i in range(epochs):\n",
    "        with tf.GradientTape() as tape:\n",
    "            L = loss(y_data, f(x_data))\n",
    "        L0 = loss(y_data, f(x_data))\n",
    "        grads = tape.gradient(L, theta)\n",
    "        optimizer.apply_gradients(zip(grads, theta))\n",
    "        if( i % (epochs // 10) == 0):\n",
    "            L = loss(y_data, f(x_data))\n",
    "            print(\"[%.2d] %.4f -> %.4f\" % (i, L0, L))\n",
    "    L_final = loss(y_data, f(x_data))\n",
    "    print(\"[After %.2d epochs] %.4f\" % (epochs, L_final))\n",
    "    "
   ]
  },
  {
   "cell_type": "markdown",
   "metadata": {
    "cell_id": "2b719195cce0424c81f71c07a68df476",
    "editable": false,
    "lambdacheck": {
     "layout": {
      "column_offset": 0,
      "column_span": 6,
      "row_span": 10
     }
    }
   },
   "source": [
    "The output of your code should be similar to:\n",
    "\n",
    "```python\n",
    "initialize_parameter()\n",
    "train(1e-1, 200)\n",
    "\n",
    "[0] 1.8571 -> 1.6959\n",
    "[20] 0.3775 -> 0.3757\n",
    "[40] 0.3300 -> 0.3275\n",
    "[60] 0.2977 -> 0.2966\n",
    "[80] 0.2818 -> 0.2812\n",
    "[100] 0.2720 -> 0.2716\n",
    "[120] 0.2648 -> 0.2645\n",
    "[140] 0.2593 -> 0.2591\n",
    "[160] 0.2550 -> 0.2548\n",
    "[180] 0.2515 -> 0.2514\n",
    "[After 200 epochs] 0.2487\n",
    "```"
   ]
  },
  {
   "cell_type": "code",
   "execution_count": 28,
   "metadata": {
    "cell_id": "84a515963d104b188d7e788875bcda98",
    "editable": false,
    "lambdacheck": {
     "layout": {
      "column_offset": 6,
      "column_span": 6
     }
    }
   },
   "outputs": [
    {
     "name": "stdout",
     "output_type": "stream",
     "text": [
      "[00] 1.8563 -> 1.6957\n",
      "[20] 0.3775 -> 0.3757\n",
      "[40] 0.3299 -> 0.3274\n",
      "[60] 0.2976 -> 0.2965\n",
      "[80] 0.2817 -> 0.2811\n",
      "[100] 0.2719 -> 0.2715\n",
      "[120] 0.2647 -> 0.2644\n",
      "[140] 0.2592 -> 0.2590\n",
      "[160] 0.2549 -> 0.2547\n",
      "[180] 0.2514 -> 0.2513\n",
      "[After 200 epochs] 0.2486\n"
     ]
    }
   ],
   "source": [
    "initialize_parameter()\n",
    "train(1e-1, 200)"
   ]
  },
  {
   "cell_type": "markdown",
   "metadata": {
    "cell_id": "8ba08a1694d847ae802ce6b0a4086925",
    "lambdacheck": {
     "layout": {
      "column_offset": 0,
      "column_span": 12
     },
     "workunit": {
      "id": "8ba08a1694d847ae802ce6b0a4086925",
      "type": "title"
     }
    }
   },
   "source": [
    "## Work Unit 5: Measuring accuracy"
   ]
  },
  {
   "cell_type": "markdown",
   "metadata": {
    "cell_id": "c711d38d12ec42a0b81383b6ab74f61f",
    "editable": false,
    "lambdacheck": {
     "layout": {
      "column_offset": 0,
      "column_span": 6,
      "row_span": 2
     },
     "workunit": {
      "id": "8ba08a1694d847ae802ce6b0a4086925",
      "type": "text"
     }
    }
   },
   "source": [
    "Implement a function, `evaluate`, which will perform the\n",
    "prediction using the trained model.\n",
    "\n",
    "The function:\n",
    "\n",
    "```python\n",
    "evaluate(x_data)\n",
    "```\n",
    "\n",
    "will use the trained model `f(...)` to determine the category\n",
    "of each input vector in `x_data` using the following rule:\n",
    "\n",
    "$$\n",
    "\\mathrm{category}(x) = \\left\\{\\begin{array}{ll}\n",
    "0 & \\mathrm{if}\\ f(x) < 0.5\\\\\n",
    "1 & \\mathrm{else}\n",
    "\\end{array}\\right.\n",
    "$$\n",
    "\n",
    "The returned tensor `evaluate(x_data)` is a vector of 0s and 1s."
   ]
  },
  {
   "cell_type": "code",
   "execution_count": 41,
   "metadata": {
    "cell_id": "6ad9dc461fb1435b890b7d08d97a2334",
    "lambdacheck": {
     "layout": {
      "column_offset": 6,
      "column_span": 6
     },
     "workunit": {
      "id": "8ba08a1694d847ae802ce6b0a4086925",
      "type": "student-solution"
     }
    }
   },
   "outputs": [],
   "source": [
    "def evaluate(x_data):\n",
    "    categries = [] \n",
    "    predicted_vals = f(x_data).numpy().round(decimals=2)\n",
    "    for predicted_val in predicted_vals:\n",
    "        if predicted_val < 0.5:\n",
    "            categries.append(0)\n",
    "        else:\n",
    "            categries.append(1)\n",
    "    return categries"
   ]
  },
  {
   "cell_type": "code",
   "execution_count": 42,
   "metadata": {
    "cell_id": "572bbfa2c3874b8ead653a4e729deb59",
    "editable": false,
    "lambdacheck": {
     "check": {
      "_check_id": "572bbfa2c3874b8ead653a4e729deb59",
      "_immediate": true,
      "_name": "",
      "result.text/plain": true
     },
     "outputs": [
      {
       "name": "stdout",
       "output_type": "stream",
       "text": "Accuracy is 0.9090\n"
      },
      {
       "data": {
        "text/plain": "('Accuracy > 90% ?', True)"
       },
       "metadata": {},
       "output_type": "execute_result"
      }
     ]
    }
   },
   "outputs": [
    {
     "name": "stdout",
     "output_type": "stream",
     "text": [
      "Accuracy is 0.9090\n"
     ]
    },
    {
     "data": {
      "text/plain": [
       "('Accuracy > 90% ?', True)"
      ]
     },
     "execution_count": 42,
     "metadata": {},
     "output_type": "execute_result"
    }
   ],
   "source": [
    "#\n",
    "# Compute the accuracy\n",
    "#\n",
    "n = x_data.shape[0]\n",
    "y_pred = evaluate(x_data)\n",
    "accuracy = np.sum(y_pred == y_data) / n\n",
    "\n",
    "print(\"Accuracy is %.4f\" % accuracy)\n",
    "\n",
    "(\"Accuracy > 90% ?\", accuracy > 0.90)"
   ]
  },
  {
   "cell_type": "markdown",
   "metadata": {
    "cell_id": "40dde05e541540518b6234d98029052e",
    "lambdacheck": {
     "layout": {
      "column_offset": 0,
      "column_span": 12
     },
     "workunit": {
      "id": "40dde05e541540518b6234d98029052e",
      "type": "title"
     }
    }
   },
   "source": [
    "## Work Unit 6: Visualization"
   ]
  },
  {
   "cell_type": "markdown",
   "metadata": {
    "cell_id": "8a0f5f6df09f49688376b736f024789a",
    "editable": false,
    "lambdacheck": {
     "layout": {
      "column_offset": 0,
      "column_span": 6,
      "row_span": 2
     },
     "workunit": {
      "id": "40dde05e541540518b6234d98029052e",
      "type": "text"
     }
    }
   },
   "source": [
    "Implement a function that will apply the model over a 100$\\times$100 meshgrid in 2D.\n",
    "\n",
    "The function:\n",
    "\n",
    "```python\n",
    "z = f_meshgrid(xx, yy)\n",
    "```\n",
    "\n",
    "accepts two matrices corresponding to the x-coordinates and y-coordinates of the meshgrid.\n",
    "\n",
    "$$ \\mathrm{xx} : (100, 100)$$\n",
    "$$ \\mathrm{yy} : (100, 100)$$\n",
    "\n",
    "The returned value $z$ is a NumPy NDArray with shape $(100, 100)$."
   ]
  },
  {
   "cell_type": "code",
   "execution_count": 54,
   "metadata": {
    "cell_id": "8c587ba727184074b0dfb2f449754b8d",
    "lambdacheck": {
     "layout": {
      "column_offset": 6,
      "column_span": 6
     },
     "workunit": {
      "id": "40dde05e541540518b6234d98029052e",
      "type": "student-solution"
     }
    }
   },
   "outputs": [],
   "source": [
    "def f_meshgrid(xx, yy):\n",
    "    result = np.zeros((len(xx),len(yy)))\n",
    "    x_data_temp = np.zeros((len(xx),2))\n",
    "    for i in range(len(xx)):\n",
    "        x_data_temp[:,0] =  xx[:,i]\n",
    "        x_data_temp[:,1] =  yy[:,i]\n",
    "        result[:,i] = f(x_data_temp)\n",
    "    return result"
   ]
  },
  {
   "cell_type": "code",
   "execution_count": 55,
   "metadata": {
    "cell_id": "f7b1f0007ff741c1acf93b18d05b1351",
    "editable": false,
    "lambdacheck": {
     "check": {
      "_check_id": "f7b1f0007ff741c1acf93b18d05b1351",
      "_immediate": true,
      "_name": "",
      "display.text/plain": true,
      "output.stderr": true,
      "output.stdout": true,
      "result.text/plain": true
     },
     "outputs": [
      {
       "data": {
        "text/plain": "(100, 100)"
       },
       "metadata": {},
       "output_type": "execute_result"
      }
     ]
    }
   },
   "outputs": [
    {
     "data": {
      "text/plain": [
       "(100, 100)"
      ]
     },
     "execution_count": 55,
     "metadata": {},
     "output_type": "execute_result"
    }
   ],
   "source": [
    "#\n",
    "# Test the f_meshgrid function\n",
    "#\n",
    "xs = np.linspace(-2, 3, 100)\n",
    "ys = np.linspace(-2, 3, 100)\n",
    "xx, yy = np.meshgrid(xs, ys)\n",
    "\n",
    "z  = f_meshgrid(xx, yy)\n",
    "z.shape"
   ]
  },
  {
   "cell_type": "code",
   "execution_count": 56,
   "metadata": {
    "cell_id": "bd4edbfb36044689ae05eb70b06a4f35",
    "editable": false,
    "lambdacheck": {
     "check": {
      "_check_id": "bd4edbfb36044689ae05eb70b06a4f35",
      "_name": "",
      "_points": 2,
      "display.image/png": true
     }
    }
   },
   "outputs": [
    {
     "data": {
      "image/png": "[encoded data removed]",
      "text/plain": [
       "<Figure size 720x720 with 1 Axes>"
      ]
     },
     "metadata": {
      "needs_background": "light"
     },
     "output_type": "display_data"
    }
   ],
   "source": [
    "#\n",
    "# Plotting the data\n",
    "#\n",
    "pl.figure(figsize=(10,10))\n",
    "pl.xlim(-2, 3)\n",
    "pl.ylim(-2, 3)\n",
    "pl.contourf(xx, yy, z, cmap='jet', levels=10);\n",
    "pl.contour(xx, yy, z, levels=[0, 0.5, 1], linewidths=3, colors='black');\n",
    "\n",
    "plot_data();"
   ]
  },
  {
   "cell_type": "code",
   "execution_count": null,
   "metadata": {
    "cell_id": "8b7e8d71a2b44013ae9c58aae55d3912"
   },
   "outputs": [],
   "source": []
  }
 ],
 "metadata": {
  "celltoolbar": "λ.check",
  "kernelspec": {
   "display_name": "Python 3",
   "language": "python",
   "name": "python3"
  },
  "lambdacheck": {
   "worksheet": true
  },
  "language_info": {
   "codemirror_mode": {
    "name": "ipython",
    "version": 3
   },
   "file_extension": ".py",
   "mimetype": "text/x-python",
   "name": "python",
   "nbconvert_exporter": "python",
   "pygments_lexer": "ipython3",
   "version": "3.8.6"
  }
 },
 "nbformat": 4,
 "nbformat_minor": 4
}
