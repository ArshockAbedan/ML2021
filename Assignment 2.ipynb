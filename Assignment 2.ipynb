{
 "cells": [
  {
   "cell_type": "markdown",
   "metadata": {
    "cell_id": "ba52750c9d8c4c0d8857191bb1702c30",
    "editable": false
   },
   "source": [
    "# Assignment 2: Machine Learning On MNIST Data Set"
   ]
  },
  {
   "cell_type": "code",
   "execution_count": 1,
   "metadata": {
    "cell_id": "310f6a3df55444f790f8e936c0457a50",
    "editable": false
   },
   "outputs": [],
   "source": [
    "import tensorflow as tf\n",
    "import tensorflow.keras as keras\n",
    "import tensorflow.keras.models as models\n",
    "import tensorflow.keras.layers as layers\n",
    "import tensorflow.keras.losses as losses\n",
    "import tensorflow.keras.optimizers as optimizers\n",
    "import tensorflow.keras.datasets as datasets\n",
    "\n",
    "import numpy as np\n",
    "import matplotlib.pyplot as pl\n",
    "import pandas as pd\n",
    "\n",
    "np.set_printoptions(precision=4, suppress=True)"
   ]
  },
  {
   "cell_type": "code",
   "execution_count": 2,
   "metadata": {
    "cell_id": "6fd14832ea7c4cdb8855188ea60c063a",
    "editable": false,
    "lambdacheck": {
     "check": {
      "_check_id": "6fd14832ea7c4cdb8855188ea60c063a",
      "_immediate": true,
      "_name": "",
      "display.text/plain": true,
      "output.stderr": true,
      "output.stdout": true,
      "result.text/plain": true
     },
     "outputs": [
      {
       "name": "stdout",
       "output_type": "stream",
       "text": "x_train (60000, 28, 28)\ny_train (60000,)\n"
      }
     ]
    }
   },
   "outputs": [
    {
     "name": "stdout",
     "output_type": "stream",
     "text": [
      "x_train (60000, 28, 28)\n",
      "y_train (60000,)\n"
     ]
    }
   ],
   "source": [
    "data = tf.keras.datasets.mnist.load_data(path='/data/shared/datasets/mnist.npz')\n",
    "\n",
    "#\n",
    "# By default, the data is already split into training and testing data\n",
    "#\n",
    "train_data, test_data = data\n",
    "\n",
    "#\n",
    "# Data consists of one tensor for the images, and another tensor for the label.\n",
    "#\n",
    "x_train, y_train = train_data\n",
    "x_test, y_test = test_data\n",
    "\n",
    "#\n",
    "# We will also renormalize the input to 0-1\n",
    "#\n",
    "x_train = x_train / 255\n",
    "x_test = x_test / 255\n",
    "\n",
    "print('x_train', x_train.shape)\n",
    "print('y_train', y_train.shape)"
   ]
  },
  {
   "cell_type": "markdown",
   "metadata": {
    "cell_id": "080a312784e04948997f441720200565",
    "editable": false
   },
   "source": [
    "# Some Functions"
   ]
  },
  {
   "cell_type": "markdown",
   "metadata": {
    "cell_id": "6a4319859668446e8a453c6a3f98ee75",
    "lambdacheck": {
     "layout": {
      "column_offset": 0,
      "column_span": 12
     },
     "workunit": {
      "id": "6a4319859668446e8a453c6a3f98ee75",
      "type": "title"
     }
    }
   },
   "source": [
    "## Construct a softmax activation layer"
   ]
  },
  {
   "cell_type": "markdown",
   "metadata": {
    "cell_id": "521bd4ab48df4b2a8ddb80df0c6b4c6b",
    "editable": false,
    "lambdacheck": {
     "layout": {
      "column_offset": 0,
      "column_span": 4,
      "row_span": 2
     },
     "workunit": {
      "id": "6a4319859668446e8a453c6a3f98ee75",
      "type": "text"
     }
    }
   },
   "source": [
    "Construct a softmax activation layer."
   ]
  },
  {
   "cell_type": "code",
   "execution_count": 3,
   "metadata": {
    "cell_id": "c880ef66a7304172a4710f3c66e95b3f",
    "lambdacheck": {
     "layout": {
      "column_offset": 4,
      "column_span": 8
     },
     "workunit": {
      "id": "6a4319859668446e8a453c6a3f98ee75",
      "type": "student-solution"
     }
    }
   },
   "outputs": [],
   "source": [
    "layer = layers.Activation('softmax')"
   ]
  },
  {
   "cell_type": "markdown",
   "metadata": {
    "cell_id": "accb630231f04ef68d9c54736a7ab9f9",
    "editable": false,
    "lambdacheck": {
     "layout": {
      "column_offset": 0,
      "column_span": 4,
      "row_span": 10
     }
    }
   },
   "source": [
    "Use the layer to process 3D vectors.\n",
    "\n",
    "Note that the output of a softmax layer is **always** a valid probability distribution.\n",
    "\n",
    "So, we can think of the output `y` is the probabilities being determined by the `softmax` activation layer based on its input `x`."
   ]
  },
  {
   "cell_type": "code",
   "execution_count": 4,
   "metadata": {
    "cell_id": "908372ed58d7484a81daf650a6a94195",
    "editable": false,
    "lambdacheck": {
     "check": {
      "_check_id": "908372ed58d7484a81daf650a6a94195",
      "_immediate": true,
      "_name": "",
      "display.text/plain": true,
      "output.stderr": true,
      "output.stdout": true,
      "result.text/plain": true
     },
     "layout": {
      "column_offset": 4,
      "column_span": 8
     },
     "outputs": [
      {
       "data": {
        "text/plain": "array([[0.9933, 0.    , 0.0067],\n       [0.5065, 0.1863, 0.3072],\n       [0.0751, 0.9148, 0.0102],\n       [0.4307, 0.0432, 0.5261]], dtype=float32)"
       },
       "metadata": {},
       "output_type": "execute_result"
      }
     ]
    }
   },
   "outputs": [
    {
     "data": {
      "text/plain": [
       "array([[0.9933, 0.    , 0.0067],\n",
       "       [0.5065, 0.1863, 0.3072],\n",
       "       [0.0751, 0.9148, 0.0102],\n",
       "       [0.4307, 0.0432, 0.5261]], dtype=float32)"
      ]
     },
     "execution_count": 4,
     "metadata": {},
     "output_type": "execute_result"
    }
   ],
   "source": [
    "x = np.array([\n",
    "    [30, 20, 25],\n",
    "    [3, 2, 2.5],\n",
    "    [1.0, 3.5, -1],\n",
    "    [-1.2, -3.5, -1],\n",
    "])\n",
    "\n",
    "y = layer(x)\n",
    "y.numpy()"
   ]
  },
  {
   "cell_type": "markdown",
   "metadata": {
    "cell_id": "6288beeadc4948a68cc458ed8395c384",
    "lambdacheck": {
     "layout": {
      "column_offset": 0,
      "column_span": 12
     },
     "workunit": {
      "id": "6288beeadc4948a68cc458ed8395c384",
      "type": "title"
     }
    }
   },
   "source": [
    "## Convert probability distribution to sparse encoding"
   ]
  },
  {
   "cell_type": "markdown",
   "metadata": {
    "cell_id": "2f2e424836b249769f1ef4878975b645",
    "editable": false,
    "lambdacheck": {
     "layout": {
      "column_offset": 0,
      "column_span": 4,
      "row_span": 2
     },
     "workunit": {
      "id": "6288beeadc4948a68cc458ed8395c384",
      "type": "text"
     }
    }
   },
   "source": [
    "Implement a function that converts a TF tensor of probability distributions to sparse integer encoding of categories."
   ]
  },
  {
   "cell_type": "code",
   "execution_count": 5,
   "metadata": {
    "cell_id": "d30a2504df0449a582adc3492091b759",
    "lambdacheck": {
     "layout": {
      "column_offset": 4,
      "column_span": 8
     },
     "workunit": {
      "id": "6288beeadc4948a68cc458ed8395c384",
      "type": "student-solution"
     }
    }
   },
   "outputs": [],
   "source": [
    "def to_sparse(x):\n",
    "    return tf.convert_to_tensor(np.argmax(x, axis=1), dtype=tf.int64) "
   ]
  },
  {
   "cell_type": "code",
   "execution_count": 6,
   "metadata": {
    "cell_id": "a0f1b5c75f814f8d9fc839a38df5f01f",
    "editable": false,
    "lambdacheck": {
     "check": {
      "_check_id": "a0f1b5c75f814f8d9fc839a38df5f01f",
      "_immediate": true,
      "_name": "",
      "display.text/plain": true,
      "output.stderr": true,
      "output.stdout": true,
      "result.text/plain": true
     },
     "outputs": [
      {
       "data": {
        "text/plain": "<tf.Tensor: shape=(4,), dtype=int64, numpy=array([0, 0, 1, 2])>"
       },
       "metadata": {},
       "output_type": "execute_result"
      }
     ]
    }
   },
   "outputs": [
    {
     "data": {
      "text/plain": [
       "<tf.Tensor: shape=(4,), dtype=int64, numpy=array([0, 0, 1, 2])>"
      ]
     },
     "execution_count": 6,
     "metadata": {},
     "output_type": "execute_result"
    }
   ],
   "source": [
    "y_sparse = to_sparse(y)\n",
    "y_sparse"
   ]
  },
  {
   "cell_type": "markdown",
   "metadata": {
    "cell_id": "fcd2faeb1bd341fa84da5b09ad605eb5",
    "lambdacheck": {
     "layout": {
      "column_offset": 0,
      "column_span": 12
     },
     "workunit": {
      "id": "fcd2faeb1bd341fa84da5b09ad605eb5",
      "type": "title"
     }
    }
   },
   "source": [
    "## Convert sparse encoding to one-hot encoding"
   ]
  },
  {
   "cell_type": "markdown",
   "metadata": {
    "cell_id": "0e21377978ed47b78cdf8d60b83f4d10",
    "editable": false,
    "lambdacheck": {
     "layout": {
      "column_offset": 0,
      "column_span": 4,
      "row_span": 2
     },
     "workunit": {
      "id": "fcd2faeb1bd341fa84da5b09ad605eb5",
      "type": "text"
     }
    }
   },
   "source": [
    "Implement a function that converse a sequence of sparse encoding of categories into one-hot encodings."
   ]
  },
  {
   "cell_type": "code",
   "execution_count": 7,
   "metadata": {
    "cell_id": "e47e6f2d4cfb45a1b00d42235377fa7b",
    "lambdacheck": {
     "layout": {
      "column_offset": 4,
      "column_span": 8
     },
     "workunit": {
      "id": "fcd2faeb1bd341fa84da5b09ad605eb5",
      "type": "student-solution"
     }
    }
   },
   "outputs": [],
   "source": [
    "#\n",
    "# Returns a NumPy array that is the one-hot encoding\n",
    "# of x where there are `num_categories`.\n",
    "#\n",
    "def to_onehot(x, num_categories):\n",
    "        return keras.utils.to_categorical(y=x,num_classes=num_categories,dtype=None)\n",
    "#         inputs = tf.one_hot(x, num_categories)\n",
    "#         return np.array(inputs.numpy().tolist())"
   ]
  },
  {
   "cell_type": "code",
   "execution_count": 8,
   "metadata": {
    "cell_id": "38c0e291596d45618ec7f572efa11cde",
    "editable": false,
    "lambdacheck": {
     "check": {
      "_check_id": "38c0e291596d45618ec7f572efa11cde",
      "_immediate": true,
      "_name": "",
      "display.text/plain": true,
      "output.stderr": true,
      "output.stdout": true,
      "result.text/plain": true
     },
     "outputs": [
      {
       "data": {
        "text/plain": "array([[1., 0., 0.],\n       [1., 0., 0.],\n       [0., 1., 0.],\n       [0., 0., 1.]])"
       },
       "metadata": {},
       "output_type": "execute_result"
      }
     ]
    }
   },
   "outputs": [
    {
     "data": {
      "text/plain": [
       "array([[1., 0., 0.],\n",
       "       [1., 0., 0.],\n",
       "       [0., 1., 0.],\n",
       "       [0., 0., 1.]])"
      ]
     },
     "execution_count": 8,
     "metadata": {},
     "output_type": "execute_result"
    }
   ],
   "source": [
    "y_onehot = to_onehot(y_sparse, 3)\n",
    "y_onehot"
   ]
  },
  {
   "cell_type": "markdown",
   "metadata": {
    "cell_id": "1ecd7482469f403884f2342277cea0c4",
    "lambdacheck": {
     "layout": {
      "column_offset": 0,
      "column_span": 12
     },
     "workunit": {
      "id": "1ecd7482469f403884f2342277cea0c4",
      "type": "title"
     }
    }
   },
   "source": [
    "## Cross Entropy"
   ]
  },
  {
   "cell_type": "markdown",
   "metadata": {
    "cell_id": "7917cfb8947e4e5693667e3185e45d0c",
    "editable": false,
    "lambdacheck": {
     "layout": {
      "column_offset": 0,
      "column_span": 4,
      "row_span": 2
     },
     "workunit": {
      "id": "1ecd7482469f403884f2342277cea0c4",
      "type": "text"
     }
    }
   },
   "source": [
    "In this workunit, we will evaluate the cross entropy between\n",
    "two distributions: the output probability `y`, and the one hot encoding `y_onehot`."
   ]
  },
  {
   "cell_type": "code",
   "execution_count": 9,
   "metadata": {
    "cell_id": "0d398e3c75444fabac1ef6e73c7593cb",
    "lambdacheck": {
     "layout": {
      "column_offset": 4,
      "column_span": 8
     },
     "workunit": {
      "id": "1ecd7482469f403884f2342277cea0c4",
      "type": "student-solution"
     }
    }
   },
   "outputs": [],
   "source": [
    "crossentropy = losses.categorical_crossentropy(y_true=y_onehot,y_pred=y)"
   ]
  },
  {
   "cell_type": "code",
   "execution_count": 10,
   "metadata": {
    "cell_id": "9b5f55f7922b457d8f09e0adabcec53a",
    "editable": false,
    "lambdacheck": {
     "check": {
      "_check_id": "9b5f55f7922b457d8f09e0adabcec53a",
      "_immediate": true,
      "_name": "",
      "display.text/plain": true,
      "output.stderr": true,
      "output.stdout": true,
      "result.text/plain": true
     },
     "outputs": [
      {
       "data": {
        "text/plain": "array([0.0068, 0.6803, 0.0891, 0.6423], dtype=float32)"
       },
       "metadata": {},
       "output_type": "execute_result"
      }
     ]
    }
   },
   "outputs": [
    {
     "data": {
      "text/plain": [
       "array([0.0068, 0.6803, 0.0891, 0.6423], dtype=float32)"
      ]
     },
     "execution_count": 10,
     "metadata": {},
     "output_type": "execute_result"
    }
   ],
   "source": [
    "crossentropy.numpy()"
   ]
  },
  {
   "cell_type": "markdown",
   "metadata": {
    "cell_id": "b4aa3cd87ee6413296e91abe3a4c9192",
    "lambdacheck": {
     "layout": {
      "column_offset": 0,
      "column_span": 12
     },
     "workunit": {
      "id": "b4aa3cd87ee6413296e91abe3a4c9192",
      "type": "title"
     }
    }
   },
   "source": [
    "## Sparse Cross Entropy"
   ]
  },
  {
   "cell_type": "markdown",
   "metadata": {
    "cell_id": "75f74d67503f49a59e4a443220ba7ffd",
    "editable": false,
    "lambdacheck": {
     "layout": {
      "column_offset": 0,
      "column_span": 4,
      "row_span": 2
     },
     "workunit": {
      "id": "b4aa3cd87ee6413296e91abe3a4c9192",
      "type": "text"
     }
    }
   },
   "source": [
    "Very often, we have the true categories as sparse integer encodings, like `y_sparse` instead of the one-hot encodings.  This is because sparse encoding is much more memory efficient.\n",
    "\n",
    "Keras provides a loss function `sparse_categorical_crossentropy` that computes the cross entropy between `y_sparse` and `y` directly."
   ]
  },
  {
   "cell_type": "code",
   "execution_count": 11,
   "metadata": {
    "cell_id": "479cf3845ca746728d31fc2008ab9e69",
    "lambdacheck": {
     "layout": {
      "column_offset": 4,
      "column_span": 8
     },
     "workunit": {
      "id": "b4aa3cd87ee6413296e91abe3a4c9192",
      "type": "student-solution"
     }
    }
   },
   "outputs": [],
   "source": [
    "sparse_crossentropy = losses.sparse_categorical_crossentropy(y_true=y_sparse,y_pred=y)"
   ]
  },
  {
   "cell_type": "markdown",
   "metadata": {
    "cell_id": "c5c47f7356a9408c9b64a078cf96041f",
    "editable": false,
    "lambdacheck": {
     "layout": {
      "column_offset": 0,
      "column_span": 4,
      "row_span": 10
     }
    }
   },
   "source": [
    "We can verify that the two should be identical."
   ]
  },
  {
   "cell_type": "code",
   "execution_count": 12,
   "metadata": {
    "cell_id": "4a3c82d8853644f783d74931cc025d52",
    "editable": false,
    "lambdacheck": {
     "check": {
      "_check_id": "4a3c82d8853644f783d74931cc025d52",
      "_immediate": true,
      "_name": "",
      "display.text/plain": true,
      "output.stderr": true,
      "output.stdout": true,
      "result.text/plain": true
     },
     "layout": {
      "column_offset": 4,
      "column_span": 8
     },
     "outputs": [
      {
       "data": {
        "text/plain": "array([0.0068, 0.6803, 0.0891, 0.6423], dtype=float32)"
       },
       "metadata": {},
       "output_type": "execute_result"
      }
     ]
    }
   },
   "outputs": [
    {
     "data": {
      "text/plain": [
       "array([0.0068, 0.6803, 0.0891, 0.6423], dtype=float32)"
      ]
     },
     "execution_count": 12,
     "metadata": {},
     "output_type": "execute_result"
    }
   ],
   "source": [
    "sparse_crossentropy.numpy()"
   ]
  },
  {
   "cell_type": "code",
   "execution_count": 13,
   "metadata": {
    "cell_id": "2b8a290c03724ddbb8934551f701b44e",
    "editable": false,
    "lambdacheck": {
     "check": {
      "_check_id": "2b8a290c03724ddbb8934551f701b44e",
      "_immediate": true,
      "_name": "",
      "display.text/plain": true,
      "output.stderr": true,
      "output.stdout": true,
      "result.text/plain": true
     },
     "layout": {
      "column_offset": 4,
      "column_span": 8
     },
     "outputs": [
      {
       "data": {
        "text/plain": "True"
       },
       "metadata": {},
       "output_type": "execute_result"
      }
     ]
    }
   },
   "outputs": [
    {
     "data": {
      "text/plain": [
       "True"
      ]
     },
     "execution_count": 13,
     "metadata": {},
     "output_type": "execute_result"
    }
   ],
   "source": [
    "np.allclose(sparse_crossentropy.numpy(), crossentropy.numpy())"
   ]
  },
  {
   "cell_type": "markdown",
   "metadata": {
    "cell_id": "08e711b2e3a24a1fb83baeed4d90bd71",
    "editable": false
   },
   "source": [
    "# Multi-category Classification"
   ]
  },
  {
   "cell_type": "markdown",
   "metadata": {
    "cell_id": "4a248ba9aa21473c9881319a94261347",
    "lambdacheck": {
     "layout": {
      "column_offset": 0,
      "column_span": 12
     },
     "workunit": {
      "id": "4a248ba9aa21473c9881319a94261347",
      "type": "title"
     }
    }
   },
   "source": [
    "## Model construction"
   ]
  },
  {
   "cell_type": "markdown",
   "metadata": {
    "cell_id": "45e690b3b8e642bd85a6deed71bb6388",
    "editable": false,
    "lambdacheck": {
     "layout": {
      "column_offset": 0,
      "column_span": 4,
      "row_span": 2
     },
     "workunit": {
      "id": "4a248ba9aa21473c9881319a94261347",
      "type": "text"
     }
    }
   },
   "source": [
    "Build a simple 10-way classifier.\n",
    "\n",
    "1. You should use an input layer with shape (28, 28).\n",
    "\n",
    "2. You should have a reshape layer that converts the input images\n",
    "   to shape (758,)\n",
    "   \n",
    "3. Then, it should be followed by a dense layer out 10 output units, and no activation function.\n",
    "\n",
    "4. Finally, we need an activation layer with softmax activation.\n",
    "\n",
    "Name your layers and model accordingly to match the expected model summary."
   ]
  },
  {
   "cell_type": "code",
   "execution_count": 14,
   "metadata": {
    "cell_id": "2f77458e490e4c1687db517e0979660d",
    "lambdacheck": {
     "layout": {
      "column_offset": 4,
      "column_span": 8
     },
     "workunit": {
      "id": "4a248ba9aa21473c9881319a94261347",
      "type": "student-solution"
     }
    }
   },
   "outputs": [],
   "source": [
    "def build_simple_model():\n",
    "    model = models.Sequential([\n",
    "        layers.Input(shape=(28,28)),\n",
    "        layers.Reshape((28*28,), name='flatten'),\n",
    "        layers.Dense(10, name='dense'),\n",
    "        layers.Activation('softmax', name='softmax'),\n",
    "    ], name='simple_model')\n",
    "    return model"
   ]
  },
  {
   "cell_type": "code",
   "execution_count": 15,
   "metadata": {
    "cell_id": "dd7cbc0b339c48db9aa4eb61583ea924",
    "editable": false,
    "lambdacheck": {
     "check": {
      "_check_id": "dd7cbc0b339c48db9aa4eb61583ea924",
      "_immediate": true,
      "_name": "",
      "_points": 2,
      "display.text/plain": true,
      "output.stderr": true,
      "output.stdout": true,
      "result.text/plain": true
     },
     "outputs": [
      {
       "name": "stdout",
       "output_type": "stream",
       "text": "Model: \"simple_model\"\n_________________________________________________________________\nLayer (type)                 Output Shape              Param #   \n=================================================================\nflatten (Reshape)            (None, 784)               0         \n_________________________________________________________________\ndense (Dense)                (None, 10)                7850      \n_________________________________________________________________\nsoftmax (Activation)         (None, 10)                0         \n=================================================================\nTotal params: 7,850\nTrainable params: 7,850\nNon-trainable params: 0\n_________________________________________________________________\n"
      }
     ]
    }
   },
   "outputs": [
    {
     "name": "stdout",
     "output_type": "stream",
     "text": [
      "Model: \"simple_model\"\n",
      "_________________________________________________________________\n",
      "Layer (type)                 Output Shape              Param #   \n",
      "=================================================================\n",
      "flatten (Reshape)            (None, 784)               0         \n",
      "_________________________________________________________________\n",
      "dense (Dense)                (None, 10)                7850      \n",
      "_________________________________________________________________\n",
      "softmax (Activation)         (None, 10)                0         \n",
      "=================================================================\n",
      "Total params: 7,850\n",
      "Trainable params: 7,850\n",
      "Non-trainable params: 0\n",
      "_________________________________________________________________\n"
     ]
    }
   ],
   "source": [
    "simple_model = build_simple_model()\n",
    "simple_model.summary()"
   ]
  },
  {
   "cell_type": "markdown",
   "metadata": {
    "cell_id": "9c0357155132401fb061a761dd0d2dba",
    "lambdacheck": {
     "layout": {
      "column_offset": 0,
      "column_span": 12
     },
     "workunit": {
      "id": "9c0357155132401fb061a761dd0d2dba",
      "type": "title"
     }
    }
   },
   "source": [
    "## Compile Model"
   ]
  },
  {
   "cell_type": "markdown",
   "metadata": {
    "cell_id": "157c542733604ba1a77d7755fd4079e9",
    "editable": false,
    "lambdacheck": {
     "layout": {
      "column_offset": 0,
      "column_span": 4,
      "row_span": 2
     },
     "workunit": {
      "id": "9c0357155132401fb061a761dd0d2dba",
      "type": "text"
     }
    }
   },
   "source": [
    "Implement a function that compiles a Keras model with\n",
    "\n",
    "1. Loss function being the sparse categorical cross entropy.\n",
    "\n",
    "2. Optimizer being the `Adam` optimizer with the given learning rate.\n",
    "\n",
    "3. Metrics include accuracy."
   ]
  },
  {
   "cell_type": "code",
   "execution_count": 16,
   "metadata": {
    "cell_id": "2c0df048001a4e81ad4a62c83504a4be",
    "lambdacheck": {
     "layout": {
      "column_offset": 4,
      "column_span": 8
     },
     "workunit": {
      "id": "9c0357155132401fb061a761dd0d2dba",
      "type": "student-solution"
     }
    }
   },
   "outputs": [],
   "source": [
    "def compile_model(model, learing_rate=0.01):\n",
    "    model.compile(optimizer=optimizers.Adam(learing_rate), loss=losses.SparseCategoricalCrossentropy(), metrics=['acc'])"
   ]
  },
  {
   "cell_type": "code",
   "execution_count": 17,
   "metadata": {
    "cell_id": "f2933764ef7e46b69d493a18f93d790e",
    "editable": false,
    "lambdacheck": {
     "check": {
      "_check_id": "f2933764ef7e46b69d493a18f93d790e",
      "_immediate": true,
      "_name": "",
      "_points": 2,
      "display.text/plain": true,
      "output.stderr": true,
      "output.stdout": true,
      "result.text/plain": true
     },
     "outputs": [
      {
       "name": "stdout",
       "output_type": "stream",
       "text": "Loss Function:\n {'from_logits': False,\n 'name': 'sparse_categorical_crossentropy',\n 'reduction': 'auto'}\n------------------------------\nOptimizer:\n {'amsgrad': False,\n 'beta_1': 0.9,\n 'beta_2': 0.999,\n 'decay': 0.0,\n 'epsilon': 1e-07,\n 'learning_rate': 0.1,\n 'name': 'Adam'}\n"
      }
     ]
    }
   },
   "outputs": [
    {
     "name": "stdout",
     "output_type": "stream",
     "text": [
      "Loss Function:\n",
      " {'from_logits': False,\n",
      " 'name': 'sparse_categorical_crossentropy',\n",
      " 'reduction': 'auto'}\n",
      "------------------------------\n",
      "Optimizer:\n",
      " {'amsgrad': False,\n",
      " 'beta_1': 0.9,\n",
      " 'beta_2': 0.999,\n",
      " 'decay': 0.0,\n",
      " 'epsilon': 1e-07,\n",
      " 'learning_rate': 0.1,\n",
      " 'name': 'Adam'}\n"
     ]
    }
   ],
   "source": [
    "from pprint import pformat\n",
    "\n",
    "compile_model(simple_model, 1e-1)\n",
    "simple_model.optimizer.get_config()\n",
    "print(\"Loss Function:\\n\", pformat(simple_model.loss.get_config()))\n",
    "print(\"-\" * 30)\n",
    "print(\"Optimizer:\\n\", pformat(simple_model.optimizer.get_config()))"
   ]
  },
  {
   "cell_type": "markdown",
   "metadata": {
    "cell_id": "f051164295864fa2853f63eb1a82c317",
    "editable": false
   },
   "source": [
    "# Training"
   ]
  },
  {
   "cell_type": "markdown",
   "metadata": {
    "cell_id": "3ab023452c174b2b8fb7cb6c31f1e582",
    "lambdacheck": {
     "layout": {
      "column_offset": 0,
      "column_span": 12
     },
     "workunit": {
      "id": "3ab023452c174b2b8fb7cb6c31f1e582",
      "type": "title"
     }
    }
   },
   "source": [
    "## Training on MNIST"
   ]
  },
  {
   "cell_type": "markdown",
   "metadata": {
    "cell_id": "54fe8f7df1c04c0980943667c2e52561",
    "editable": false,
    "lambdacheck": {
     "layout": {
      "column_offset": 0,
      "column_span": 4,
      "row_span": 2
     },
     "workunit": {
      "id": "3ab023452c174b2b8fb7cb6c31f1e582",
      "type": "text"
     }
    }
   },
   "source": [
    "Implement a function `train(model, x, y)` that will train the model with epochs=10.\n",
    "\n",
    "The function must return the training history object."
   ]
  },
  {
   "cell_type": "code",
   "execution_count": 18,
   "metadata": {
    "cell_id": "44a815bc7247463989976aab4a1a364e",
    "lambdacheck": {
     "layout": {
      "column_offset": 4,
      "column_span": 8
     },
     "workunit": {
      "id": "3ab023452c174b2b8fb7cb6c31f1e582",
      "type": "student-solution"
     }
    }
   },
   "outputs": [],
   "source": [
    "def train(model, x_data, y_data):\n",
    "    return model.fit(x_data, y_data, epochs=10)"
   ]
  },
  {
   "cell_type": "code",
   "execution_count": 19,
   "metadata": {
    "cell_id": "c9a33f0ec63141b0859bf9aed75d3a0b",
    "editable": false,
    "lambdacheck": {}
   },
   "outputs": [
    {
     "name": "stdout",
     "output_type": "stream",
     "text": [
      "Epoch 1/10\n",
      "1875/1875 [==============================] - 5s 2ms/step - loss: 0.4341 - acc: 0.8700\n",
      "Epoch 2/10\n",
      "1875/1875 [==============================] - 4s 2ms/step - loss: 0.3395 - acc: 0.9088\n",
      "Epoch 3/10\n",
      "1875/1875 [==============================] - 4s 2ms/step - loss: 0.3228 - acc: 0.9134\n",
      "Epoch 4/10\n",
      "1875/1875 [==============================] - 4s 2ms/step - loss: 0.3109 - acc: 0.9176\n",
      "Epoch 5/10\n",
      "1875/1875 [==============================] - 4s 2ms/step - loss: 0.3202 - acc: 0.9151\n",
      "Epoch 6/10\n",
      "1875/1875 [==============================] - 4s 2ms/step - loss: 0.3072 - acc: 0.9173\n",
      "Epoch 7/10\n",
      "1875/1875 [==============================] - 4s 2ms/step - loss: 0.3146 - acc: 0.9159\n",
      "Epoch 8/10\n",
      "1875/1875 [==============================] - 4s 2ms/step - loss: 0.3146 - acc: 0.9160\n",
      "Epoch 9/10\n",
      "1875/1875 [==============================] - 4s 2ms/step - loss: 0.3152 - acc: 0.9187\n",
      "Epoch 10/10\n",
      "1875/1875 [==============================] - 4s 2ms/step - loss: 0.3057 - acc: 0.9197\n"
     ]
    }
   ],
   "source": [
    "simple_model = build_simple_model()\n",
    "compile_model(simple_model)\n",
    "log_simple = train(simple_model, x_train, y_train)"
   ]
  },
  {
   "cell_type": "markdown",
   "metadata": {
    "cell_id": "e4acb58a7f1e4f2dabbd79ab4d91f4ca",
    "editable": false,
    "lambdacheck": {
     "layout": {
      "column_offset": 0,
      "column_span": 4,
      "row_span": 10
     }
    }
   },
   "source": [
    "Check that the model performs reasonable well."
   ]
  },
  {
   "cell_type": "code",
   "execution_count": 20,
   "metadata": {
    "cell_id": "e920be5a04654e808b66fb7cb180a833",
    "editable": false,
    "lambdacheck": {
     "check": {
      "_check_id": "e920be5a04654e808b66fb7cb180a833",
      "_immediate": true,
      "_name": "",
      "display.text/plain": true,
      "output.stderr": true,
      "output.stdout": true,
      "result.text/plain": true
     },
     "layout": {
      "column_offset": 4,
      "column_span": 8
     },
     "outputs": [
      {
       "data": {
        "text/plain": "True"
       },
       "metadata": {},
       "output_type": "execute_result"
      }
     ]
    }
   },
   "outputs": [
    {
     "data": {
      "text/plain": [
       "True"
      ]
     },
     "execution_count": 20,
     "metadata": {},
     "output_type": "execute_result"
    }
   ],
   "source": [
    "log_simple.history['acc'][-1] > 0.9"
   ]
  },
  {
   "cell_type": "code",
   "execution_count": 21,
   "metadata": {
    "cell_id": "d6257ee75670402daeef7cf888bf3285",
    "editable": false
   },
   "outputs": [
    {
     "data": {
      "image/png": "[encoded data removed]",
      "text/plain": [
       "<Figure size 720x720 with 1 Axes>"
      ]
     },
     "metadata": {
      "needs_background": "light"
     },
     "output_type": "display_data"
    }
   ],
   "source": [
    "pl.figure(figsize=(10, 10))\n",
    "pl.plot(log_simple.history['acc'], linewidth=3);\n",
    "pl.title('Simple Model', fontsize=20);"
   ]
  },
  {
   "cell_type": "markdown",
   "metadata": {
    "cell_id": "257e53b9cbf74d248d094b55df39cfdb",
    "editable": false
   },
   "source": [
    "## Multi-layer Models"
   ]
  },
  {
   "cell_type": "markdown",
   "metadata": {
    "cell_id": "38b9f8be1b4b444fadb322316e82a806",
    "lambdacheck": {
     "layout": {
      "column_offset": 0,
      "column_span": 12
     },
     "workunit": {
      "id": "38b9f8be1b4b444fadb322316e82a806",
      "type": "title"
     }
    }
   },
   "source": [
    "## Building multi-layer models"
   ]
  },
  {
   "cell_type": "markdown",
   "metadata": {
    "cell_id": "636618ef89be47c98bdf38a88351e89e",
    "editable": false,
    "lambdacheck": {
     "layout": {
      "column_offset": 0,
      "column_span": 4,
      "row_span": 2
     },
     "workunit": {
      "id": "38b9f8be1b4b444fadb322316e82a806",
      "type": "text"
     }
    }
   },
   "source": [
    "Implement a function that builds multi-layer model, named `multilayer_model`.\n",
    "\n",
    "The model must have `num_layers` of Dense layers.\n",
    "\n",
    "The first `(num_layers - 1)` dense layers\n",
    "are `Dense(100)`, named as `dense_i`, and followed by a separate activation layer using\n",
    "`relu` activation function.\n",
    "\n",
    "The last dense layer is `Dense(10)` followed by a separate activation layer using `softmax` as the activation function.  The last two years are named `dense_out` and `activation_out` respectively."
   ]
  },
  {
   "cell_type": "code",
   "execution_count": 22,
   "metadata": {
    "cell_id": "26ba06a9d4db4dcab0a0fadc5e61a799",
    "lambdacheck": {
     "layout": {
      "column_offset": 4,
      "column_span": 8
     },
     "workunit": {
      "id": "38b9f8be1b4b444fadb322316e82a806",
      "type": "student-solution"
     }
    }
   },
   "outputs": [],
   "source": [
    "def build_multilayer_model(num_layers):\n",
    "    model = models.Sequential([\n",
    "        layers.Input(shape=(28,28)),\n",
    "        layers.Reshape((28*28,), name='flatten'),\n",
    "    ], name='multilayer_model')\n",
    "    i = 0\n",
    "    inter_layers_count = num_layers - 1\n",
    "    while i < inter_layers_count:\n",
    "        dense_name = 'dense_' + str(i)\n",
    "        model.add(layers.Dense(100, name=dense_name))\n",
    "        activation_name = 'activation_' + str(i)\n",
    "        model.add(layers.Activation('relu', name=activation_name))\n",
    "        i+=1\n",
    "    model.add(layers.Dense(10, name='dense_out'))\n",
    "    model.add(layers.Activation('softmax', name='activation_out'))\n",
    "    return model"
   ]
  },
  {
   "cell_type": "code",
   "execution_count": 23,
   "metadata": {
    "cell_id": "f832e149f9de48348015752359ad3b4e",
    "editable": false,
    "lambdacheck": {
     "check": {
      "_check_id": "f832e149f9de48348015752359ad3b4e",
      "_immediate": true,
      "_name": "",
      "_points": 3,
      "display.text/plain": true,
      "output.stderr": true,
      "output.stdout": true,
      "result.text/plain": true
     },
     "outputs": [
      {
       "name": "stdout",
       "output_type": "stream",
       "text": "Model: \"multilayer_model\"\n_________________________________________________________________\nLayer (type)                 Output Shape              Param #   \n=================================================================\nflatten (Reshape)            (None, 784)               0         \n_________________________________________________________________\ndense_0 (Dense)              (None, 100)               78500     \n_________________________________________________________________\nactivation_0 (Activation)    (None, 100)               0         \n_________________________________________________________________\ndense_1 (Dense)              (None, 100)               10100     \n_________________________________________________________________\nactivation_1 (Activation)    (None, 100)               0         \n_________________________________________________________________\ndense_2 (Dense)              (None, 100)               10100     \n_________________________________________________________________\nactivation_2 (Activation)    (None, 100)               0         \n_________________________________________________________________\ndense_3 (Dense)              (None, 100)               10100     \n_________________________________________________________________\nactivation_3 (Activation)    (None, 100)               0         \n_________________________________________________________________\ndense_out (Dense)            (None, 10)                1010      \n_________________________________________________________________\nactivation_out (Activation)  (None, 10)                0         \n=================================================================\nTotal params: 109,810\nTrainable params: 109,810\nNon-trainable params: 0\n_________________________________________________________________\n"
      }
     ]
    }
   },
   "outputs": [
    {
     "name": "stdout",
     "output_type": "stream",
     "text": [
      "Model: \"multilayer_model\"\n",
      "_________________________________________________________________\n",
      "Layer (type)                 Output Shape              Param #   \n",
      "=================================================================\n",
      "flatten (Reshape)            (None, 784)               0         \n",
      "_________________________________________________________________\n",
      "dense_0 (Dense)              (None, 100)               78500     \n",
      "_________________________________________________________________\n",
      "activation_0 (Activation)    (None, 100)               0         \n",
      "_________________________________________________________________\n",
      "dense_1 (Dense)              (None, 100)               10100     \n",
      "_________________________________________________________________\n",
      "activation_1 (Activation)    (None, 100)               0         \n",
      "_________________________________________________________________\n",
      "dense_2 (Dense)              (None, 100)               10100     \n",
      "_________________________________________________________________\n",
      "activation_2 (Activation)    (None, 100)               0         \n",
      "_________________________________________________________________\n",
      "dense_3 (Dense)              (None, 100)               10100     \n",
      "_________________________________________________________________\n",
      "activation_3 (Activation)    (None, 100)               0         \n",
      "_________________________________________________________________\n",
      "dense_out (Dense)            (None, 10)                1010      \n",
      "_________________________________________________________________\n",
      "activation_out (Activation)  (None, 10)                0         \n",
      "=================================================================\n",
      "Total params: 109,810\n",
      "Trainable params: 109,810\n",
      "Non-trainable params: 0\n",
      "_________________________________________________________________\n"
     ]
    }
   ],
   "source": [
    "multilayer_model = build_multilayer_model(5)\n",
    "\n",
    "multilayer_model.summary()"
   ]
  },
  {
   "cell_type": "code",
   "execution_count": 24,
   "metadata": {
    "cell_id": "faca9ab82b554477b08b7447a7fc7d99",
    "editable": false
   },
   "outputs": [],
   "source": [
    "compile_model(multilayer_model)"
   ]
  },
  {
   "cell_type": "code",
   "execution_count": 25,
   "metadata": {
    "cell_id": "11da60d33a0e41ed8aed6039834c0930",
    "editable": false
   },
   "outputs": [
    {
     "name": "stdout",
     "output_type": "stream",
     "text": [
      "Epoch 1/10\n",
      "1875/1875 [==============================] - 16s 8ms/step - loss: 0.4678 - acc: 0.8598\n",
      "Epoch 2/10\n",
      "1875/1875 [==============================] - 17s 9ms/step - loss: 0.2295 - acc: 0.9440\n",
      "Epoch 3/10\n",
      "1875/1875 [==============================] - 17s 9ms/step - loss: 0.1886 - acc: 0.9543: 7s - loss: 0.1828 - acc: 0 - - ETA: 0s - loss: 0.1882 - acc:\n",
      "Epoch 4/10\n",
      "1875/1875 [==============================] - 16s 8ms/step - loss: 0.1884 - acc: 0.9546\n",
      "Epoch 5/10\n",
      "1875/1875 [==============================] - 16s 8ms/step - loss: 0.1945 - acc: 0.9530\n",
      "Epoch 6/10\n",
      "1875/1875 [==============================] - 16s 8ms/step - loss: 0.1652 - acc: 0.9609: 0s - loss: 0.1652 - acc: 0.960\n",
      "Epoch 7/10\n",
      "1875/1875 [==============================] - 15s 8ms/step - loss: 0.1626 - acc: 0.9613\n",
      "Epoch 8/10\n",
      "1875/1875 [==============================] - 15s 8ms/step - loss: 0.1533 - acc: 0.9641\n",
      "Epoch 9/10\n",
      "1875/1875 [==============================] - 15s 8ms/step - loss: 0.1315 - acc: 0.9687\n",
      "Epoch 10/10\n",
      "1875/1875 [==============================] - 16s 8ms/step - loss: 0.1477 - acc: 0.9662\n"
     ]
    }
   ],
   "source": [
    "log_multi = train(multilayer_model, x_train, y_train)"
   ]
  },
  {
   "cell_type": "code",
   "execution_count": 26,
   "metadata": {
    "cell_id": "d77c5b20efcd484382434042f42df249",
    "editable": false
   },
   "outputs": [
    {
     "data": {
      "image/png": "[encoded data removed]",
      "text/plain": [
       "<Figure size 720x720 with 1 Axes>"
      ]
     },
     "metadata": {
      "needs_background": "light"
     },
     "output_type": "display_data"
    }
   ],
   "source": [
    "pl.figure(figsize=(10, 10))\n",
    "pl.plot(log_multi.history['acc'], linewidth=3);\n",
    "pl.plot(log_simple.history['acc'], linewidth=3);\n",
    "\n",
    "pl.legend(['Multi-layer', 'Simple layer'], fontsize=16)\n",
    "\n",
    "pl.title('Training Accuracy', fontsize=20);"
   ]
  },
  {
   "cell_type": "code",
   "execution_count": 27,
   "metadata": {
    "cell_id": "0d1f0f2552774d758b7c765b831c83af",
    "editable": false,
    "lambdacheck": {
     "check": {
      "_check_id": "0d1f0f2552774d758b7c765b831c83af",
      "_immediate": true,
      "_name": "",
      "display.text/plain": true,
      "output.stderr": true,
      "output.stdout": true,
      "result.text/plain": true
     },
     "outputs": [
      {
       "name": "stdout",
       "output_type": "stream",
       "text": "Simple < Multilayer: True\nMultilayer > 0.95: True\n"
      }
     ]
    }
   },
   "outputs": [
    {
     "name": "stdout",
     "output_type": "stream",
     "text": [
      "Simple < Multilayer: True\n",
      "Multilayer > 0.95: True\n"
     ]
    }
   ],
   "source": [
    "print(\"Simple < Multilayer:\", log_simple.history['acc'][-1] < log_multi.history['acc'][-1])\n",
    "print(\"Multilayer > 0.95:\", 0.95 < log_multi.history['acc'][-1])"
   ]
  },
  {
   "cell_type": "code",
   "execution_count": null,
   "metadata": {
    "cell_id": "6acab668002d4eaab612f4ab80409785"
   },
   "outputs": [],
   "source": []
  }
 ],
 "metadata": {
  "celltoolbar": "λ.check",
  "kernelspec": {
   "display_name": "Python 3",
   "language": "python",
   "name": "python3"
  },
  "lambdacheck": {
   "worksheet": true
  },
  "language_info": {
   "codemirror_mode": {
    "name": "ipython",
    "version": 3
   },
   "file_extension": ".py",
   "mimetype": "text/x-python",
   "name": "python",
   "nbconvert_exporter": "python",
   "pygments_lexer": "ipython3",
   "version": "3.8.6"
  }
 },
 "nbformat": 4,
 "nbformat_minor": 4
}
