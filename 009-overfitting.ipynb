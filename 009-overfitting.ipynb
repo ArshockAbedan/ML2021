{
 "cells": [
  {
   "cell_type": "markdown",
   "metadata": {
    "cell_id": "8e2be36fea4f4b999126c954448ed49a"
   },
   "source": [
    "# Overfitting when training data is limited."
   ]
  },
  {
   "cell_type": "code",
   "execution_count": 1,
   "metadata": {
    "cell_id": "38045201c17643faa60c00ce4b78a1ed"
   },
   "outputs": [],
   "source": [
    "import tensorflow as tf\n",
    "import tensorflow.keras as keras\n",
    "import tensorflow.keras.models as models\n",
    "import tensorflow.keras.layers as layers\n",
    "import tensorflow.keras.losses as losses\n",
    "import tensorflow.keras.optimizers as optimizers\n",
    "import tensorflow.keras.datasets as datasets\n",
    "\n",
    "import numpy as np\n",
    "import matplotlib.pyplot as pl"
   ]
  },
  {
   "cell_type": "markdown",
   "metadata": {
    "cell_id": "992d05bf178948b781016f632e2e156e"
   },
   "source": [
    "# A small training data set"
   ]
  },
  {
   "cell_type": "markdown",
   "metadata": {
    "cell_id": "f72297a7b4c248bf8600a5525e443b84",
    "lambdacheck": {
     "layout": {
      "column_offset": 0,
      "column_span": 4,
      "row_span": 10
     }
    }
   },
   "source": [
    "Load the MNIST dataset.\n",
    "\n",
    "1. Rescaling the input values to 0-1 from 0-255.\n",
    "\n",
    "\n",
    "2. Reduce the training data to only 100 images.\n",
    "\n",
    "  - we have approximately 10 images per digit."
   ]
  },
  {
   "cell_type": "code",
   "execution_count": 3,
   "metadata": {
    "cell_id": "f714e7cce04d4c5b83f38a3cc15f51e8",
    "lambdacheck": {
     "layout": {
      "column_offset": 4,
      "column_span": 8
     }
    }
   },
   "outputs": [
    {
     "data": {
      "text/plain": [
       "(60000, 28, 28)"
      ]
     },
     "execution_count": 3,
     "metadata": {},
     "output_type": "execute_result"
    }
   ],
   "source": [
    "(data_train, data_test) = tf.keras.datasets.mnist.load_data(path='/data/shared/datasets/mnist.npz')\n",
    "\n",
    "x_train, y_train = data_train\n",
    "x_test, y_test = data_test\n",
    "\n",
    "x_train = x_train / 255\n",
    "x_test = x_test / 255\n",
    "\n",
    "x_train.shape"
   ]
  },
  {
   "cell_type": "code",
   "execution_count": 4,
   "metadata": {
    "cell_id": "f714e7cce04d4c5b83f38a3cc15f51e8",
    "lambdacheck": {
     "layout": {
      "column_offset": 4,
      "column_span": 8
     }
    }
   },
   "outputs": [],
   "source": [
    "N = x_train.shape[0]\n",
    "N_train = 100\n",
    "\n",
    "I = np.arange(N)\n",
    "np.random.shuffle(I)\n",
    "I = I[:N_train]\n",
    "\n",
    "x_train = x_train[I,:,:]\n",
    "y_train = y_train[I]"
   ]
  },
  {
   "cell_type": "code",
   "execution_count": 5,
   "metadata": {
    "cell_id": "f714e7cce04d4c5b83f38a3cc15f51e8",
    "lambdacheck": {
     "layout": {
      "column_offset": 4,
      "column_span": 8
     }
    }
   },
   "outputs": [
    {
     "data": {
      "text/plain": [
       "((100, 28, 28), (100,))"
      ]
     },
     "execution_count": 5,
     "metadata": {},
     "output_type": "execute_result"
    }
   ],
   "source": [
    "x_train.shape, y_train.shape"
   ]
  },
  {
   "cell_type": "markdown",
   "metadata": {
    "cell_id": "2d18dfa5614a4329950e9f6b32386806"
   },
   "source": [
    "# Building the model"
   ]
  },
  {
   "cell_type": "markdown",
   "metadata": {
    "cell_id": "c7f345a115bb4dbe869bdd3cbc153792",
    "lambdacheck": {
     "layout": {
      "column_offset": 0,
      "column_span": 4,
      "row_span": 10
     }
    }
   },
   "source": [
    "We are going to build a three layer dense model, with inner layer having `relu` activation, and the outer layer using `softmax`."
   ]
  },
  {
   "cell_type": "code",
   "execution_count": 6,
   "metadata": {
    "cell_id": "e2eb0eae9577497dbb93b3de1c7ce7e7",
    "lambdacheck": {
     "layout": {
      "column_offset": 4,
      "column_span": 8
     }
    }
   },
   "outputs": [],
   "source": [
    "model = models.Sequential([\n",
    "    layers.Input(shape=(28, 28)),\n",
    "    layers.Reshape((-1,)),\n",
    "    layers.Dense(100, activation='relu'),\n",
    "    layers.Dense(100, activation='relu'),\n",
    "    layers.Dense(100, activation='relu'),\n",
    "    layers.Dense(10, activation='softmax')\n",
    "])\n",
    "\n",
    "model.save_weights('model_weights_init.h5')\n",
    "model.compile(\n",
    "    loss=losses.SparseCategoricalCrossentropy(),\n",
    "    optimizer=optimizers.Adam(),\n",
    "    metrics=['acc']\n",
    ")"
   ]
  },
  {
   "cell_type": "markdown",
   "metadata": {
    "cell_id": "985e9dd5a0b3488a8246b6c14d7d7fcc"
   },
   "source": [
    "# Training and Testing"
   ]
  },
  {
   "cell_type": "markdown",
   "metadata": {
    "cell_id": "036c7c6bd6154a5383245800c61f6a9b",
    "lambdacheck": {
     "layout": {
      "column_offset": 0,
      "column_span": 4,
      "row_span": 10
     }
    }
   },
   "source": [
    "We will use `model.fit` with 10 epochs.\n",
    "\n",
    "We also make sure to always start from the initial random model parameters."
   ]
  },
  {
   "cell_type": "code",
   "execution_count": 14,
   "metadata": {
    "cell_id": "8fd09a3628f243379883baccba49c213",
    "lambdacheck": {
     "layout": {
      "column_offset": 4,
      "column_span": 8
     }
    },
    "scrolled": false
   },
   "outputs": [
    {
     "name": "stdout",
     "output_type": "stream",
     "text": [
      "Epoch 1/20\n",
      "4/4 [==============================] - 0s 3ms/step - loss: 2.2793 - acc: 0.1800\n",
      "Epoch 2/20\n",
      "4/4 [==============================] - 0s 3ms/step - loss: 2.1956 - acc: 0.3200\n",
      "Epoch 3/20\n",
      "4/4 [==============================] - 0s 4ms/step - loss: 2.0771 - acc: 0.4100\n",
      "Epoch 4/20\n",
      "4/4 [==============================] - 0s 3ms/step - loss: 1.9278 - acc: 0.4300\n",
      "Epoch 5/20\n",
      "4/4 [==============================] - 0s 3ms/step - loss: 1.7312 - acc: 0.6000\n",
      "Epoch 6/20\n",
      "4/4 [==============================] - 0s 3ms/step - loss: 1.4952 - acc: 0.7400\n",
      "Epoch 7/20\n",
      "4/4 [==============================] - 0s 11ms/step - loss: 1.2424 - acc: 0.7500\n",
      "Epoch 8/20\n",
      "4/4 [==============================] - 0s 3ms/step - loss: 0.9673 - acc: 0.8700\n",
      "Epoch 9/20\n",
      "4/4 [==============================] - 0s 3ms/step - loss: 0.7181 - acc: 0.8900\n",
      "Epoch 10/20\n",
      "4/4 [==============================] - 0s 4ms/step - loss: 0.5325 - acc: 0.9000\n",
      "Epoch 11/20\n",
      "4/4 [==============================] - 0s 3ms/step - loss: 0.4162 - acc: 0.9600\n",
      "Epoch 12/20\n",
      "4/4 [==============================] - 0s 3ms/step - loss: 0.2819 - acc: 0.9800\n",
      "Epoch 13/20\n",
      "4/4 [==============================] - 0s 3ms/step - loss: 0.2258 - acc: 0.9900\n",
      "Epoch 14/20\n",
      "4/4 [==============================] - 0s 3ms/step - loss: 0.2038 - acc: 0.9600\n",
      "Epoch 15/20\n",
      "4/4 [==============================] - 0s 3ms/step - loss: 0.1339 - acc: 0.9800\n",
      "Epoch 16/20\n",
      "4/4 [==============================] - 0s 3ms/step - loss: 0.1244 - acc: 0.9800\n",
      "Epoch 17/20\n",
      "4/4 [==============================] - 0s 3ms/step - loss: 0.1637 - acc: 0.9700\n",
      "Epoch 18/20\n",
      "4/4 [==============================] - 0s 3ms/step - loss: 0.0756 - acc: 0.9900\n",
      "Epoch 19/20\n",
      "4/4 [==============================] - 0s 3ms/step - loss: 0.0611 - acc: 1.0000\n",
      "Epoch 20/20\n",
      "4/4 [==============================] - 0s 3ms/step - loss: 0.0677 - acc: 0.9900\n"
     ]
    }
   ],
   "source": [
    "#\n",
    "# Always starts from the initial weights for reproducibility\n",
    "#\n",
    "model.load_weights('model_weights_init.h5')\n",
    "\n",
    "log = model.fit(x_train, y_train, epochs=20)"
   ]
  },
  {
   "cell_type": "markdown",
   "metadata": {
    "cell_id": "093b177e9101450c87b57842a86fa79c",
    "lambdacheck": {
     "layout": {
      "column_offset": 0,
      "column_span": 4,
      "row_span": 10
     }
    }
   },
   "source": [
    "Let's **deploy** the model, and see how well it works using the test data."
   ]
  },
  {
   "cell_type": "code",
   "execution_count": 16,
   "metadata": {
    "cell_id": "c123677ce3d346c486fb2a7632d27e79",
    "lambdacheck": {
     "layout": {
      "column_offset": 4,
      "column_span": 8
     }
    }
   },
   "outputs": [
    {
     "name": "stdout",
     "output_type": "stream",
     "text": [
      "313/313 - 0s - loss: 0.8131 - acc: 0.7369\n"
     ]
    }
   ],
   "source": [
    "test_loss, test_acc = model.evaluate(x_test, y_test, verbose=2)"
   ]
  },
  {
   "cell_type": "markdown",
   "metadata": {
    "cell_id": "f8a97ff2c6084ad3b4302bc03f6d8dd1"
   },
   "source": [
    "## Overfitting\n",
    "\n",
    "Overfitting occurs when the model is sufficiently large to capture the training data over optimistically.  It fails to account the unobserved\n",
    "inputs during deployment.\n",
    "\n",
    "This results in unreasonally good training accuracy, and does not accurately reflect the true quality of the model"
   ]
  },
  {
   "cell_type": "code",
   "execution_count": 18,
   "metadata": {
    "cell_id": "e8c9d237a5a245c4966a46c5047a3b3d"
   },
   "outputs": [
    {
     "data": {
      "image/png": "[encoded data removed]",
      "text/plain": [
       "<Figure size 432x288 with 1 Axes>"
      ]
     },
     "metadata": {
      "needs_background": "light"
     },
     "output_type": "display_data"
    }
   ],
   "source": [
    "pl.plot(log.history['acc'])\n",
    "pl.plot([0, 20], [test_acc, test_acc], '--');"
   ]
  },
  {
   "cell_type": "markdown",
   "metadata": {
    "cell_id": "ce8c8dfdc7af4be68a0af5489aeada38"
   },
   "source": [
    "# Training with cross-validation"
   ]
  },
  {
   "cell_type": "markdown",
   "metadata": {
    "cell_id": "566ee29e315a445883cf0d412b176286",
    "lambdacheck": {
     "layout": {
      "column_offset": 0,
      "column_span": 4,
      "row_span": 10
     }
    }
   },
   "source": [
    "Retrain the same model\n",
    "\n",
    "1. Reload the model parameters.\n",
    "\n",
    "2. Specify a validation split."
   ]
  },
  {
   "cell_type": "code",
   "execution_count": 19,
   "metadata": {
    "cell_id": "9e2e5049643642db81dbc067f18b745a",
    "lambdacheck": {
     "layout": {
      "column_offset": 4,
      "column_span": 8
     }
    }
   },
   "outputs": [
    {
     "name": "stdout",
     "output_type": "stream",
     "text": [
      "Epoch 1/20\n",
      "3/3 - 0s - loss: 2.2935 - acc: 0.1222 - val_loss: 2.2252 - val_acc: 0.2000\n",
      "Epoch 2/20\n",
      "3/3 - 0s - loss: 2.2548 - acc: 0.1778 - val_loss: 2.1842 - val_acc: 0.3000\n",
      "Epoch 3/20\n",
      "3/3 - 0s - loss: 2.1990 - acc: 0.2333 - val_loss: 2.1337 - val_acc: 0.4000\n",
      "Epoch 4/20\n",
      "3/3 - 0s - loss: 2.1321 - acc: 0.3111 - val_loss: 2.0806 - val_acc: 0.4000\n",
      "Epoch 5/20\n",
      "3/3 - 0s - loss: 2.0608 - acc: 0.3556 - val_loss: 2.0125 - val_acc: 0.4000\n",
      "Epoch 6/20\n",
      "3/3 - 0s - loss: 1.9771 - acc: 0.4667 - val_loss: 1.9260 - val_acc: 0.4000\n",
      "Epoch 7/20\n",
      "3/3 - 0s - loss: 1.8830 - acc: 0.5556 - val_loss: 1.8247 - val_acc: 0.5000\n",
      "Epoch 8/20\n",
      "3/3 - 0s - loss: 1.7725 - acc: 0.6556 - val_loss: 1.7113 - val_acc: 0.6000\n",
      "Epoch 9/20\n",
      "3/3 - 0s - loss: 1.6506 - acc: 0.6889 - val_loss: 1.5836 - val_acc: 0.6000\n",
      "Epoch 10/20\n",
      "3/3 - 0s - loss: 1.5048 - acc: 0.7222 - val_loss: 1.4601 - val_acc: 0.6000\n",
      "Epoch 11/20\n",
      "3/3 - 0s - loss: 1.3463 - acc: 0.8111 - val_loss: 1.3407 - val_acc: 0.6000\n",
      "Epoch 12/20\n",
      "3/3 - 0s - loss: 1.1697 - acc: 0.8556 - val_loss: 1.2152 - val_acc: 0.7000\n",
      "Epoch 13/20\n",
      "3/3 - 0s - loss: 0.9852 - acc: 0.9333 - val_loss: 1.1191 - val_acc: 0.7000\n",
      "Epoch 14/20\n",
      "3/3 - 0s - loss: 0.8040 - acc: 0.9333 - val_loss: 1.0225 - val_acc: 0.7000\n",
      "Epoch 15/20\n",
      "3/3 - 0s - loss: 0.6351 - acc: 0.9444 - val_loss: 0.9432 - val_acc: 0.7000\n",
      "Epoch 16/20\n",
      "3/3 - 0s - loss: 0.4891 - acc: 0.9444 - val_loss: 0.8706 - val_acc: 0.8000\n",
      "Epoch 17/20\n",
      "3/3 - 0s - loss: 0.3723 - acc: 0.9667 - val_loss: 0.8634 - val_acc: 0.7000\n",
      "Epoch 18/20\n",
      "3/3 - 0s - loss: 0.2753 - acc: 0.9778 - val_loss: 0.8452 - val_acc: 0.7000\n",
      "Epoch 19/20\n",
      "3/3 - 0s - loss: 0.2036 - acc: 1.0000 - val_loss: 0.8150 - val_acc: 0.7000\n",
      "Epoch 20/20\n",
      "3/3 - 0s - loss: 0.1551 - acc: 1.0000 - val_loss: 0.7987 - val_acc: 0.7000\n"
     ]
    }
   ],
   "source": [
    "model.load_weights('model_weights_init.h5')\n",
    "\n",
    "log = model.fit(x_train, y_train, epochs=20, validation_split=0.1, verbose=2)"
   ]
  },
  {
   "cell_type": "markdown",
   "metadata": {
    "cell_id": "7f04af2b634744719f0d5e97a052ae6f",
    "lambdacheck": {
     "layout": {
      "column_offset": 0,
      "column_span": 4,
      "row_span": 10
     }
    }
   },
   "source": [
    "Plot the training *loss*."
   ]
  },
  {
   "cell_type": "code",
   "execution_count": 21,
   "metadata": {
    "cell_id": "e617ffddea8148a9821fc94f2717c936",
    "lambdacheck": {
     "layout": {
      "column_offset": 4,
      "column_span": 8
     }
    }
   },
   "outputs": [
    {
     "data": {
      "text/plain": [
       "[<matplotlib.lines.Line2D at 0x7fdb461a4880>]"
      ]
     },
     "execution_count": 21,
     "metadata": {},
     "output_type": "execute_result"
    },
    {
     "data": {
      "image/png": "[encoded data removed]",
      "text/plain": [
       "<Figure size 432x288 with 1 Axes>"
      ]
     },
     "metadata": {
      "needs_background": "light"
     },
     "output_type": "display_data"
    }
   ],
   "source": [
    "pl.plot(log.history['loss'])\n",
    "pl.plot(log.history['val_loss'])"
   ]
  },
  {
   "cell_type": "markdown",
   "metadata": {
    "cell_id": "3398947b28904fdf8ab0b7a2ca2df49a",
    "lambdacheck": {
     "layout": {
      "column_offset": 0,
      "column_span": 4,
      "row_span": 10
     }
    }
   },
   "source": [
    "Compare\n",
    "\n",
    "- Training accuracy\n",
    "\n",
    "- Cross-validation accuracy\n",
    "\n",
    "- Test accuracy"
   ]
  },
  {
   "cell_type": "code",
   "execution_count": 22,
   "metadata": {
    "cell_id": "1af8e35531fc40f496d2fdcb7f5bf5f4",
    "lambdacheck": {
     "layout": {
      "column_offset": 4,
      "column_span": 8
     }
    },
    "scrolled": true
   },
   "outputs": [
    {
     "name": "stdout",
     "output_type": "stream",
     "text": [
      "313/313 [==============================] - 0s 1ms/step - loss: 0.8467 - acc: 0.7344\n"
     ]
    }
   ],
   "source": [
    "[test_loss, test_acc] = model.evaluate(x_test, y_test)"
   ]
  },
  {
   "cell_type": "code",
   "execution_count": 24,
   "metadata": {
    "cell_id": "1af8e35531fc40f496d2fdcb7f5bf5f4",
    "lambdacheck": {
     "layout": {
      "column_offset": 4,
      "column_span": 8
     }
    },
    "scrolled": true
   },
   "outputs": [
    {
     "data": {
      "text/plain": [
       "[<matplotlib.lines.Line2D at 0x7fdb3f445280>]"
      ]
     },
     "execution_count": 24,
     "metadata": {},
     "output_type": "execute_result"
    },
    {
     "data": {
      "image/png": "[encoded data removed]",
      "text/plain": [
       "<Figure size 432x288 with 1 Axes>"
      ]
     },
     "metadata": {
      "needs_background": "light"
     },
     "output_type": "display_data"
    }
   ],
   "source": [
    "pl.plot(log.history['acc'])\n",
    "pl.plot(log.history['val_acc'])\n",
    "pl.plot([0, 20], [test_acc, test_acc], '--')"
   ]
  },
  {
   "cell_type": "markdown",
   "metadata": {
    "cell_id": "9e29b119010c410398b80e444cb1db53"
   },
   "source": [
    "# Model Parameter Regulation"
   ]
  },
  {
   "cell_type": "code",
   "execution_count": 25,
   "metadata": {
    "cell_id": "19c6016e81a84acd99fce48081f1d77e"
   },
   "outputs": [
    {
     "name": "stdout",
     "output_type": "stream",
     "text": [
      "Model: \"sequential\"\n",
      "_________________________________________________________________\n",
      "Layer (type)                 Output Shape              Param #   \n",
      "=================================================================\n",
      "reshape (Reshape)            (None, 784)               0         \n",
      "_________________________________________________________________\n",
      "dense (Dense)                (None, 100)               78500     \n",
      "_________________________________________________________________\n",
      "dense_1 (Dense)              (None, 100)               10100     \n",
      "_________________________________________________________________\n",
      "dense_2 (Dense)              (None, 100)               10100     \n",
      "_________________________________________________________________\n",
      "dense_3 (Dense)              (None, 10)                1010      \n",
      "=================================================================\n",
      "Total params: 99,710\n",
      "Trainable params: 99,710\n",
      "Non-trainable params: 0\n",
      "_________________________________________________________________\n"
     ]
    }
   ],
   "source": [
    "model.summary()"
   ]
  },
  {
   "cell_type": "markdown",
   "metadata": {
    "cell_id": "550c35f22f2240e4bf55cc993ba73854",
    "lambdacheck": {
     "layout": {
      "column_offset": 0,
      "column_span": 4,
      "row_span": 10
     }
    }
   },
   "source": [
    "Examine the distribution of the model parameters"
   ]
  },
  {
   "cell_type": "code",
   "execution_count": 34,
   "metadata": {
    "cell_id": "d339c4939ed543fc98af01c365e72a6c",
    "lambdacheck": {
     "layout": {
      "column_offset": 4,
      "column_span": 8
     }
    },
    "scrolled": true
   },
   "outputs": [
    {
     "data": {
      "image/png": "[encoded data removed]",
      "text/plain": [
       "<Figure size 432x288 with 1 Axes>"
      ]
     },
     "metadata": {
      "needs_background": "light"
     },
     "output_type": "display_data"
    }
   ],
   "source": [
    "w = np.concatenate([weight.reshape(-1) for weight in model.get_weights()])\n",
    "(counts0, bins0) = np.histogram(np.abs(w), bins=20)\n",
    "centers0 = (bins0[:-1] + bins0[1:]) / 2\n",
    "pl.bar(centers0, counts0, width=0.01);"
   ]
  },
  {
   "cell_type": "markdown",
   "metadata": {
    "cell_id": "eecd0937b421422a8a12b81c453db89a"
   },
   "source": [
    "# Kernel Regulation"
   ]
  },
  {
   "cell_type": "markdown",
   "metadata": {
    "cell_id": "5fe42b9fd98348a38b288a9755128ee9",
    "lambdacheck": {
     "layout": {
      "column_offset": 0,
      "column_span": 4,
      "row_span": 10
     }
    }
   },
   "source": [
    "Let's rebuild the model, but for each dense layer, specify a loss for its parameters."
   ]
  },
  {
   "cell_type": "code",
   "execution_count": 67,
   "metadata": {
    "cell_id": "4fe5d1a8941040a28e941e8f5b3a8965",
    "lambdacheck": {
     "layout": {
      "column_offset": 4,
      "column_span": 8
     }
    }
   },
   "outputs": [
    {
     "name": "stdout",
     "output_type": "stream",
     "text": [
      "Model: \"sequential_15\"\n",
      "_________________________________________________________________\n",
      "Layer (type)                 Output Shape              Param #   \n",
      "=================================================================\n",
      "reshape_15 (Reshape)         (None, 784)               0         \n",
      "_________________________________________________________________\n",
      "dense_60 (Dense)             (None, 100)               78500     \n",
      "_________________________________________________________________\n",
      "dense_61 (Dense)             (None, 100)               10100     \n",
      "_________________________________________________________________\n",
      "dense_62 (Dense)             (None, 100)               10100     \n",
      "_________________________________________________________________\n",
      "dense_63 (Dense)             (None, 10)                1010      \n",
      "=================================================================\n",
      "Total params: 99,710\n",
      "Trainable params: 99,710\n",
      "Non-trainable params: 0\n",
      "_________________________________________________________________\n"
     ]
    }
   ],
   "source": [
    "import tensorflow.keras.regularizers as regularizers\n",
    "\n",
    "l1 = regularizers.l2(1e-2)\n",
    "\n",
    "model2 = models.Sequential([\n",
    "    layers.Input(shape=(28, 28)),\n",
    "    layers.Reshape((-1,)),\n",
    "    layers.Dense(100, activation='relu', kernel_regularizer=l1),\n",
    "    layers.Dense(100, activation='relu', kernel_regularizer=l1),\n",
    "    layers.Dense(100, activation='relu', kernel_regularizer=l1),\n",
    "    layers.Dense(10, activation='softmax')\n",
    "])\n",
    "\n",
    "model2.compile(\n",
    "    loss=losses.SparseCategoricalCrossentropy(),\n",
    "    optimizer=optimizers.Adam(),\n",
    "    metrics=['acc']\n",
    ")\n",
    "\n",
    "model2.summary()"
   ]
  },
  {
   "cell_type": "markdown",
   "metadata": {
    "cell_id": "25853adb04e54c5c9bc429331be1064e"
   },
   "source": [
    "# Training of regularized model"
   ]
  },
  {
   "cell_type": "markdown",
   "metadata": {
    "cell_id": "135fcefb7a64460a881c7e7e6f4e10d8",
    "lambdacheck": {
     "layout": {
      "column_offset": 0,
      "column_span": 4,
      "row_span": 10
     }
    }
   },
   "source": [
    "Initialize the model with the same initial weights as before."
   ]
  },
  {
   "cell_type": "code",
   "execution_count": 68,
   "metadata": {
    "cell_id": "5e8ff7bee673430f8d8084b6ce96923c",
    "lambdacheck": {
     "layout": {
      "column_offset": 4,
      "column_span": 8
     }
    }
   },
   "outputs": [
    {
     "name": "stdout",
     "output_type": "stream",
     "text": [
      "Epoch 1/20\n",
      "3/3 - 1s - loss: 6.0117 - acc: 0.1500 - val_loss: 5.7753 - val_acc: 0.3000\n",
      "Epoch 2/20\n",
      "3/3 - 0s - loss: 5.6674 - acc: 0.3375 - val_loss: 5.5319 - val_acc: 0.2500\n",
      "Epoch 3/20\n",
      "3/3 - 0s - loss: 5.3612 - acc: 0.4625 - val_loss: 5.2984 - val_acc: 0.3000\n",
      "Epoch 4/20\n",
      "3/3 - 0s - loss: 5.0613 - acc: 0.6125 - val_loss: 5.0413 - val_acc: 0.3000\n",
      "Epoch 5/20\n",
      "3/3 - 0s - loss: 4.7505 - acc: 0.6625 - val_loss: 4.7765 - val_acc: 0.4000\n",
      "Epoch 6/20\n",
      "3/3 - 0s - loss: 4.4287 - acc: 0.7625 - val_loss: 4.5357 - val_acc: 0.5000\n",
      "Epoch 7/20\n",
      "3/3 - 0s - loss: 4.1042 - acc: 0.8250 - val_loss: 4.2695 - val_acc: 0.5000\n",
      "Epoch 8/20\n",
      "3/3 - 0s - loss: 3.7782 - acc: 0.9125 - val_loss: 4.0493 - val_acc: 0.7000\n",
      "Epoch 9/20\n",
      "3/3 - 0s - loss: 3.4833 - acc: 0.9500 - val_loss: 3.8565 - val_acc: 0.6500\n",
      "Epoch 10/20\n",
      "3/3 - 0s - loss: 3.2044 - acc: 0.9750 - val_loss: 3.6370 - val_acc: 0.6500\n",
      "Epoch 11/20\n",
      "3/3 - 0s - loss: 2.9539 - acc: 0.9625 - val_loss: 3.5098 - val_acc: 0.7000\n",
      "Epoch 12/20\n",
      "3/3 - 0s - loss: 2.7625 - acc: 0.9375 - val_loss: 3.4639 - val_acc: 0.7000\n",
      "Epoch 13/20\n",
      "3/3 - 0s - loss: 2.5801 - acc: 0.9625 - val_loss: 3.3445 - val_acc: 0.6500\n",
      "Epoch 14/20\n",
      "3/3 - 0s - loss: 2.4481 - acc: 0.9750 - val_loss: 3.2331 - val_acc: 0.7000\n",
      "Epoch 15/20\n",
      "3/3 - 0s - loss: 2.3164 - acc: 0.9750 - val_loss: 3.2183 - val_acc: 0.5500\n",
      "Epoch 16/20\n",
      "3/3 - 0s - loss: 2.2144 - acc: 0.9750 - val_loss: 3.2032 - val_acc: 0.6000\n",
      "Epoch 17/20\n",
      "3/3 - 0s - loss: 2.1183 - acc: 0.9875 - val_loss: 3.1425 - val_acc: 0.6500\n",
      "Epoch 18/20\n",
      "3/3 - 0s - loss: 2.0354 - acc: 1.0000 - val_loss: 3.0824 - val_acc: 0.7000\n",
      "Epoch 19/20\n",
      "3/3 - 0s - loss: 1.9657 - acc: 1.0000 - val_loss: 3.0037 - val_acc: 0.6500\n",
      "Epoch 20/20\n",
      "3/3 - 0s - loss: 1.8948 - acc: 1.0000 - val_loss: 2.9405 - val_acc: 0.6000\n"
     ]
    }
   ],
   "source": [
    "model2.load_weights('./model_weights_init.h5')\n",
    "log = model2.fit(x_train, y_train, validation_split=0.2, epochs=20, verbose=2)"
   ]
  },
  {
   "cell_type": "markdown",
   "metadata": {
    "cell_id": "037d768cd50c4d55a609e5aa4b351404",
    "lambdacheck": {
     "layout": {
      "column_offset": 0,
      "column_span": 4,
      "row_span": 10
     }
    }
   },
   "source": [
    "Performance of the regularized model"
   ]
  },
  {
   "cell_type": "code",
   "execution_count": 69,
   "metadata": {
    "cell_id": "a07a04dd3fd446c1a44c537f2ca4fd5f",
    "lambdacheck": {
     "layout": {
      "column_offset": 4,
      "column_span": 8
     }
    }
   },
   "outputs": [
    {
     "data": {
      "image/png": "[encoded data removed]",
      "text/plain": [
       "<Figure size 432x288 with 1 Axes>"
      ]
     },
     "metadata": {
      "needs_background": "light"
     },
     "output_type": "display_data"
    }
   ],
   "source": [
    "pl.plot(log.history['acc'])\n",
    "pl.plot(log.history['val_acc'], '--');"
   ]
  },
  {
   "cell_type": "markdown",
   "metadata": {
    "cell_id": "842d17c753914204b3c8351e24a0dca4",
    "lambdacheck": {
     "layout": {
      "column_offset": 0,
      "column_span": 4,
      "row_span": 10
     }
    }
   },
   "source": [
    "Model parameter distribution"
   ]
  },
  {
   "cell_type": "code",
   "execution_count": 71,
   "metadata": {
    "cell_id": "4fd838f7119249818f5e4bee411bedab",
    "lambdacheck": {
     "layout": {
      "column_offset": 4,
      "column_span": 8
     }
    }
   },
   "outputs": [
    {
     "data": {
      "text/plain": [
       "[<matplotlib.lines.Line2D at 0x7fdaf0757d30>]"
      ]
     },
     "execution_count": 71,
     "metadata": {},
     "output_type": "execute_result"
    },
    {
     "data": {
      "image/png": "[encoded data removed]",
      "text/plain": [
       "<Figure size 432x288 with 1 Axes>"
      ]
     },
     "metadata": {
      "needs_background": "light"
     },
     "output_type": "display_data"
    }
   ],
   "source": [
    "w = np.concatenate([weight.reshape(-1) for weight in model2.get_weights()])\n",
    "(counts1, bins1) = np.histogram(np.abs(w), bins=20)\n",
    "centers1 = (bins1[:-1] + bins1[1:]) / 2\n",
    "pl.bar(centers1, counts1, width=0.01);\n",
    "pl.plot(centers0, counts0, '--')"
   ]
  },
  {
   "cell_type": "markdown",
   "metadata": {
    "cell_id": "17c195de0ea647d48228debe83b7c34c"
   },
   "source": [
    "# Model with Dropout layer"
   ]
  },
  {
   "cell_type": "markdown",
   "metadata": {
    "cell_id": "c38d84e9bae04124874ebfb19025de91",
    "lambdacheck": {
     "layout": {
      "column_offset": 0,
      "column_span": 4,
      "row_span": 10
     }
    }
   },
   "source": [
    "Build a model with dropout layers interleaved between dense layers."
   ]
  },
  {
   "cell_type": "code",
   "execution_count": 72,
   "metadata": {
    "cell_id": "dc65d29fdcb3444085c8fc7e62a8dbeb",
    "lambdacheck": {
     "layout": {
      "column_offset": 4,
      "column_span": 8
     }
    },
    "scrolled": true
   },
   "outputs": [
    {
     "name": "stdout",
     "output_type": "stream",
     "text": [
      "Model: \"sequential_16\"\n",
      "_________________________________________________________________\n",
      "Layer (type)                 Output Shape              Param #   \n",
      "=================================================================\n",
      "reshape_16 (Reshape)         (None, 784)               0         \n",
      "_________________________________________________________________\n",
      "dense_64 (Dense)             (None, 100)               78500     \n",
      "_________________________________________________________________\n",
      "dropout (Dropout)            (None, 100)               0         \n",
      "_________________________________________________________________\n",
      "dense_65 (Dense)             (None, 100)               10100     \n",
      "_________________________________________________________________\n",
      "dropout_1 (Dropout)          (None, 100)               0         \n",
      "_________________________________________________________________\n",
      "dense_66 (Dense)             (None, 100)               10100     \n",
      "_________________________________________________________________\n",
      "dropout_2 (Dropout)          (None, 100)               0         \n",
      "_________________________________________________________________\n",
      "dense_67 (Dense)             (None, 10)                1010      \n",
      "=================================================================\n",
      "Total params: 99,710\n",
      "Trainable params: 99,710\n",
      "Non-trainable params: 0\n",
      "_________________________________________________________________\n"
     ]
    }
   ],
   "source": [
    "model3 = models.Sequential([\n",
    "    layers.Input(shape=(28, 28)),\n",
    "    layers.Reshape((-1,)),\n",
    "    layers.Dense(100, activation='relu'),\n",
    "    layers.Dropout(0.3),\n",
    "    layers.Dense(100, activation='relu'),\n",
    "    layers.Dropout(0.3),\n",
    "    layers.Dense(100, activation='relu'),\n",
    "    layers.Dropout(0.2),\n",
    "    layers.Dense(10, activation='softmax')\n",
    "])\n",
    "\n",
    "model3.save_weights('m3_weights_init.h5')\n",
    "\n",
    "model3.compile(\n",
    "    loss=losses.SparseCategoricalCrossentropy(),\n",
    "    optimizer=optimizers.Adam(),\n",
    "    metrics=['acc'],\n",
    ")\n",
    "\n",
    "model3.summary()"
   ]
  },
  {
   "cell_type": "code",
   "execution_count": 74,
   "metadata": {
    "cell_id": "db011ca523944e3688587506d212dde4"
   },
   "outputs": [
    {
     "name": "stdout",
     "output_type": "stream",
     "text": [
      "Epoch 1/20\n",
      "3/3 [==============================] - 1s 117ms/step - loss: 2.3626 - acc: 0.0547 - val_loss: 2.2149 - val_acc: 0.2000\n",
      "Epoch 2/20\n",
      "3/3 [==============================] - 0s 23ms/step - loss: 2.2609 - acc: 0.1117 - val_loss: 2.2015 - val_acc: 0.3000\n",
      "Epoch 3/20\n",
      "3/3 [==============================] - 0s 23ms/step - loss: 2.2445 - acc: 0.1531 - val_loss: 2.1724 - val_acc: 0.4000\n",
      "Epoch 4/20\n",
      "3/3 [==============================] - 0s 22ms/step - loss: 2.1294 - acc: 0.1812 - val_loss: 2.1233 - val_acc: 0.4000\n",
      "Epoch 5/20\n",
      "3/3 [==============================] - 0s 23ms/step - loss: 2.1071 - acc: 0.2406 - val_loss: 2.0800 - val_acc: 0.4000\n",
      "Epoch 6/20\n",
      "3/3 [==============================] - 0s 22ms/step - loss: 2.0265 - acc: 0.3867 - val_loss: 2.0258 - val_acc: 0.5000\n",
      "Epoch 7/20\n",
      "3/3 [==============================] - 0s 23ms/step - loss: 2.0066 - acc: 0.3797 - val_loss: 1.9551 - val_acc: 0.5500\n",
      "Epoch 8/20\n",
      "3/3 [==============================] - 0s 23ms/step - loss: 1.8425 - acc: 0.5164 - val_loss: 1.8696 - val_acc: 0.6000\n",
      "Epoch 9/20\n",
      "3/3 [==============================] - 0s 23ms/step - loss: 1.8445 - acc: 0.4461 - val_loss: 1.7842 - val_acc: 0.6500\n",
      "Epoch 10/20\n",
      "3/3 [==============================] - 0s 24ms/step - loss: 1.6747 - acc: 0.4938 - val_loss: 1.7023 - val_acc: 0.6000\n",
      "Epoch 11/20\n",
      "3/3 [==============================] - 0s 23ms/step - loss: 1.7275 - acc: 0.4680 - val_loss: 1.6334 - val_acc: 0.5500\n",
      "Epoch 12/20\n",
      "3/3 [==============================] - 0s 24ms/step - loss: 1.4849 - acc: 0.5641 - val_loss: 1.5765 - val_acc: 0.5000\n",
      "Epoch 13/20\n",
      "3/3 [==============================] - 0s 24ms/step - loss: 1.3994 - acc: 0.6273 - val_loss: 1.5130 - val_acc: 0.6000\n",
      "Epoch 14/20\n",
      "3/3 [==============================] - 0s 24ms/step - loss: 1.2565 - acc: 0.6930 - val_loss: 1.4328 - val_acc: 0.6000\n",
      "Epoch 15/20\n",
      "3/3 [==============================] - 0s 28ms/step - loss: 1.1806 - acc: 0.6594 - val_loss: 1.3601 - val_acc: 0.5500\n",
      "Epoch 16/20\n",
      "3/3 [==============================] - 0s 23ms/step - loss: 1.1362 - acc: 0.6750 - val_loss: 1.2964 - val_acc: 0.5000\n",
      "Epoch 17/20\n",
      "3/3 [==============================] - 0s 23ms/step - loss: 1.0278 - acc: 0.7031 - val_loss: 1.2223 - val_acc: 0.5500\n",
      "Epoch 18/20\n",
      "3/3 [==============================] - 0s 23ms/step - loss: 0.9603 - acc: 0.7828 - val_loss: 1.1782 - val_acc: 0.6000\n",
      "Epoch 19/20\n",
      "3/3 [==============================] - 0s 23ms/step - loss: 0.9574 - acc: 0.6922 - val_loss: 1.1735 - val_acc: 0.6000\n",
      "Epoch 20/20\n",
      "3/3 [==============================] - 0s 23ms/step - loss: 0.7120 - acc: 0.8242 - val_loss: 1.1808 - val_acc: 0.6000\n"
     ]
    }
   ],
   "source": [
    "model3.load_weights('./m3_weights_init.h5')\n",
    "log = model3.fit(x_train, y_train, validation_split=0.2, epochs=20)"
   ]
  },
  {
   "cell_type": "markdown",
   "metadata": {
    "cell_id": "5e1b0c771e98458e9e3b9cdd3b3a2f71",
    "lambdacheck": {
     "layout": {
      "column_offset": 0,
      "column_span": 4,
      "row_span": 10
     }
    }
   },
   "source": [
    "Training accuracy vs validation accuracy of the dropout layered model."
   ]
  },
  {
   "cell_type": "code",
   "execution_count": 75,
   "metadata": {
    "cell_id": "d4d32dd315004879ac876bfd4b562895",
    "lambdacheck": {
     "layout": {
      "column_offset": 4,
      "column_span": 8
     }
    }
   },
   "outputs": [
    {
     "data": {
      "image/png": "[encoded data removed]",
      "text/plain": [
       "<Figure size 432x288 with 1 Axes>"
      ]
     },
     "metadata": {
      "needs_background": "light"
     },
     "output_type": "display_data"
    }
   ],
   "source": [
    "pl.plot(log.history['acc'])\n",
    "pl.plot(log.history['val_acc'], '--');"
   ]
  },
  {
   "cell_type": "code",
   "execution_count": null,
   "metadata": {
    "cell_id": "1afbcfb94ad244a381112707a6993334"
   },
   "outputs": [],
   "source": []
  }
 ],
 "metadata": {
  "celltoolbar": "λ.check",
  "kernelspec": {
   "display_name": "Python 3",
   "language": "python",
   "name": "python3"
  },
  "language_info": {
   "codemirror_mode": {
    "name": "ipython",
    "version": 3
   },
   "file_extension": ".py",
   "mimetype": "text/x-python",
   "name": "python",
   "nbconvert_exporter": "python",
   "pygments_lexer": "ipython3",
   "version": "3.8.6"
  }
 },
 "nbformat": 4,
 "nbformat_minor": 4
}
