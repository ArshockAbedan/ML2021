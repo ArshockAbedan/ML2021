{
 "cells": [
  {
   "cell_type": "markdown",
   "metadata": {
    "cell_id": "a29bcc0461f64a27819f3dfdda498235"
   },
   "source": [
    "# Binary Classification"
   ]
  },
  {
   "cell_type": "code",
   "execution_count": 1,
   "metadata": {
    "cell_id": "bf0067847d164b638802d7bc0ddd43a4"
   },
   "outputs": [],
   "source": [
    "import numpy as np\n",
    "import matplotlib.pyplot as pl"
   ]
  },
  {
   "cell_type": "markdown",
   "metadata": {
    "cell_id": "b0c5033a47814fcc8cc4f878b1391aba",
    "lambdacheck": {
     "layout": {
      "column_offset": 0,
      "column_span": 5,
      "row_span": 10
     }
    }
   },
   "source": [
    "Let's first load the data."
   ]
  },
  {
   "cell_type": "code",
   "execution_count": 5,
   "metadata": {
    "cell_id": "63fc79c785ed46c682b024b15bd8da26",
    "lambdacheck": {
     "layout": {
      "column_offset": 5,
      "column_span": 7
     }
    }
   },
   "outputs": [
    {
     "data": {
      "text/plain": [
       "(2000, 3)"
      ]
     },
     "execution_count": 5,
     "metadata": {},
     "output_type": "execute_result"
    }
   ],
   "source": [
    "data = np.loadtxt('./linear_classifier_data.csv',\n",
    "                  skiprows=1,\n",
    "                  delimiter=',')\n",
    "data.shape"
   ]
  },
  {
   "cell_type": "code",
   "execution_count": 10,
   "metadata": {
    "cell_id": "63fc79c785ed46c682b024b15bd8da26",
    "lambdacheck": {
     "layout": {
      "column_offset": 5,
      "column_span": 7
     }
    },
    "scrolled": true
   },
   "outputs": [
    {
     "data": {
      "text/plain": [
       "array([[ 0.4291984 , -1.98025428,  0.        ],\n",
       "       [-3.70546459, -0.04070956,  0.        ],\n",
       "       [ 0.65227934, -2.15956766,  0.        ],\n",
       "       [ 1.63746779, -2.01275478,  0.        ],\n",
       "       [-3.29335312, -2.1889127 ,  0.        ],\n",
       "       [-3.77969312, -2.00176297,  0.        ],\n",
       "       [-0.84447729, -1.91399425,  0.        ],\n",
       "       [-0.16021555, -2.0953902 ,  0.        ],\n",
       "       [ 1.63611407, -3.20718777,  0.        ],\n",
       "       [-4.7960448 , -1.77935421,  0.        ]])"
      ]
     },
     "execution_count": 10,
     "metadata": {},
     "output_type": "execute_result"
    }
   ],
   "source": [
    "data[0:10,:]"
   ]
  },
  {
   "cell_type": "code",
   "execution_count": 13,
   "metadata": {
    "cell_id": "63fc79c785ed46c682b024b15bd8da26",
    "lambdacheck": {
     "layout": {
      "column_offset": 5,
      "column_span": 7
     }
    },
    "scrolled": false
   },
   "outputs": [
    {
     "data": {
      "image/png": "[encoded data removed]",
      "text/plain": [
       "<Figure size 432x288 with 1 Axes>"
      ]
     },
     "metadata": {
      "needs_background": "light"
     },
     "output_type": "display_data"
    }
   ],
   "source": [
    "# Plot the two classes\n",
    "\n",
    "x_data = data[:, :2]\n",
    "y_data = data[:, -1]\n",
    "\n",
    "I0 = y_data == 0\n",
    "I1 = y_data == 1\n",
    "\n",
    "pl.plot(x_data[I0,0], x_data[I0, 1], '.', color='red')\n",
    "pl.plot(x_data[I1,0], x_data[I1, 1], '.', color='blue');\n"
   ]
  },
  {
   "cell_type": "markdown",
   "metadata": {
    "cell_id": "d304e380a6d443429d7c68d4a39a24be",
    "lambdacheck": {
     "layout": {
      "column_offset": 0,
      "column_span": 5,
      "row_span": 10
     }
    }
   },
   "source": [
    "Define the necessary functions:\n",
    "\n",
    "- sigmoid function: `sigmoid`\n",
    "\n",
    "- the model: `f`"
   ]
  },
  {
   "cell_type": "code",
   "execution_count": 14,
   "metadata": {
    "cell_id": "70a9f46d1d0e423781127720ed41fd91",
    "lambdacheck": {
     "layout": {
      "column_offset": 5,
      "column_span": 7
     }
    }
   },
   "outputs": [],
   "source": [
    "def sigmoid(x):\n",
    "    return 1/(1 + np.exp(-x))"
   ]
  },
  {
   "cell_type": "code",
   "execution_count": 15,
   "metadata": {
    "cell_id": "70a9f46d1d0e423781127720ed41fd91",
    "lambdacheck": {
     "layout": {
      "column_offset": 5,
      "column_span": 7
     }
    }
   },
   "outputs": [],
   "source": [
    "def f(x, w, b):\n",
    "    return sigmoid(x @ w + b)"
   ]
  },
  {
   "cell_type": "markdown",
   "metadata": {
    "cell_id": "11dd4a5f1dbb41b78950148773515be8",
    "lambdacheck": {
     "layout": {
      "column_offset": 0,
      "column_span": 5,
      "row_span": 10
     }
    }
   },
   "source": [
    "We can use `f` to perform classification.\n",
    "\n",
    "- Assume some (bad choice) of $(w, b)$.\n",
    "\n",
    "- Let $z = f(x, w, b)$, and classify the input $x$ according to the rules:\n",
    "\n",
    "    1. if $z < 0.5$, then $y = 0$.\n",
    "    2. if $z \\geq 0.5$, then $y = 1$."
   ]
  },
  {
   "cell_type": "code",
   "execution_count": 16,
   "metadata": {
    "cell_id": "27f7a0dda41d4dab9796678ad7fde6f5",
    "lambdacheck": {
     "layout": {
      "column_offset": 5,
      "column_span": 7
     }
    }
   },
   "outputs": [],
   "source": [
    "# Purely randomly arbitrary choices of w, b\n",
    "\n",
    "w = np.array([1, 1])\n",
    "b = 3.0\n",
    "\n",
    "z = f(x_data, w, b)"
   ]
  },
  {
   "cell_type": "code",
   "execution_count": 17,
   "metadata": {
    "cell_id": "407d7052cba0438eabd505642cb586c8",
    "lambdacheck": {
     "layout": {
      "column_offset": 5,
      "column_span": 7
     }
    }
   },
   "outputs": [],
   "source": [
    "# convert z to y_pred\n",
    "n = 2000\n",
    "y_pred = np.zeros(n)\n",
    "y_pred[z >= 0.5] = 1"
   ]
  },
  {
   "cell_type": "code",
   "execution_count": 20,
   "metadata": {
    "cell_id": "407d7052cba0438eabd505642cb586c8",
    "lambdacheck": {
     "layout": {
      "column_offset": 5,
      "column_span": 7
     }
    }
   },
   "outputs": [
    {
     "data": {
      "text/plain": [
       "0.1535"
      ]
     },
     "execution_count": 20,
     "metadata": {},
     "output_type": "execute_result"
    }
   ],
   "source": [
    "np.sum(y_data != y_pred) / n"
   ]
  },
  {
   "cell_type": "markdown",
   "metadata": {
    "cell_id": "1d3c5d4434e84733aa3f450b3e645d86",
    "lambdacheck": {
     "layout": {
      "column_offset": 0,
      "column_span": 5,
      "row_span": 10
     }
    }
   },
   "source": [
    "**Visualization**\n",
    "\n",
    "Plotting the classification of this randomly obtained classifier."
   ]
  },
  {
   "cell_type": "code",
   "execution_count": 21,
   "metadata": {
    "cell_id": "8b398549723b427cab0fc00430020d9f",
    "lambdacheck": {
     "layout": {
      "column_offset": 5,
      "column_span": 7
     }
    },
    "scrolled": false
   },
   "outputs": [
    {
     "data": {
      "image/png": "[encoded data removed]",
      "text/plain": [
       "<Figure size 432x288 with 1 Axes>"
      ]
     },
     "metadata": {
      "needs_background": "light"
     },
     "output_type": "display_data"
    }
   ],
   "source": [
    "I0 = z < 0.5\n",
    "I1 = z >= 0.5\n",
    "\n",
    "pl.plot(x_data[I0, 0], x_data[I0, 1], '.', color='red')\n",
    "pl.plot(x_data[I1, 0], x_data[I1, 1], '.', color='blue');"
   ]
  },
  {
   "cell_type": "markdown",
   "metadata": {
    "cell_id": "d3bae58cf86e4514ba0ab3b76159b34a"
   },
   "source": [
    "# Loss function"
   ]
  },
  {
   "cell_type": "markdown",
   "metadata": {
    "cell_id": "73845282c6bf481fb4181c7f7628a29a",
    "lambdacheck": {
     "layout": {
      "column_offset": 0,
      "column_span": 5,
      "row_span": 10
     }
    }
   },
   "source": [
    "The loss function is the _binary cross entropy_ between\n",
    "the output $z$ and the true outputs `y_data`."
   ]
  },
  {
   "cell_type": "code",
   "execution_count": 22,
   "metadata": {
    "cell_id": "69dc6a8fb50d49848f13bfe1c1b387b0",
    "lambdacheck": {
     "layout": {
      "column_offset": 5,
      "column_span": 7
     }
    }
   },
   "outputs": [],
   "source": [
    "def loss(w, b):\n",
    "    z = f(x_data, w, b)\n",
    "    L = -(y_data * np.log(z) + (1-y_data)*np.log(1-z))\n",
    "    return np.sum(L)"
   ]
  },
  {
   "cell_type": "code",
   "execution_count": 23,
   "metadata": {
    "cell_id": "69dc6a8fb50d49848f13bfe1c1b387b0",
    "lambdacheck": {
     "layout": {
      "column_offset": 5,
      "column_span": 7
     }
    }
   },
   "outputs": [
    {
     "data": {
      "text/plain": [
       "657.8172881473456"
      ]
     },
     "execution_count": 23,
     "metadata": {},
     "output_type": "execute_result"
    }
   ],
   "source": [
    "loss(w, b)"
   ]
  },
  {
   "cell_type": "markdown",
   "metadata": {
    "cell_id": "ebf7c5d588ad4cd0bdcd285c8e0d070f",
    "lambdacheck": {
     "layout": {
      "column_offset": 0,
      "column_span": 5,
      "row_span": 10
     }
    }
   },
   "source": [
    "The gradient of the loss function:\n",
    "\n",
    "- $\\partial L/\\partial w_i$ for $i=1,2$.\n",
    "- $\\partial L/\\partial b$"
   ]
  },
  {
   "cell_type": "code",
   "execution_count": 24,
   "metadata": {
    "cell_id": "1afaf08c5e784a4fb52528690b6fc9ba",
    "lambdacheck": {
     "layout": {
      "column_offset": 5,
      "column_span": 7
     }
    }
   },
   "outputs": [],
   "source": [
    "def loss_grad(w, b):\n",
    "    z = f(x_data, w, b)\n",
    "    grad_w = x_data.T @ (z - y_data)\n",
    "    grad_b = np.sum(z-y_data)\n",
    "    return grad_w, grad_b"
   ]
  },
  {
   "cell_type": "markdown",
   "metadata": {
    "cell_id": "f91b0f9dda24451388cf5349e5de6036"
   },
   "source": [
    "# Gradient Descent For Training"
   ]
  },
  {
   "cell_type": "markdown",
   "metadata": {
    "cell_id": "c88bd47d4d2d41c783f8af05c0378dfb",
    "lambdacheck": {
     "layout": {
      "column_offset": 0,
      "column_span": 5,
      "row_span": 10
     }
    }
   },
   "source": [
    "Implement the training loop"
   ]
  },
  {
   "cell_type": "code",
   "execution_count": 29,
   "metadata": {
    "cell_id": "c39f91538222472b9fd3e96a5645d9dc",
    "lambdacheck": {
     "layout": {
      "column_offset": 5,
      "column_span": 7
     }
    }
   },
   "outputs": [],
   "source": [
    "def train(w0, b0, alpha, epochs):\n",
    "    w = np.array(w0, dtype=float)\n",
    "    b = b0\n",
    "    for i in range(epochs):\n",
    "        w_grad, b_grad = loss_grad(w, b)\n",
    "        w -= alpha * w_grad\n",
    "        b -= alpha * b_grad\n",
    "        L = loss(w, b)\n",
    "        if (i % (epochs//10)) == 0:\n",
    "            print(L)\n",
    "    return w, b"
   ]
  },
  {
   "cell_type": "markdown",
   "metadata": {
    "cell_id": "fbbf64ad240e46bd8f8cec5e96f355bd",
    "lambdacheck": {
     "layout": {
      "column_offset": 0,
      "column_span": 5,
      "row_span": 10
     }
    }
   },
   "source": [
    "Train the model using `x_data` and `y_data`."
   ]
  },
  {
   "cell_type": "code",
   "execution_count": 33,
   "metadata": {
    "cell_id": "aa42c927676143fb87f2398e984d4351",
    "lambdacheck": {
     "layout": {
      "column_offset": 5,
      "column_span": 7
     }
    }
   },
   "outputs": [
    {
     "name": "stdout",
     "output_type": "stream",
     "text": [
      "651.6292627208088\n",
      "75.01786497105272\n",
      "46.89405722765157\n",
      "36.34232834585635\n",
      "30.8145205224181\n",
      "27.440643640318484\n",
      "25.189528431650338\n",
      "23.59654636701984\n",
      "22.420894583595874\n",
      "21.525213191077068\n"
     ]
    }
   ],
   "source": [
    "w, b = train([1, 1], 3, 1e-5, 10000)"
   ]
  },
  {
   "cell_type": "markdown",
   "metadata": {
    "cell_id": "3e345aaa196e4ef79457976ffae1253d",
    "lambdacheck": {
     "layout": {
      "column_offset": 0,
      "column_span": 5,
      "row_span": 10
     }
    }
   },
   "source": [
    "Use the parameters from the training."
   ]
  },
  {
   "cell_type": "code",
   "execution_count": 34,
   "metadata": {
    "cell_id": "2cd56ca367794e0383f5a94d84070963",
    "lambdacheck": {
     "layout": {
      "column_offset": 5,
      "column_span": 7
     }
    }
   },
   "outputs": [
    {
     "data": {
      "image/png": "[encoded data removed]",
      "text/plain": [
       "<Figure size 432x288 with 1 Axes>"
      ]
     },
     "metadata": {
      "needs_background": "light"
     },
     "output_type": "display_data"
    }
   ],
   "source": [
    "z = f(x_data, w, b)\n",
    "I0 = z < 0.5\n",
    "I1 = z >= 0.5\n",
    "\n",
    "pl.plot(x_data[I0, 0], x_data[I0, 1], '.', color='red')\n",
    "pl.plot(x_data[I1, 0], x_data[I1, 1], '.', color='blue');"
   ]
  },
  {
   "cell_type": "markdown",
   "metadata": {
    "cell_id": "0b8905f88c4844088eb0ed22ea69c588",
    "lambdacheck": {
     "layout": {
      "column_offset": 0,
      "column_span": 12,
      "row_span": 10
     }
    }
   },
   "source": [
    "# Visualization of the separation boundary\n",
    "\n",
    "Let's look at the separation boundary used by\n",
    "the classifier."
   ]
  },
  {
   "cell_type": "markdown",
   "metadata": {
    "cell_id": "bd7bd9e1613243fe8a84c72ccb6e70cc",
    "lambdacheck": {
     "layout": {
      "column_offset": 0,
      "column_span": 5,
      "row_span": 10
     }
    }
   },
   "source": [
    "Steps to take:\n",
    "\n",
    "1. Generate a 2D meshgrid: $100\\times 100$ points.\n",
    "\n",
    "\n",
    "2. For each of the $10,000$ points, we will compute the\n",
    "`z` value based on the model.\n",
    "\n",
    "\n",
    "3. Plot the contour of `z` w.r.t. to the meshgrid."
   ]
  },
  {
   "cell_type": "code",
   "execution_count": 35,
   "metadata": {
    "cell_id": "ca41c3b97cc944ad8a392691eeb18585",
    "lambdacheck": {
     "layout": {
      "column_offset": 5,
      "column_span": 7
     }
    }
   },
   "outputs": [],
   "source": [
    "# Generate the 2D meshgrid\n",
    "\n",
    "xs = np.linspace(-10, 10, 100)\n",
    "ys = np.linspace(-10, 10, 100)\n",
    "\n",
    "xx, yy = np.meshgrid(xs, ys)"
   ]
  },
  {
   "cell_type": "code",
   "execution_count": 36,
   "metadata": {
    "cell_id": "ca41c3b97cc944ad8a392691eeb18585",
    "lambdacheck": {
     "layout": {
      "column_offset": 5,
      "column_span": 7
     }
    }
   },
   "outputs": [],
   "source": [
    "# Compute the z-values at each grid point.\n",
    "\n",
    "z = np.zeros((100, 100))\n",
    "for i in range(100):\n",
    "    for j in range(100):\n",
    "        x = xx[i][j]\n",
    "        y = yy[i][j]\n",
    "        z[i, j] = f(np.array([x, y]), w, b)"
   ]
  },
  {
   "cell_type": "code",
   "execution_count": 42,
   "metadata": {
    "cell_id": "ca41c3b97cc944ad8a392691eeb18585",
    "lambdacheck": {
     "layout": {
      "column_offset": 5,
      "column_span": 7
     }
    }
   },
   "outputs": [
    {
     "data": {
      "image/png": "[encoded data removed]",
      "text/plain": [
       "<Figure size 432x432 with 1 Axes>"
      ]
     },
     "metadata": {
      "needs_background": "light"
     },
     "output_type": "display_data"
    }
   ],
   "source": [
    "# Plot z as a contour plot\n",
    "\n",
    "pl.figure(figsize=(6,6))\n",
    "pl.contourf(xx, yy, z, levels=[0., 0.5, 1.])\n",
    "\n",
    "z = f(x_data, w, b)\n",
    "I0 = z < 0.5\n",
    "I1 = z >= 0.5\n",
    "\n",
    "pl.plot(x_data[I0, 0], x_data[I0, 1], '.', color='red')\n",
    "pl.plot(x_data[I1, 0], x_data[I1, 1], '.', color='blue');"
   ]
  },
  {
   "cell_type": "code",
   "execution_count": null,
   "metadata": {
    "cell_id": "39334a63185e4d6591b0f66f42cdfda0"
   },
   "outputs": [],
   "source": []
  }
 ],
 "metadata": {
  "celltoolbar": "λ.check",
  "kernelspec": {
   "display_name": "Python 3",
   "language": "python",
   "name": "python3"
  },
  "language_info": {
   "codemirror_mode": {
    "name": "ipython",
    "version": 3
   },
   "file_extension": ".py",
   "mimetype": "text/x-python",
   "name": "python",
   "nbconvert_exporter": "python",
   "pygments_lexer": "ipython3",
   "version": "3.8.5"
  }
 },
 "nbformat": 4,
 "nbformat_minor": 4
}
