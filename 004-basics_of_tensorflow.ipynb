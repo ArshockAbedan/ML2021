{
 "cells": [
  {
   "cell_type": "markdown",
   "metadata": {
    "cell_id": "7801395ca73448f889d871ada4c4817a"
   },
   "source": [
    "# TensorFlow API Basics"
   ]
  },
  {
   "cell_type": "markdown",
   "metadata": {
    "cell_id": "8ff4a95bc57c40ad9ac4794ea2fba52f",
    "lambdacheck": {
     "layout": {
      "column_offset": 0,
      "column_span": 5,
      "row_span": 10
     }
    }
   },
   "source": [
    "Import TensorFlow API library, NumPy"
   ]
  },
  {
   "cell_type": "code",
   "execution_count": 1,
   "metadata": {
    "cell_id": "bd1e5d17bf2040fa87f09614443a79ae",
    "lambdacheck": {
     "layout": {
      "column_offset": 5,
      "column_span": 7
     }
    }
   },
   "outputs": [],
   "source": [
    "import tensorflow as tf\n",
    "import numpy as np"
   ]
  },
  {
   "cell_type": "code",
   "execution_count": 2,
   "metadata": {
    "cell_id": "bd1e5d17bf2040fa87f09614443a79ae",
    "lambdacheck": {
     "layout": {
      "column_offset": 5,
      "column_span": 7
     }
    },
    "scrolled": true
   },
   "outputs": [
    {
     "name": "stdout",
     "output_type": "stream",
     "text": [
      "2.4.0\n"
     ]
    }
   ],
   "source": [
    "print(tf.__version__)"
   ]
  },
  {
   "cell_type": "markdown",
   "metadata": {
    "cell_id": "95fd0e67714143c48be7f9eb842c5058",
    "lambdacheck": {
     "layout": {
      "column_offset": 0,
      "column_span": 5,
      "row_span": 10
     }
    }
   },
   "source": [
    "- TF Constants\n",
    "- TF Variables"
   ]
  },
  {
   "cell_type": "code",
   "execution_count": 4,
   "metadata": {
    "cell_id": "678723428a0f460fa2e5e15f9a63d9d5",
    "lambdacheck": {
     "layout": {
      "column_offset": 5,
      "column_span": 7
     }
    }
   },
   "outputs": [
    {
     "data": {
      "text/plain": [
       "array([1, 2, 3])"
      ]
     },
     "execution_count": 4,
     "metadata": {},
     "output_type": "execute_result"
    }
   ],
   "source": [
    "x_np = np.array([1,2,3])\n",
    "x_np"
   ]
  },
  {
   "cell_type": "code",
   "execution_count": 5,
   "metadata": {
    "cell_id": "678723428a0f460fa2e5e15f9a63d9d5",
    "lambdacheck": {
     "layout": {
      "column_offset": 5,
      "column_span": 7
     }
    }
   },
   "outputs": [
    {
     "data": {
      "text/plain": [
       "<tf.Tensor: shape=(3,), dtype=int16, numpy=array([1, 2, 3], dtype=int16)>"
      ]
     },
     "execution_count": 5,
     "metadata": {},
     "output_type": "execute_result"
    }
   ],
   "source": [
    "# Constructing a constant tensor\n",
    "c_tf = tf.constant(x_np, dtype=tf.int16)\n",
    "c_tf"
   ]
  },
  {
   "cell_type": "code",
   "execution_count": 6,
   "metadata": {
    "cell_id": "678723428a0f460fa2e5e15f9a63d9d5",
    "lambdacheck": {
     "layout": {
      "column_offset": 5,
      "column_span": 7
     }
    }
   },
   "outputs": [
    {
     "data": {
      "text/plain": [
       "<tf.Variable 'Variable:0' shape=(2, 3) dtype=float64, numpy=\n",
       "array([[-0.56890229,  0.17860116, -1.69089287],\n",
       "       [ 1.17218475,  0.40432219, -0.28149195]])>"
      ]
     },
     "execution_count": 6,
     "metadata": {},
     "output_type": "execute_result"
    }
   ],
   "source": [
    "# Construct a variable tensor\n",
    "x_tf = tf.Variable(np.random.randn(2,3), dtype=tf.float64)\n",
    "x_tf"
   ]
  },
  {
   "cell_type": "markdown",
   "metadata": {
    "cell_id": "0c2384d4e19046f798969c6b98745be7",
    "lambdacheck": {
     "layout": {
      "column_offset": 0,
      "column_span": 5,
      "row_span": 10
     }
    }
   },
   "source": [
    "We can convert both back to NumPy"
   ]
  },
  {
   "cell_type": "code",
   "execution_count": 7,
   "metadata": {
    "cell_id": "5f6596bba2aa49a580b4fede3d03a603",
    "lambdacheck": {
     "layout": {
      "column_offset": 5,
      "column_span": 7
     }
    }
   },
   "outputs": [
    {
     "data": {
      "text/plain": [
       "array([1, 2, 3], dtype=int16)"
      ]
     },
     "execution_count": 7,
     "metadata": {},
     "output_type": "execute_result"
    }
   ],
   "source": [
    "c_tf.numpy()"
   ]
  },
  {
   "cell_type": "code",
   "execution_count": 8,
   "metadata": {
    "cell_id": "5f6596bba2aa49a580b4fede3d03a603",
    "lambdacheck": {
     "layout": {
      "column_offset": 5,
      "column_span": 7
     }
    }
   },
   "outputs": [
    {
     "data": {
      "text/plain": [
       "array([[-0.56890229,  0.17860116, -1.69089287],\n",
       "       [ 1.17218475,  0.40432219, -0.28149195]])"
      ]
     },
     "execution_count": 8,
     "metadata": {},
     "output_type": "execute_result"
    }
   ],
   "source": [
    "x_tf.numpy()"
   ]
  },
  {
   "cell_type": "code",
   "execution_count": 9,
   "metadata": {
    "cell_id": "5f6596bba2aa49a580b4fede3d03a603",
    "lambdacheck": {
     "layout": {
      "column_offset": 5,
      "column_span": 7
     }
    }
   },
   "outputs": [
    {
     "data": {
      "text/plain": [
       "<tf.Variable 'Variable:0' shape=(2, 3) dtype=float64, numpy=\n",
       "array([[-0.56890229,  0.17860116, -1.69089287],\n",
       "       [ 1.17218475,  0.40432219, -0.28149195]])>"
      ]
     },
     "execution_count": 9,
     "metadata": {},
     "output_type": "execute_result"
    }
   ],
   "source": [
    "x_tf"
   ]
  },
  {
   "cell_type": "markdown",
   "metadata": {
    "cell_id": "5804b57dbd8f4eed8168e6bbd4cc17d3",
    "lambdacheck": {
     "layout": {
      "column_offset": 0,
      "column_span": 5,
      "row_span": 10
     }
    }
   },
   "source": [
    "TF reimplements most of NumPy API.\n",
    "\n",
    "Be careful:\n",
    "\n",
    "1. Some functions are renamed.\n",
    "\n",
    "2. TF API are really picky about data types."
   ]
  },
  {
   "cell_type": "code",
   "execution_count": 13,
   "metadata": {
    "cell_id": "de3479679e88404f93d34d482b0f486c",
    "lambdacheck": {
     "layout": {
      "column_offset": 5,
      "column_span": 7
     }
    }
   },
   "outputs": [
    {
     "data": {
      "text/plain": [
       "array([[1, 1, 1],\n",
       "       [2, 2, 2],\n",
       "       [3, 3, 3]])"
      ]
     },
     "execution_count": 13,
     "metadata": {},
     "output_type": "execute_result"
    }
   ],
   "source": [
    "np.repeat(np.reshape(x_np, (3,1)), 3, axis=1)"
   ]
  },
  {
   "cell_type": "code",
   "execution_count": 16,
   "metadata": {
    "cell_id": "de3479679e88404f93d34d482b0f486c",
    "lambdacheck": {
     "layout": {
      "column_offset": 5,
      "column_span": 7
     }
    }
   },
   "outputs": [
    {
     "data": {
      "text/plain": [
       "<tf.Tensor: shape=(3, 3), dtype=int16, numpy=\n",
       "array([[1, 1, 1],\n",
       "       [2, 2, 2],\n",
       "       [3, 3, 3]], dtype=int16)>"
      ]
     },
     "execution_count": 16,
     "metadata": {},
     "output_type": "execute_result"
    }
   ],
   "source": [
    "tf.repeat(tf.reshape(c_tf, (3,1)), 3, axis=1)"
   ]
  },
  {
   "cell_type": "code",
   "execution_count": 19,
   "metadata": {
    "cell_id": "de3479679e88404f93d34d482b0f486c",
    "lambdacheck": {
     "layout": {
      "column_offset": 5,
      "column_span": 7
     }
    }
   },
   "outputs": [
    {
     "data": {
      "text/plain": [
       "array([[0.43109771, 2.17860116, 1.30910713],\n",
       "       [2.17218475, 2.40432219, 2.71850805]])"
      ]
     },
     "execution_count": 19,
     "metadata": {},
     "output_type": "execute_result"
    }
   ],
   "source": [
    "# Perform NumPy addition between c_tf.numpy() + x_tf.numpy()\n",
    "x_tf.numpy() + c_tf.numpy()"
   ]
  },
  {
   "cell_type": "code",
   "execution_count": 21,
   "metadata": {
    "cell_id": "de3479679e88404f93d34d482b0f486c",
    "lambdacheck": {
     "layout": {
      "column_offset": 5,
      "column_span": 7
     }
    }
   },
   "outputs": [
    {
     "name": "stdout",
     "output_type": "stream",
     "text": [
      "cannot compute AddV2 as input #1(zero-based) was expected to be a double tensor but is a int16 tensor [Op:AddV2]\n"
     ]
    }
   ],
   "source": [
    "# Perform NumPy addition between c_tf.numpy() + x_tf.numpy()\n",
    "try:\n",
    "    x_tf + c_tf\n",
    "except Exception as e:\n",
    "    print(e)"
   ]
  },
  {
   "cell_type": "code",
   "execution_count": 23,
   "metadata": {
    "cell_id": "de3479679e88404f93d34d482b0f486c",
    "lambdacheck": {
     "layout": {
      "column_offset": 5,
      "column_span": 7
     }
    }
   },
   "outputs": [
    {
     "name": "stdout",
     "output_type": "stream",
     "text": [
      "tf.Tensor(\n",
      "[[0.43109771 2.17860116 1.30910713]\n",
      " [2.17218475 2.40432219 2.71850805]], shape=(2, 3), dtype=float64)\n"
     ]
    }
   ],
   "source": [
    "# Perform NumPy addition between c_tf.numpy() + x_tf.numpy()\n",
    "try:\n",
    "    print(x_tf + tf.cast(c_tf, tf.float64))\n",
    "except Exception as e:\n",
    "    print(e)"
   ]
  },
  {
   "cell_type": "markdown",
   "metadata": {
    "cell_id": "13712f05b4394cfc8d3117e21751afc3"
   },
   "source": [
    "# Variables"
   ]
  },
  {
   "cell_type": "markdown",
   "metadata": {
    "cell_id": "e5ce97515b984e64adcba0f47bd4eac6",
    "lambdacheck": {
     "layout": {
      "column_offset": 0,
      "column_span": 5,
      "row_span": 10
     }
    }
   },
   "source": [
    "TF Variables\n",
    "\n",
    "```python\n",
    "x = tf.Variable(...)\n",
    "\n",
    "x.assign(val)     # assigns a value to x.\n",
    "x.assign_add(val) # adds a value to x\n",
    "x.assign_sub(val) # subtracts a value from x\n",
    "```\n",
    "\n",
    "The value object can be a tf.Tensor or np.NDArray."
   ]
  },
  {
   "cell_type": "code",
   "execution_count": 29,
   "metadata": {
    "cell_id": "49e19bf9bb4a4d6d9b0d7284c3865656",
    "lambdacheck": {
     "layout": {
      "column_offset": 5,
      "column_span": 7
     }
    },
    "scrolled": true
   },
   "outputs": [
    {
     "name": "stdout",
     "output_type": "stream",
     "text": [
      "<tf.Variable 'Variable:0' shape=(2, 3) dtype=float64, numpy=\n",
      "array([[3.43109771, 4.17860116, 2.30910713],\n",
      "       [9.17218475, 8.40432219, 7.71850805]])>\n",
      "<tf.Variable 'Variable:0' shape=(2, 3) dtype=float64, numpy=\n",
      "array([[ 4.43109771,  5.17860116,  3.30910713],\n",
      "       [11.17218475, 10.40432219,  9.71850805]])>\n"
     ]
    }
   ],
   "source": [
    "print(x_tf)\n",
    "x_tf.assign_add(np.array([[1,1,1],\n",
    "                          [2,2,2]]))\n",
    "print(x_tf)"
   ]
  },
  {
   "cell_type": "markdown",
   "metadata": {
    "cell_id": "25ff3e87b4d44c68a80a27d74027743e"
   },
   "source": [
    "# Auto-differentiation"
   ]
  },
  {
   "cell_type": "markdown",
   "metadata": {
    "cell_id": "0784e94512b54e8d824f31467138688f",
    "lambdacheck": {
     "layout": {
      "column_offset": 0,
      "column_span": 5,
      "row_span": 10
     }
    }
   },
   "source": [
    "Describe a computational graph as a function using different TF APIs."
   ]
  },
  {
   "cell_type": "code",
   "execution_count": 33,
   "metadata": {
    "cell_id": "ea4c6cae3e5146bbabb3e9fcf5fe5dfa",
    "lambdacheck": {
     "layout": {
      "column_offset": 5,
      "column_span": 7
     }
    }
   },
   "outputs": [],
   "source": [
    "def f(y):\n",
    "    return tf.reduce_sum(y ** 2, axis=1)"
   ]
  },
  {
   "cell_type": "code",
   "execution_count": 36,
   "metadata": {
    "cell_id": "ea4c6cae3e5146bbabb3e9fcf5fe5dfa",
    "lambdacheck": {
     "layout": {
      "column_offset": 5,
      "column_span": 7
     }
    },
    "scrolled": true
   },
   "outputs": [
    {
     "name": "stdout",
     "output_type": "stream",
     "text": [
      "x =\n",
      "<tf.Variable 'Variable:0' shape=(2, 3) dtype=float64, numpy=\n",
      "array([[ 4.43109771,  5.17860116,  3.30910713],\n",
      "       [11.17218475, 10.40432219,  9.71850805]])>\n",
      "f(x) = \n",
      "tf.Tensor([ 57.4027269  327.51703108], shape=(2,), dtype=float64)\n"
     ]
    }
   ],
   "source": [
    "print(\"x =\")\n",
    "print(x_tf)\n",
    "print(\"f(x) = \")\n",
    "print(f(x_tf))"
   ]
  },
  {
   "cell_type": "markdown",
   "metadata": {
    "cell_id": "4cd27962357246f7b397cd1809835d05",
    "lambdacheck": {
     "layout": {
      "column_offset": 0,
      "column_span": 5,
      "row_span": 10
     }
    }
   },
   "source": [
    "The computational graph is:\n",
    "\n",
    "- $z = f(y)$\n",
    "- $z[0] - z[1]$\n",
    "- $\\|z[0] - z[1]\\|$"
   ]
  },
  {
   "cell_type": "code",
   "execution_count": 38,
   "metadata": {
    "cell_id": "0eadd7eb62254c4c8996bb702b9dd67e",
    "lambdacheck": {
     "layout": {
      "column_offset": 5,
      "column_span": 7
     }
    },
    "scrolled": true
   },
   "outputs": [
    {
     "name": "stdout",
     "output_type": "stream",
     "text": [
      "w =\n",
      "tf.Tensor(270.11430417850545, shape=(), dtype=float64)\n"
     ]
    }
   ],
   "source": [
    "z = f(x_tf)\n",
    "w = tf.abs(z[0] - z[1])\n",
    "\n",
    "print(\"w =\")\n",
    "print(w)"
   ]
  },
  {
   "cell_type": "markdown",
   "metadata": {
    "cell_id": "9436b7e0a7a64052ab8eced535a213e3",
    "lambdacheck": {
     "layout": {
      "column_offset": 0,
      "column_span": 5,
      "row_span": 10
     }
    }
   },
   "source": [
    "1. Create an auto-diff context.\n",
    "\n",
    "\n",
    "2. Perform all computations within the context.\n",
    "\n",
    "\n",
    "3. The context can keep track of gradients for us.\n",
    "\n",
    "---\n",
    "\n",
    "The tape object `t` can compute the gradient of **any** scalar tensor with respect to **any** tensorflow **Variable** objects."
   ]
  },
  {
   "cell_type": "code",
   "execution_count": 39,
   "metadata": {
    "cell_id": "fe52d97378a0482997d73ef6f55df690",
    "lambdacheck": {
     "layout": {
      "column_offset": 5,
      "column_span": 7
     }
    }
   },
   "outputs": [],
   "source": [
    "with tf.GradientTape() as t:\n",
    "    y = tf.abs(f(x_tf)[0] - f(x_tf)[1])"
   ]
  },
  {
   "cell_type": "code",
   "execution_count": 40,
   "metadata": {
    "cell_id": "fe52d97378a0482997d73ef6f55df690",
    "lambdacheck": {
     "layout": {
      "column_offset": 5,
      "column_span": 7
     }
    }
   },
   "outputs": [
    {
     "data": {
      "text/plain": [
       "<tf.Tensor: shape=(2, 3), dtype=float64, numpy=\n",
       "array([[ -8.86219542, -10.35720232,  -6.61821425],\n",
       "       [ 22.34436949,  20.80864438,  19.43701611]])>"
      ]
     },
     "execution_count": 40,
     "metadata": {},
     "output_type": "execute_result"
    }
   ],
   "source": [
    "# the tape context object t can compute the gradient\n",
    "# of w w.r.t. x_tf\n",
    "\n",
    "x_grad = t.gradient(y, x_tf)\n",
    "x_grad"
   ]
  }
 ],
 "metadata": {
  "celltoolbar": "λ.check",
  "kernelspec": {
   "display_name": "Python 3",
   "language": "python",
   "name": "python3"
  },
  "language_info": {
   "codemirror_mode": {
    "name": "ipython",
    "version": 3
   },
   "file_extension": ".py",
   "mimetype": "text/x-python",
   "name": "python",
   "nbconvert_exporter": "python",
   "pygments_lexer": "ipython3",
   "version": "3.8.6"
  }
 },
 "nbformat": 4,
 "nbformat_minor": 4
}
