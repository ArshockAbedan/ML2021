{
 "cells": [
  {
   "cell_type": "markdown",
   "metadata": {
    "cell_id": "b2fbbbe946434e88859ed8d534b5f5a4"
   },
   "source": [
    "# Convolution in 2D and Image Filtering"
   ]
  },
  {
   "cell_type": "code",
   "execution_count": 1,
   "metadata": {
    "cell_id": "fc205278f28241738673a6448591c36d"
   },
   "outputs": [],
   "source": [
    "import numpy as np\n",
    "import matplotlib.pyplot as pl\n",
    "import matplotlib.patches as patches\n",
    "\n",
    "import tensorflow.keras.datasets as datasets\n",
    "import tensorflow.keras.layers as layers"
   ]
  },
  {
   "cell_type": "code",
   "execution_count": 3,
   "metadata": {
    "cell_id": "afddb36a20024c098b6084b40f4e9a2d"
   },
   "outputs": [],
   "source": [
    "# Load the data\n",
    "\n",
    "dataset = datasets.mnist.load_data()\n",
    "\n",
    "(x_train, y_train), (x_test, y_test) = dataset\n",
    "x_train = x_train / 255.\n",
    "x_test = x_test / 255."
   ]
  },
  {
   "cell_type": "markdown",
   "metadata": {
    "cell_id": "d954e6f5a25d41f6ae82cce14b14d3b1"
   },
   "source": [
    "# Choose a kernel and image"
   ]
  },
  {
   "cell_type": "markdown",
   "metadata": {
    "cell_id": "cc86e382b754453cb9953ae52265a5af",
    "lambdacheck": {
     "layout": {
      "column_offset": 0,
      "column_span": 4,
      "row_span": 10
     }
    }
   },
   "source": [
    "Pick the image from the training data of MNIST."
   ]
  },
  {
   "cell_type": "code",
   "execution_count": 5,
   "metadata": {
    "cell_id": "e44817b5827d40fe8ec4ea2798c71edb",
    "lambdacheck": {
     "layout": {
      "column_offset": 4,
      "column_span": 8
     }
    }
   },
   "outputs": [
    {
     "data": {
      "image/png": "[encoded data removed]",
      "text/plain": [
       "<Figure size 432x288 with 1 Axes>"
      ]
     },
     "metadata": {
      "needs_background": "light"
     },
     "output_type": "display_data"
    }
   ],
   "source": [
    "x = x_train[0]\n",
    "\n",
    "pl.imshow(x, cmap='gray');"
   ]
  },
  {
   "cell_type": "markdown",
   "metadata": {
    "cell_id": "7e85f650f82f4a48b656ad8dcf9a5e54",
    "lambdacheck": {
     "layout": {
      "column_offset": 0,
      "column_span": 4,
      "row_span": 10
     }
    }
   },
   "source": [
    "Choose the kernel to be a 5x5 patch of the image."
   ]
  },
  {
   "cell_type": "code",
   "execution_count": 10,
   "metadata": {
    "cell_id": "ea460bbb5def49a289eb5e9925273706",
    "lambdacheck": {
     "layout": {
      "column_offset": 4,
      "column_span": 8
     }
    }
   },
   "outputs": [
    {
     "data": {
      "image/png": "[encoded data removed]",
      "text/plain": [
       "<Figure size 432x288 with 2 Axes>"
      ]
     },
     "metadata": {
      "needs_background": "light"
     },
     "output_type": "display_data"
    }
   ],
   "source": [
    "(c0, c1), (r0, r1) = (5, 10), (20, 25)\n",
    "kernel = x[r0:r1, c0:c1]\n",
    "\n",
    "pl.subplot(1, 2, 1)\n",
    "pl.imshow(x, cmap='gray')\n",
    "ax = pl.gca()\n",
    "ax.add_patch(patches.Rectangle((c0, r0), c1-c0, r1-r0,\n",
    "                               facecolor='none',\n",
    "                              edgecolor='red', linewidth=4))\n",
    "pl.subplot(1,2,2)\n",
    "pl.imshow(kernel, cmap='gray');"
   ]
  },
  {
   "cell_type": "markdown",
   "metadata": {
    "cell_id": "d35cf8dff67a40f180dff10c58695d1f"
   },
   "source": [
    "# Implement conv2d as a nested loop."
   ]
  },
  {
   "cell_type": "code",
   "execution_count": 13,
   "metadata": {
    "cell_id": "118f3b6846804ca98bdc28666106d396"
   },
   "outputs": [],
   "source": [
    "def conv2d(image, kernel):\n",
    "    (wi, hi) = image.shape\n",
    "    (wk, hk) = kernel.shape\n",
    "    (wc, hc) = (wi-wk+1, hi-hk+1)\n",
    "    conv = np.zeros((wc, hc))\n",
    "    for i in range(wc):\n",
    "        for j in range(hc):\n",
    "            region = image[i:i+wk, j:j+hk]\n",
    "            conv[i,j] = np.sum(region * kernel)\n",
    "    return conv"
   ]
  },
  {
   "cell_type": "markdown",
   "metadata": {
    "cell_id": "0c5749242ca14cd1ad261da76b8e44f1",
    "lambdacheck": {
     "layout": {
      "column_offset": 0,
      "column_span": 4,
      "row_span": 10
     }
    }
   },
   "source": [
    "Let's apply the kernel to the digit image."
   ]
  },
  {
   "cell_type": "code",
   "execution_count": 23,
   "metadata": {
    "cell_id": "56d07aca568a4e6db85997d8ffb7b97c",
    "lambdacheck": {
     "layout": {
      "column_offset": 4,
      "column_span": 8
     }
    }
   },
   "outputs": [
    {
     "data": {
      "image/png": "[encoded data removed]",
      "text/plain": [
       "<Figure size 432x288 with 1 Axes>"
      ]
     },
     "metadata": {
      "needs_background": "light"
     },
     "output_type": "display_data"
    }
   ],
   "source": [
    "result = conv2d(x, kernel)\n",
    "\n",
    "pl.imshow(result);"
   ]
  },
  {
   "cell_type": "code",
   "execution_count": 31,
   "metadata": {
    "cell_id": "493a34abc2664675849fe7efa1ba4953"
   },
   "outputs": [
    {
     "data": {
      "text/plain": [
       "<matplotlib.image.AxesImage at 0x7fc229f0be50>"
      ]
     },
     "execution_count": 31,
     "metadata": {},
     "output_type": "execute_result"
    },
    {
     "data": {
      "image/png": "[encoded data removed]",
      "text/plain": [
       "<Figure size 432x288 with 1 Axes>"
      ]
     },
     "metadata": {
      "needs_background": "light"
     },
     "output_type": "display_data"
    }
   ],
   "source": [
    "#\n",
    "# Let's find the kernel in other images\n",
    "#\n",
    "z = x_train[5]\n",
    "pl.imshow(conv2d(z, kernel) > 8)"
   ]
  },
  {
   "cell_type": "markdown",
   "metadata": {
    "cell_id": "36e5f88416214f7e806cceaf201852e6"
   },
   "source": [
    "# Learn how to use Keras Conv2D Layer"
   ]
  },
  {
   "cell_type": "markdown",
   "metadata": {
    "cell_id": "bf09d717e4784f628a69da43d4cd2b6b",
    "lambdacheck": {
     "layout": {
      "column_offset": 0,
      "column_span": 4,
      "row_span": 10
     }
    }
   },
   "source": [
    "Construct a Conv2D layer.\n",
    "\n",
    "- Use a single filter (aka kernel)\n",
    "- Kernel shape is (5x5)"
   ]
  },
  {
   "cell_type": "code",
   "execution_count": 32,
   "metadata": {
    "cell_id": "218ae4851cfe4d27b3f4d8b129b8d3fb",
    "lambdacheck": {
     "layout": {
      "column_offset": 4,
      "column_span": 8
     }
    }
   },
   "outputs": [],
   "source": [
    "conv2d = layers.Conv2D(filters=1, kernel_size=kernel.shape)"
   ]
  },
  {
   "cell_type": "code",
   "execution_count": 36,
   "metadata": {
    "cell_id": "218ae4851cfe4d27b3f4d8b129b8d3fb",
    "lambdacheck": {
     "layout": {
      "column_offset": 4,
      "column_span": 8
     }
    }
   },
   "outputs": [
    {
     "data": {
      "text/plain": [
       "TensorShape([1, 24, 24, 1])"
      ]
     },
     "execution_count": 36,
     "metadata": {},
     "output_type": "execute_result"
    }
   ],
   "source": [
    "y = conv2d(x.reshape(1, 28, 28, 1))\n",
    "y.shape"
   ]
  },
  {
   "cell_type": "code",
   "execution_count": 37,
   "metadata": {
    "cell_id": "218ae4851cfe4d27b3f4d8b129b8d3fb",
    "lambdacheck": {
     "layout": {
      "column_offset": 4,
      "column_span": 8
     }
    }
   },
   "outputs": [
    {
     "name": "stdout",
     "output_type": "stream",
     "text": [
      "p1.shape (5, 5, 1, 1)\n",
      "p2.shape (1,)\n"
     ]
    }
   ],
   "source": [
    "#\n",
    "# Conv2D comes with two parameters\n",
    "#\n",
    "p1, p2 = conv2d.get_weights()\n",
    "print(\"p1.shape\", p1.shape)\n",
    "print(\"p2.shape\", p2.shape)"
   ]
  },
  {
   "cell_type": "markdown",
   "metadata": {
    "cell_id": "32494ddccfa54f8182a01efc70d372d7",
    "lambdacheck": {
     "layout": {
      "column_offset": 0,
      "column_span": 4,
      "row_span": 10
     }
    }
   },
   "source": [
    "Set the Conv2D layer parameter to our own kernel."
   ]
  },
  {
   "cell_type": "code",
   "execution_count": 43,
   "metadata": {
    "cell_id": "49dd373bb5554b9c90aaf9662069f97c",
    "lambdacheck": {
     "layout": {
      "column_offset": 4,
      "column_span": 8
     }
    }
   },
   "outputs": [
    {
     "data": {
      "text/plain": [
       "<matplotlib.image.AxesImage at 0x7fc22a180fa0>"
      ]
     },
     "execution_count": 43,
     "metadata": {},
     "output_type": "execute_result"
    },
    {
     "data": {
      "image/png": "[encoded data removed]",
      "text/plain": [
       "<Figure size 432x288 with 1 Axes>"
      ]
     },
     "metadata": {
      "needs_background": "light"
     },
     "output_type": "display_data"
    }
   ],
   "source": [
    "conv2d.set_weights([kernel.reshape(5,5,1,1), np.array([0])])\n",
    "\n",
    "output = conv2d(x.reshape(1, 28, 28, 1))\n",
    "output = output.numpy().squeeze()\n",
    "\n",
    "pl.imshow(output)"
   ]
  },
  {
   "cell_type": "markdown",
   "metadata": {
    "cell_id": "b0e59bfe1e664afebb8b8ef4664d9b07"
   },
   "source": [
    "# "
   ]
  },
  {
   "cell_type": "code",
   "execution_count": 6,
   "metadata": {
    "cell_id": "758729d100644e8b89fa5d591600a6e8"
   },
   "outputs": [],
   "source": [
    "import tensorflow.keras as keras\n",
    "import pydot"
   ]
  },
  {
   "cell_type": "code",
   "execution_count": 7,
   "metadata": {
    "cell_id": "1abc5d5943fb4221b31bb0fa8b874131"
   },
   "outputs": [],
   "source": [
    "model = keras.models.Sequential([\n",
    "    keras.layers.Input(shape=(4,)),\n",
    "    keras.layers.Dense(10, activation='softmax')\n",
    "])"
   ]
  },
  {
   "cell_type": "code",
   "execution_count": 8,
   "metadata": {
    "cell_id": "da0abc645368425b8824b269e2addcc4"
   },
   "outputs": [
    {
     "name": "stdout",
     "output_type": "stream",
     "text": [
      "('Failed to import pydot. You must `pip install pydot` and install graphviz (https://graphviz.gitlab.io/download/), ', 'for `pydotprint` to work.')\n"
     ]
    }
   ],
   "source": [
    "keras.utils.plot_model(model)"
   ]
  },
  {
   "cell_type": "code",
   "execution_count": null,
   "metadata": {
    "cell_id": "2f31b598df954beba24eff98f678f72d"
   },
   "outputs": [],
   "source": []
  }
 ],
 "metadata": {
  "celltoolbar": "λ.check",
  "kernelspec": {
   "display_name": "Python 3",
   "language": "python",
   "name": "python3"
  },
  "language_info": {
   "codemirror_mode": {
    "name": "ipython",
    "version": 3
   },
   "file_extension": ".py",
   "mimetype": "text/x-python",
   "name": "python",
   "nbconvert_exporter": "python",
   "pygments_lexer": "ipython3",
   "version": "3.8.6"
  }
 },
 "nbformat": 4,
 "nbformat_minor": 4
}
