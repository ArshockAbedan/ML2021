{
 "cells": [
  {
   "cell_type": "markdown",
   "metadata": {
    "cell_id": "039534991e7445af8d9036fdd517318a"
   },
   "source": [
    "# Line Fitting Using Polynomial"
   ]
  },
  {
   "cell_type": "code",
   "execution_count": 1,
   "metadata": {
    "cell_id": "a3d32dafc57f487799ab01f049d8bb76"
   },
   "outputs": [],
   "source": [
    "import tensorflow as tf\n",
    "import numpy as np\n",
    "import matplotlib.pyplot as pl"
   ]
  },
  {
   "cell_type": "markdown",
   "metadata": {
    "cell_id": "7abd30047eca48c1bfb29e3b9e3afe1e",
    "lambdacheck": {
     "layout": {
      "column_offset": 0,
      "column_span": 4,
      "row_span": 10
     }
    }
   },
   "source": [
    "Generate some data"
   ]
  },
  {
   "cell_type": "code",
   "execution_count": 2,
   "metadata": {
    "cell_id": "873ec0edf61b4f018c4cf78981fbbcfc",
    "lambdacheck": {
     "layout": {
      "column_offset": 4,
      "column_span": 8
     }
    },
    "scrolled": true
   },
   "outputs": [
    {
     "data": {
      "image/png": "[encoded data removed]",
      "text/plain": [
       "<Figure size 432x288 with 1 Axes>"
      ]
     },
     "metadata": {
      "needs_background": "light"
     },
     "output_type": "display_data"
    }
   ],
   "source": [
    "x_data = np.linspace(0, 1, 10)\n",
    "y_data = 3 * x_data + np.sin(6*x_data) + 1.\n",
    "\n",
    "pl.plot(x_data, y_data, '--o');"
   ]
  },
  {
   "cell_type": "markdown",
   "metadata": {
    "cell_id": "f6542265470b4db78e9c3284b8c1c00f"
   },
   "source": [
    "# Model and its parameters"
   ]
  },
  {
   "cell_type": "markdown",
   "metadata": {
    "cell_id": "80a0c8b4b38a41bf9bcf61f216dfe4c8",
    "lambdacheck": {
     "layout": {
      "column_offset": 0,
      "column_span": 4,
      "row_span": 10
     }
    }
   },
   "source": [
    "**Compute the power series of $x$**"
   ]
  },
  {
   "cell_type": "code",
   "execution_count": 8,
   "metadata": {
    "cell_id": "caf130f6f13247e18678ef51930e995b",
    "lambdacheck": {
     "layout": {
      "column_offset": 4,
      "column_span": 8
     }
    }
   },
   "outputs": [],
   "source": [
    "K = 5\n",
    "def series(x):\n",
    "    powers = np.zeros((len(x), K+1))\n",
    "    for i in range(K+1):\n",
    "        powers[:, i] = np.power(x, i)\n",
    "    return powers"
   ]
  },
  {
   "cell_type": "markdown",
   "metadata": {
    "cell_id": "c2a72e6d955b460e8afc9ee79c046980",
    "lambdacheck": {
     "layout": {
      "column_offset": 0,
      "column_span": 4,
      "row_span": 10
     }
    }
   },
   "source": [
    "**Model and parameters**\n",
    "\n",
    "$$f(x) = \\sum_{i=0}^k a_i x^i $$\n",
    "\n",
    "The model parameters will be:\n",
    "\n",
    "$$\\theta = [a_0, a_1, \\dots, a_k]$$"
   ]
  },
  {
   "cell_type": "code",
   "execution_count": 12,
   "metadata": {
    "cell_id": "e1090e55ec8e4352a40fd25508247bb5",
    "lambdacheck": {
     "layout": {
      "column_offset": 4,
      "column_span": 8
     }
    }
   },
   "outputs": [],
   "source": [
    "theta = [\n",
    "    tf.Variable(np.random.randn(K+1, 1), dtype=tf.float64)\n",
    "]\n",
    "\n",
    "def f(x):\n",
    "    w = theta[0]\n",
    "    return tf.squeeze(series(x) @ w)"
   ]
  },
  {
   "cell_type": "markdown",
   "metadata": {
    "cell_id": "a1eb694bc60d4b72ba3d8d2d3de41b53"
   },
   "source": [
    "# Loss Function"
   ]
  },
  {
   "cell_type": "markdown",
   "metadata": {
    "cell_id": "89b39e67aaf94a5aaa37822f33216faf",
    "lambdacheck": {
     "layout": {
      "column_offset": 0,
      "column_span": 4,
      "row_span": 10
     }
    }
   },
   "source": [
    "We will use a TensorFlow built-in loss function.\n",
    "\n",
    "```\n",
    "loss(y_true, y_pred)\n",
    "```"
   ]
  },
  {
   "cell_type": "code",
   "execution_count": 14,
   "metadata": {
    "cell_id": "efc46d1862c74e81a76c749bf420e090",
    "lambdacheck": {
     "layout": {
      "column_offset": 4,
      "column_span": 8
     }
    }
   },
   "outputs": [],
   "source": [
    "loss = tf.keras.losses.MeanSquaredError()"
   ]
  },
  {
   "cell_type": "markdown",
   "metadata": {
    "cell_id": "76661a85bfc34de384722b6ee8a69c34"
   },
   "source": [
    "# Optimizer"
   ]
  },
  {
   "cell_type": "markdown",
   "metadata": {
    "cell_id": "850162345eac43708b09b36a8052a1a9",
    "lambdacheck": {
     "layout": {
      "column_offset": 0,
      "column_span": 4,
      "row_span": 10
     }
    }
   },
   "source": [
    "We can use a built-in optimizer.\n",
    "\n",
    "All TensorFlow optimizers have a method:\n",
    "\n",
    "```\n",
    "optimizer.apply_gradients([\n",
    "    (grad_1, var_1),\n",
    "    (grad_2, var_2),\n",
    "    ...\n",
    "    (grad_n, var_n),\n",
    "])\n",
    "```"
   ]
  },
  {
   "cell_type": "code",
   "execution_count": 16,
   "metadata": {
    "cell_id": "090d8f6e7317418fb9bba79d248f3496",
    "lambdacheck": {
     "layout": {
      "column_offset": 4,
      "column_span": 8
     }
    }
   },
   "outputs": [],
   "source": [
    "optimizer = tf.keras.optimizers.Adam()"
   ]
  },
  {
   "cell_type": "code",
   "execution_count": 19,
   "metadata": {
    "cell_id": "090d8f6e7317418fb9bba79d248f3496",
    "lambdacheck": {
     "layout": {
      "column_offset": 4,
      "column_span": 8
     }
    }
   },
   "outputs": [
    {
     "name": "stdout",
     "output_type": "stream",
     "text": [
      "L0 = tf.Tensor(7.698572635650635, shape=(), dtype=float64)\n",
      "L = tf.Tensor(7.684348106384277, shape=(), dtype=float64)\n"
     ]
    }
   ],
   "source": [
    "## To illustrate now an optimizer works\n",
    "L0 = loss(y_data, f(x_data))\n",
    "print(\"L0 =\", L0)\n",
    "\n",
    "with tf.GradientTape() as tape:\n",
    "    L = loss(y_data, f(x_data))\n",
    "\n",
    "grads = tape.gradient(L, theta)\n",
    "optimizer.apply_gradients(zip(grads, theta))\n",
    "\n",
    "L = loss(y_data, f(x_data))\n",
    "print(\"L =\", L)"
   ]
  },
  {
   "cell_type": "markdown",
   "metadata": {
    "cell_id": "fa70ad17d17249e5b747ffd67b33cb4b"
   },
   "source": [
    "# Training"
   ]
  },
  {
   "cell_type": "code",
   "execution_count": 25,
   "metadata": {
    "cell_id": "d9604100a106402da7baf16ed61ccc8b",
    "lambdacheck": {
     "layout": {
      "column_offset": 0,
      "column_span": 6,
      "row_span": 10
     }
    }
   },
   "outputs": [
    {
     "name": "stdout",
     "output_type": "stream",
     "text": [
      "[00] 5.32\n",
      "[2000] 0.20\n",
      "[4000] 0.18\n",
      "[6000] 0.15\n",
      "[8000] 0.10\n",
      "[10000] 0.06\n",
      "[12000] 0.03\n",
      "[14000] 0.02\n",
      "[16000] 0.02\n",
      "[18000] 0.01\n"
     ]
    }
   ],
   "source": [
    "def train(epochs):\n",
    "    # initialize the model parameters\n",
    "    theta[0].assign(np.random.randn(K+1, 1))\n",
    "    \n",
    "    # Training loop\n",
    "    for i in range(epochs):\n",
    "        with tf.GradientTape() as tape:\n",
    "            L = loss(y_data, f(x_data))\n",
    "        grads = tape.gradient(L, theta)\n",
    "        optimizer.apply_gradients(zip(grads,theta))\n",
    "        \n",
    "        if(i % (epochs // 10)) == 0:\n",
    "            L = loss(y_data, f(x_data))\n",
    "            print(\"[%.2d] %.2f\" % (i, L))\n",
    "\n",
    "train(20000)"
   ]
  },
  {
   "cell_type": "code",
   "execution_count": 26,
   "metadata": {
    "cell_id": "ec3b1ffca05b4f8a81134c66338ca226",
    "lambdacheck": {
     "layout": {
      "column_offset": 6,
      "column_span": 6
     }
    },
    "scrolled": true
   },
   "outputs": [
    {
     "data": {
      "image/png": "[encoded data removed]",
      "text/plain": [
       "<Figure size 432x288 with 1 Axes>"
      ]
     },
     "metadata": {
      "needs_background": "light"
     },
     "output_type": "display_data"
    }
   ],
   "source": [
    "pl.plot(x_data, y_data, 'o')\n",
    "pl.plot(x_data, f(x_data), '--', color='red');"
   ]
  },
  {
   "cell_type": "code",
   "execution_count": null,
   "metadata": {
    "cell_id": "405018406c094d4c8a528a4c3192e294"
   },
   "outputs": [],
   "source": []
  }
 ],
 "metadata": {
  "celltoolbar": "λ.check",
  "kernelspec": {
   "display_name": "Python 3",
   "language": "python",
   "name": "python3"
  },
  "language_info": {
   "codemirror_mode": {
    "name": "ipython",
    "version": 3
   },
   "file_extension": ".py",
   "mimetype": "text/x-python",
   "name": "python",
   "nbconvert_exporter": "python",
   "pygments_lexer": "ipython3",
   "version": "3.8.6"
  }
 },
 "nbformat": 4,
 "nbformat_minor": 4
}
