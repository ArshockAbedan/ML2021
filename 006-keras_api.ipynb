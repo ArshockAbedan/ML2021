{
 "cells": [
  {
   "cell_type": "markdown",
   "metadata": {
    "cell_id": "f15211beebb94ec9865ad8422214f226"
   },
   "source": [
    "# Introduction to Basic Elements of Keras API"
   ]
  },
  {
   "cell_type": "code",
   "execution_count": 3,
   "metadata": {
    "cell_id": "afa9b5d3f19d498d8c8908968ffcca8b"
   },
   "outputs": [],
   "source": [
    "import tensorflow as tf\n",
    "import tensorflow.keras as keras\n",
    "import tensorflow.keras.layers as layers\n",
    "import tensorflow.keras.models as models\n",
    "import tensorflow.keras.losses as losses\n",
    "import tensorflow.keras.optimizers as optimizers\n",
    "\n",
    "import numpy as np\n",
    "import matplotlib.pyplot as pl"
   ]
  },
  {
   "cell_type": "markdown",
   "metadata": {
    "cell_id": "6ba3eac6808b40c18862bcd8a4ba5d1b"
   },
   "source": [
    "## Layers"
   ]
  },
  {
   "cell_type": "markdown",
   "metadata": {
    "cell_id": "15843e4dfb81459e87f92dc54c45ab61",
    "lambdacheck": {
     "layout": {
      "column_offset": 0,
      "column_span": 4,
      "row_span": 10
     }
    }
   },
   "source": [
    "**Dense Layer**\n",
    "\n",
    "- Transformation from $\\mathbb{R}^n$ to $\\mathbb{R}^m$.\n",
    "\n",
    "- Parameters:\n",
    "  - $w : (m, n)$\n",
    "  - $b : (m,)$\n",
    "  \n",
    "- Output: $y = w\\times x + b$\n",
    "  where $x$ is the input, and $y$ is the\n",
    "  output of the layer.\n"
   ]
  },
  {
   "cell_type": "code",
   "execution_count": 4,
   "metadata": {
    "cell_id": "33828ffff9b747798291f1432df3894b",
    "lambdacheck": {
     "layout": {
      "column_offset": 4,
      "column_span": 8
     }
    }
   },
   "outputs": [],
   "source": [
    "#\n",
    "# Create a dense layer by specifying the output dimension.\n",
    "#\n",
    "\n",
    "dense = layers.Dense(5)"
   ]
  },
  {
   "cell_type": "code",
   "execution_count": 8,
   "metadata": {
    "cell_id": "33828ffff9b747798291f1432df3894b",
    "lambdacheck": {
     "layout": {
      "column_offset": 4,
      "column_span": 8
     }
    }
   },
   "outputs": [
    {
     "data": {
      "text/plain": [
       "array([[1., 1., 1., 1., 1., 1., 1., 1., 1., 1.],\n",
       "       [1., 1., 1., 1., 1., 1., 1., 1., 1., 1.],\n",
       "       [1., 1., 1., 1., 1., 1., 1., 1., 1., 1.],\n",
       "       [1., 1., 1., 1., 1., 1., 1., 1., 1., 1.]])"
      ]
     },
     "execution_count": 8,
     "metadata": {},
     "output_type": "execute_result"
    }
   ],
   "source": [
    "#\n",
    "# The input vector dimension will be 10.\n",
    "# We will need to generate a BATCH of four vectors.\n",
    "#\n",
    "batch = np.ones((4, 10))\n",
    "batch"
   ]
  },
  {
   "cell_type": "code",
   "execution_count": 9,
   "metadata": {
    "cell_id": "33828ffff9b747798291f1432df3894b",
    "lambdacheck": {
     "layout": {
      "column_offset": 4,
      "column_span": 8
     }
    }
   },
   "outputs": [
    {
     "data": {
      "text/plain": [
       "<tf.Tensor: shape=(4, 5), dtype=float32, numpy=\n",
       "array([[-0.81755584, -0.92327225,  0.63487506,  1.1834128 , -0.4795947 ],\n",
       "       [-0.81755584, -0.92327225,  0.63487506,  1.1834128 , -0.4795947 ],\n",
       "       [-0.81755584, -0.92327225,  0.63487506,  1.1834128 , -0.4795947 ],\n",
       "       [-0.81755584, -0.92327225,  0.63487506,  1.1834128 , -0.4795947 ]],\n",
       "      dtype=float32)>"
      ]
     },
     "execution_count": 9,
     "metadata": {},
     "output_type": "execute_result"
    }
   ],
   "source": [
    "#\n",
    "# Apply the dense layer to the batch.\n",
    "#\n",
    "dense(batch)"
   ]
  },
  {
   "cell_type": "code",
   "execution_count": 10,
   "metadata": {
    "cell_id": "33828ffff9b747798291f1432df3894b",
    "lambdacheck": {
     "layout": {
      "column_offset": 4,
      "column_span": 8
     }
    },
    "scrolled": true
   },
   "outputs": [
    {
     "data": {
      "text/plain": [
       "[<tf.Variable 'dense/kernel:0' shape=(10, 5) dtype=float32, numpy=\n",
       " array([[ 0.24835563, -0.59119767,  0.57843155,  0.45029408, -0.30460855],\n",
       "        [ 0.23567843,  0.16287762, -0.3743633 ,  0.36210388,  0.11524272],\n",
       "        [-0.0648849 , -0.24838516, -0.10460079, -0.17434514, -0.32006925],\n",
       "        [-0.538087  , -0.21029508, -0.5050446 ,  0.5601223 , -0.04609597],\n",
       "        [-0.60266215, -0.39740434,  0.21631396,  0.15604413, -0.36941984],\n",
       "        [-0.25786376,  0.3372205 ,  0.23038954,  0.13541377,  0.31834245],\n",
       "        [ 0.1764316 , -0.22076029,  0.49660856, -0.43088692,  0.02457714],\n",
       "        [-0.13360131,  0.4442956 ,  0.5118453 , -0.0025456 ,  0.46391672],\n",
       "        [-0.22177449, -0.47575527, -0.32906234, -0.19013515, -0.61437154],\n",
       "        [ 0.34085208,  0.27613187, -0.08564281,  0.31734735,  0.25289136]],\n",
       "       dtype=float32)>,\n",
       " <tf.Variable 'dense/bias:0' shape=(5,) dtype=float32, numpy=array([0., 0., 0., 0., 0.], dtype=float32)>]"
      ]
     },
     "execution_count": 10,
     "metadata": {},
     "output_type": "execute_result"
    }
   ],
   "source": [
    "#\n",
    "# We can examine the model parameters\n",
    "#\n",
    "dense.weights"
   ]
  },
  {
   "cell_type": "markdown",
   "metadata": {
    "cell_id": "960c34bbc06349c4890a87f2581eea48",
    "lambdacheck": {
     "layout": {
      "column_offset": 0,
      "column_span": 4,
      "row_span": 10
     }
    }
   },
   "source": [
    "**Activation**\n",
    "\n",
    "- No parameters\n",
    "- Does not change the shape of the input."
   ]
  },
  {
   "cell_type": "code",
   "execution_count": 21,
   "metadata": {
    "cell_id": "15e8f2d18935407c8a5f3374eb5468e2",
    "lambdacheck": {
     "layout": {
      "column_offset": 4,
      "column_span": 8
     }
    }
   },
   "outputs": [
    {
     "data": {
      "image/png": "[encoded data removed]",
      "text/plain": [
       "<Figure size 432x288 with 1 Axes>"
      ]
     },
     "metadata": {
      "needs_background": "light"
     },
     "output_type": "display_data"
    }
   ],
   "source": [
    "import tensorflow.keras.activations as activations\n",
    "\n",
    "x_input = np.linspace(-10, 10, 10)\n",
    "x_output = activations.sigmoid(x_input).numpy()\n",
    "pl.plot(x_input, x_output);"
   ]
  },
  {
   "cell_type": "code",
   "execution_count": 22,
   "metadata": {
    "cell_id": "15e8f2d18935407c8a5f3374eb5468e2",
    "lambdacheck": {
     "layout": {
      "column_offset": 4,
      "column_span": 8
     }
    }
   },
   "outputs": [
    {
     "data": {
      "image/png": "[encoded data removed]",
      "text/plain": [
       "<Figure size 432x288 with 1 Axes>"
      ]
     },
     "metadata": {
      "needs_background": "light"
     },
     "output_type": "display_data"
    }
   ],
   "source": [
    "import tensorflow.keras.activations as activations\n",
    "\n",
    "x_input = np.linspace(-10, 10, 10)\n",
    "x_output = activations.relu(x_input).numpy()\n",
    "pl.plot(x_input, x_output);"
   ]
  },
  {
   "cell_type": "code",
   "execution_count": 23,
   "metadata": {
    "cell_id": "15e8f2d18935407c8a5f3374eb5468e2",
    "lambdacheck": {
     "layout": {
      "column_offset": 4,
      "column_span": 8
     }
    }
   },
   "outputs": [
    {
     "data": {
      "image/png": "[encoded data removed]",
      "text/plain": [
       "<Figure size 432x288 with 1 Axes>"
      ]
     },
     "metadata": {
      "needs_background": "light"
     },
     "output_type": "display_data"
    }
   ],
   "source": [
    "import tensorflow.keras.activations as activations\n",
    "\n",
    "x_input = np.linspace(-10, 10, 10)\n",
    "x_output = activations.tanh(x_input).numpy()\n",
    "pl.plot(x_input, x_output);"
   ]
  },
  {
   "cell_type": "markdown",
   "metadata": {
    "cell_id": "0973a3afb46e492e83f65bddea18429b"
   },
   "source": [
    "# The Data"
   ]
  },
  {
   "cell_type": "markdown",
   "metadata": {
    "cell_id": "dd446ae046aa4c47826d9879a9cfd934",
    "lambdacheck": {
     "layout": {
      "column_offset": 0,
      "column_span": 4,
      "row_span": 10
     }
    }
   },
   "source": [
    "Load the data"
   ]
  },
  {
   "cell_type": "code",
   "execution_count": 29,
   "metadata": {
    "cell_id": "b7cd0b7d15574b26877a0eb0ad3ca4fe",
    "lambdacheck": {
     "layout": {
      "column_offset": 4,
      "column_span": 8
     }
    }
   },
   "outputs": [
    {
     "data": {
      "text/plain": [
       "[<matplotlib.lines.Line2D at 0x7f80e07d33d0>]"
      ]
     },
     "execution_count": 29,
     "metadata": {},
     "output_type": "execute_result"
    },
    {
     "data": {
      "image/png": "[encoded data removed]",
      "text/plain": [
       "<Figure size 432x288 with 1 Axes>"
      ]
     },
     "metadata": {
      "needs_background": "light"
     },
     "output_type": "display_data"
    }
   ],
   "source": [
    "data = np.loadtxt('./line_fitting_data.csv', delimiter=',', skiprows=1)\n",
    "x_data = data[:, 0]\n",
    "y_data = data[:, 1]\n",
    "pl.plot(x_data, y_data, '.')"
   ]
  },
  {
   "cell_type": "markdown",
   "metadata": {
    "cell_id": "5cc3c505cd9e428d88070e5c7172de23"
   },
   "source": [
    "# Building Keras Model"
   ]
  },
  {
   "cell_type": "markdown",
   "metadata": {
    "cell_id": "d45623c5768d4c1e86a2caad01940027",
    "lambdacheck": {
     "layout": {
      "column_offset": 0,
      "column_span": 4,
      "row_span": 10
     }
    }
   },
   "source": [
    "Build a sequential model with just one processing layer."
   ]
  },
  {
   "cell_type": "code",
   "execution_count": 43,
   "metadata": {
    "cell_id": "f6d1706f4ba34efdb69509a3400a2755",
    "lambdacheck": {
     "layout": {
      "column_offset": 4,
      "column_span": 8
     }
    }
   },
   "outputs": [],
   "source": [
    "model = models.Sequential([\n",
    "    layers.Input(shape=(1,)),\n",
    "    layers.Dense(1),\n",
    "])\n",
    "\n",
    "model.compile(\n",
    "    loss=losses.MeanSquaredError(),\n",
    "    optimizer=optimizers.Adam(learning_rate=1e-1),\n",
    ")"
   ]
  },
  {
   "cell_type": "markdown",
   "metadata": {
    "cell_id": "c4f49e29ab054e75bbcd446a72625173",
    "lambdacheck": {
     "layout": {
      "column_offset": 0,
      "column_span": 4,
      "row_span": 10
     }
    }
   },
   "source": [
    "Inspect the model"
   ]
  },
  {
   "cell_type": "code",
   "execution_count": 44,
   "metadata": {
    "cell_id": "c19b6e3197424750954fe7f3e972a796",
    "lambdacheck": {
     "layout": {
      "column_offset": 4,
      "column_span": 8
     }
    }
   },
   "outputs": [
    {
     "name": "stdout",
     "output_type": "stream",
     "text": [
      "Model: \"sequential_4\"\n",
      "_________________________________________________________________\n",
      "Layer (type)                 Output Shape              Param #   \n",
      "=================================================================\n",
      "dense_5 (Dense)              (None, 1)                 2         \n",
      "=================================================================\n",
      "Total params: 2\n",
      "Trainable params: 2\n",
      "Non-trainable params: 0\n",
      "_________________________________________________________________\n"
     ]
    }
   ],
   "source": [
    "model.summary()"
   ]
  },
  {
   "cell_type": "markdown",
   "metadata": {
    "cell_id": "93423d2ff258433d8f6528c13e520cb1"
   },
   "source": [
    "# Training"
   ]
  },
  {
   "cell_type": "markdown",
   "metadata": {
    "cell_id": "04870d561953414a9d82ce5724290b12",
    "lambdacheck": {
     "layout": {
      "column_offset": 0,
      "column_span": 4,
      "row_span": 10
     }
    }
   },
   "source": [
    "Keras model uses the `fit` method for training.\n",
    "\n",
    "It uses the `evaluate` method for evaluation.\n",
    "\n",
    "It uses the `predict` method for performing prediction with a trained model."
   ]
  },
  {
   "cell_type": "code",
   "execution_count": 53,
   "metadata": {
    "cell_id": "7272bdd230184cab88f0e23f4b4e2b4c",
    "lambdacheck": {
     "layout": {
      "column_offset": 4,
      "column_span": 8
     }
    }
   },
   "outputs": [
    {
     "name": "stdout",
     "output_type": "stream",
     "text": [
      "Epoch 1/10\n",
      "4/4 [==============================] - 0s 1ms/step - loss: 22.9496\n",
      "Epoch 2/10\n",
      "4/4 [==============================] - 0s 815us/step - loss: 22.8857\n",
      "Epoch 3/10\n",
      "4/4 [==============================] - 0s 825us/step - loss: 22.8121\n",
      "Epoch 4/10\n",
      "4/4 [==============================] - 0s 817us/step - loss: 22.7445\n",
      "Epoch 5/10\n",
      "4/4 [==============================] - 0s 838us/step - loss: 22.6768\n",
      "Epoch 6/10\n",
      "4/4 [==============================] - 0s 819us/step - loss: 22.6013\n",
      "Epoch 7/10\n",
      "4/4 [==============================] - 0s 888us/step - loss: 22.5417\n",
      "Epoch 8/10\n",
      "4/4 [==============================] - 0s 907us/step - loss: 22.4701\n",
      "Epoch 9/10\n",
      "4/4 [==============================] - 0s 763us/step - loss: 22.3789\n",
      "Epoch 10/10\n",
      "4/4 [==============================] - 0s 819us/step - loss: 22.2723\n"
     ]
    },
    {
     "data": {
      "text/plain": [
       "<tensorflow.python.keras.callbacks.History at 0x7f80e03a6b80>"
      ]
     },
     "execution_count": 53,
     "metadata": {},
     "output_type": "execute_result"
    }
   ],
   "source": [
    "model.fit(x_data, y_data, epochs=10, batch_size=32)"
   ]
  },
  {
   "cell_type": "markdown",
   "metadata": {
    "cell_id": "c80d39f8867b492382c840e6586568dd"
   },
   "source": [
    "# Use the model for prediction"
   ]
  },
  {
   "cell_type": "markdown",
   "metadata": {
    "cell_id": "77356cc657f248299a035dc428f46705",
    "lambdacheck": {
     "layout": {
      "column_offset": 0,
      "column_span": 4,
      "row_span": 10
     }
    }
   },
   "source": [
    "The `.predict` method computes the model output for a given **batch** of input."
   ]
  },
  {
   "cell_type": "code",
   "execution_count": 55,
   "metadata": {
    "cell_id": "fb0eab2bf7aa43869648e15b427cfa12",
    "lambdacheck": {
     "layout": {
      "column_offset": 4,
      "column_span": 8
     }
    }
   },
   "outputs": [],
   "source": [
    "y_pred = model.predict(x_data)"
   ]
  },
  {
   "cell_type": "code",
   "execution_count": 57,
   "metadata": {
    "cell_id": "fb0eab2bf7aa43869648e15b427cfa12",
    "lambdacheck": {
     "layout": {
      "column_offset": 4,
      "column_span": 8
     }
    }
   },
   "outputs": [
    {
     "data": {
      "text/plain": [
       "[<matplotlib.lines.Line2D at 0x7f80e0398b20>]"
      ]
     },
     "execution_count": 57,
     "metadata": {},
     "output_type": "execute_result"
    },
    {
     "data": {
      "image/png": "[encoded data removed]",
      "text/plain": [
       "<Figure size 432x288 with 1 Axes>"
      ]
     },
     "metadata": {
      "needs_background": "light"
     },
     "output_type": "display_data"
    }
   ],
   "source": [
    "pl.plot(x_data, y_data, '.', color='#ccc')\n",
    "pl.plot(x_data, y_pred, '--', color='black')"
   ]
  },
  {
   "cell_type": "code",
   "execution_count": null,
   "metadata": {
    "cell_id": "2919099f98f247df8a2f3b886d7bcfed"
   },
   "outputs": [],
   "source": []
  }
 ],
 "metadata": {
  "celltoolbar": "λ.check",
  "kernelspec": {
   "display_name": "Python 3",
   "language": "python",
   "name": "python3"
  },
  "language_info": {
   "codemirror_mode": {
    "name": "ipython",
    "version": 3
   },
   "file_extension": ".py",
   "mimetype": "text/x-python",
   "name": "python",
   "nbconvert_exporter": "python",
   "pygments_lexer": "ipython3",
   "version": "3.8.6"
  }
 },
 "nbformat": 4,
 "nbformat_minor": 4
}
